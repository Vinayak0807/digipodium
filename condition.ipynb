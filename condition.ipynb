{
 "cells": [
  {
   "cell_type": "code",
   "execution_count": 2,
   "metadata": {},
   "outputs": [
    {
     "name": "stdout",
     "output_type": "stream",
     "text": [
      "a is greater than b\n",
      "hum b se bade hai\n"
     ]
    }
   ],
   "source": [
    "a = int(input('enter a'))\n",
    "b = int(input('enter b'))\n",
    "if a>b:\n",
    "    print('a is greater than b')\n",
    "    print('hum b se bade hai')\n",
    "else:\n",
    "    print('b is greater than a')    \n"
   ]
  },
  {
   "cell_type": "code",
   "execution_count": 4,
   "metadata": {},
   "outputs": [
    {
     "name": "stdout",
     "output_type": "stream",
     "text": [
      "a is even number\n"
     ]
    }
   ],
   "source": [
    "#program to check if a number is even or odd\n",
    "a =int(input(\"enter a number\"))\n",
    "if a%2==0:\n",
    "    print(\"a is even number\") \n",
    "else:\n",
    "    print(\"a is not even number\")"
   ]
  },
  {
   "attachments": {},
   "cell_type": "markdown",
   "metadata": {},
   "source": []
  },
  {
   "cell_type": "code",
   "execution_count": 8,
   "metadata": {},
   "outputs": [
    {
     "name": "stdout",
     "output_type": "stream",
     "text": [
      "grade b\n"
     ]
    }
   ],
   "source": [
    "#program to display the grade grom marks\n",
    "marks = int(input(\"enter a marks\"))\n",
    "if marks >90:\n",
    "    print(\"grade a\")\n",
    "elif marks>70:\n",
    "    print(\"grade b\")\n",
    "elif marks >60:\n",
    "    print(\"grade c\")\n",
    "else:\n",
    "    print(\"tumse na ho paega\")        "
   ]
  },
  {
   "cell_type": "code",
   "execution_count": 13,
   "metadata": {},
   "outputs": [
    {
     "name": "stdout",
     "output_type": "stream",
     "text": [
      "invalid number\n"
     ]
    }
   ],
   "source": [
    "marks = int(input(\"enter a marks\"))\n",
    "if marks >90 and marks <=100:\n",
    "    print(\"grade a\")\n",
    "elif marks>70 and marks<90:\n",
    "    print(\"grade b\")\n",
    "elif marks >60 and marks<70:\n",
    "    print(\"grade c\")\n",
    "elif marks>=0 and marks<50:\n",
    "    print(\"tumse na ho paega\") \n",
    "else:\n",
    "    print(\"invalid number\")\n",
    "        "
   ]
  },
  {
   "cell_type": "code",
   "execution_count": 14,
   "metadata": {},
   "outputs": [
    {
     "name": "stdout",
     "output_type": "stream",
     "text": [
      "number is divisible by 7 \n"
     ]
    }
   ],
   "source": [
    "#program to chek if number is divisible by 7 or 11 \n",
    "num=int(input('enter a number'))\n",
    "if num%7==0 and num%11==0:\n",
    "    print(\"number is divisible by 7 and 11\")\n",
    "elif num%7==0:\n",
    "    print(\"number is divisible by 7 \")    \n",
    "elif num%11==0:\n",
    "    print(\"number is divisible by 11\")    \n",
    "else:\n",
    "    print(\"number is not divisible by 7 and 11\")\n",
    "        \n"
   ]
  },
  {
   "cell_type": "code",
   "execution_count": 8,
   "metadata": {},
   "outputs": [
    {
     "name": "stdout",
     "output_type": "stream",
     "text": [
      "number is not an perfect square\n"
     ]
    }
   ],
   "source": [
    "#program to check number is perfect square or not \n",
    "n=float(input('enter a number'))\n",
    "sqrt = n**0.5\n",
    "if sqrt==int(sqrt):\n",
    "    print('number is a perfect square')\n",
    "else:\n",
    "    print('number is not an perfect square')\n",
    "\n"
   ]
  },
  {
   "cell_type": "code",
   "execution_count": 2,
   "metadata": {},
   "outputs": [
    {
     "name": "stdout",
     "output_type": "stream",
     "text": [
      "4.0\n"
     ]
    }
   ],
   "source": [
    "no=16\n",
    "so=no**0.5\n",
    "print(so)"
   ]
  },
  {
   "cell_type": "code",
   "execution_count": 14,
   "metadata": {},
   "outputs": [
    {
     "name": "stdout",
     "output_type": "stream",
     "text": [
      "the given angle does not make a triangle\n"
     ]
    }
   ],
   "source": [
    "#programm to check if triangle is possible by taking triangle input\n",
    "angle1=int(input(\"enter a value\"))\n",
    "angle2=int(input(\"enter a value\"))\n",
    "angle3=int(input(\"enter a value\"))\n",
    "if angle1+angle2+angle3==180:\n",
    "    print('the given angles make a triangle')\n",
    "else:\n",
    "    print(\"the given angles does not make a triangle\")    "
   ]
  },
  {
   "cell_type": "code",
   "execution_count": 6,
   "metadata": {},
   "outputs": [
    {
     "name": "stdout",
     "output_type": "stream",
     "text": [
      "invalid value\n"
     ]
    }
   ],
   "source": [
    "#programm to check an angle input by user is acute,right,obtuse or straight or invalid angle\n",
    "angle4=int(input(\"enter a value\"))\n",
    "if angle4<90 and angle4>0:\n",
    "    print(\" acute angle triangle\")\n",
    "elif angle4==90:\n",
    "    print(\"right angle triangle\")\n",
    "elif angle4>90 and angle4<199:\n",
    "    print(\"obtuse angle\")\n",
    "elif angle4==180:\n",
    "    print('straight line')\n",
    "else:\n",
    "    print('invalid value')  \n",
    "\n",
    "    \n"
   ]
  },
  {
   "cell_type": "code",
   "execution_count": 5,
   "metadata": {},
   "outputs": [
    {
     "name": "stdout",
     "output_type": "stream",
     "text": [
      "cold temperature\n"
     ]
    }
   ],
   "source": [
    "#program to set a diferent messages at different temperature\n",
    "tem= int(input(\"enter a temperature\"))\n",
    "if tem<=15:\n",
    "    print(\"cold temperature\")\n",
    "elif tem<=32:\n",
    "    print(\"normal temperature\")\n",
    "elif tem<=40:\n",
    "    print(\"hot temperature\")\n",
    "elif tem<=50:\n",
    "    print('very hot temperature')\n",
    "else:\n",
    "    print ('to hot to measure')        \n",
    "\n"
   ]
  },
  {
   "cell_type": "code",
   "execution_count": 1,
   "metadata": {},
   "outputs": [
    {
     "name": "stdout",
     "output_type": "stream",
     "text": [
      "incorrect password \n"
     ]
    }
   ],
   "source": [
    "password=int(input(\"enter your pssword\"))\n",
    "if password==1236:\n",
    "    print(\"welcome to nothing\")\n",
    "else:\n",
    "    print(\"incorrect password \")"
   ]
  },
  {
   "cell_type": "code",
   "execution_count": null,
   "metadata": {},
   "outputs": [],
   "source": [
    "num1=100\n",
    "if num1>40:\n",
    "    print(\"num1 is greater than 40\")\n",
    "    "
   ]
  },
  {
   "cell_type": "code",
   "execution_count": null,
   "metadata": {},
   "outputs": [],
   "source": [
    "#nested if condition\n"
   ]
  },
  {
   "cell_type": "code",
   "execution_count": 9,
   "metadata": {},
   "outputs": [
    {
     "name": "stdout",
     "output_type": "stream",
     "text": [
      "not divisible by 2\n"
     ]
    }
   ],
   "source": [
    "#program to check if a number divisible by 2 but not by 6\n",
    "num = int(input('enter a number'))\n",
    "if num%2==0:\n",
    "    if num% 6!=0:\n",
    "        print('divisible by 2 but not by 6')\n",
    "    else:\n",
    "        print(\"divisible by 2 and 6\")\n",
    "else:\n",
    "    print('not divisible by 2')\n",
    "         "
   ]
  },
  {
   "cell_type": "code",
   "execution_count": null,
   "metadata": {},
   "outputs": [],
   "source": []
  },
  {
   "cell_type": "code",
   "execution_count": 1,
   "metadata": {},
   "outputs": [
    {
     "name": "stdout",
     "output_type": "stream",
     "text": [
      "welcome to vinopizza \n",
      "your paneer pizza is on the way\n"
     ]
    }
   ],
   "source": [
    "#program to order the pizza\n",
    "print(\"welcome to vinopizza \")\n",
    "choice = input('enter your choice, 1-veg , 2-non veg:')\n",
    "if choice == 'veg':\n",
    "    veg =input('enter your choice, 1- mushroom , 2- onion , 3- paneer:')\n",
    "    if veg=='mushroom':\n",
    "        print('your mushroom pizza is on the way')  \n",
    "    elif veg=='paneer':\n",
    "              print('your onion pizza is on the way')   \n",
    "    elif veg=='onion':\n",
    "        print('your paneer pizza is on the way') \n",
    "    else:\n",
    "          print('invalid pizza')\n",
    "elif choice =='non veg ': \n",
    "        non_veg =input('enter your choice, 1- chicken , 2- mutton , 3- onion:')\n",
    "        if non_veg=='mushroom':\n",
    "            print('your mushroom pizza is on the way')  \n",
    "        elif non_veg=='paneer':\n",
    "              print('your onion pizza is on the way')   \n",
    "        elif non_veg=='onion':\n",
    "              print('your paneer pizza is on the way') \n",
    "else:\n",
    "      print('we dont deliver your choice of pizza')             \n",
    "                                     "
   ]
  },
  {
   "cell_type": "code",
   "execution_count": 13,
   "metadata": {},
   "outputs": [
    {
     "name": "stdout",
     "output_type": "stream",
     "text": [
      "area of rectangle: 1300\n"
     ]
    }
   ],
   "source": [
    "#program to run area of circle or rectangle\n",
    "choose=input('choose betwwen, 1- circle , 2-rectangle')\n",
    "if choose=='circle':\n",
    "    radius=int(input('enter the value of radius:'))\n",
    "    pie=22/7\n",
    "    area=pie*radius**2\n",
    "    print('area of circle:',area)\n",
    "elif choose=='rectangle':\n",
    "    l=int(input('enter the value of lenght:'))   \n",
    "    b=int(input('enter the value of breath:')) \n",
    "    area=l*b  \n",
    "    print('area of rectangle:',area)\n",
    "else:\n",
    "    print('invalid number')    \n"
   ]
  },
  {
   "cell_type": "code",
   "execution_count": 14,
   "metadata": {},
   "outputs": [
    {
     "name": "stdout",
     "output_type": "stream",
     "text": [
      "13278.571428571428\n"
     ]
    }
   ],
   "source": [
    "choose=input('choose betwwen, 1- circle , 2-rectangle')\n",
    "if choose=='circle':\n",
    "    radius=int(input('enter the value of radius:'))\n",
    "    pie=22/7\n",
    "    area=pie*radius**2\n",
    "    \n",
    "elif choose=='rectangle':\n",
    "    l=int(input('enter the value of lenght:'))   \n",
    "    b=int(input('enter the value of breath:')) \n",
    "    area=l*b  \n",
    "    \n",
    "else:\n",
    "    print('invalid number') \n",
    "print(area)    "
   ]
  },
  {
   "cell_type": "code",
   "execution_count": 2,
   "metadata": {},
   "outputs": [
    {
     "name": "stdout",
     "output_type": "stream",
     "text": [
      "welcome to nutriofit\n",
      "make payment and have a healthy two month diet plan\n",
      "invalid option\n"
     ]
    }
   ],
   "source": [
    "print('welcome to nutriofit')\n",
    "choice=input(\"choose a diet plan of your choice,1-vegan,2-non_vegan\")\n",
    "if choice == 'vegan':\n",
    "    vegan =input('choose your plan, one month plan,two month plan')\n",
    "    if vegan==\"two months\":\n",
    "        print('make payment and have a healthy two month diet plan')\n",
    "    elif vegan==\"one month\":\n",
    "        print(\"enjoy one month vegan plan\")\n",
    "else:\n",
    "    print('select the option again')\n",
    "if choice =='non vegan':\n",
    "    non_vegan=input('choose your plan,1-one month plan,2-two month plan')\n",
    "    if non_vegan ==\"two months\":\n",
    "        print('make payment and have a healthy two month diet plan')\n",
    "    elif non_vegan==\"one month\":\n",
    "        print(\"enjoy one month vegan plan\") \n",
    "else:\n",
    "    print('invalid option')                \n",
    "\n",
    "    \n"
   ]
  },
  {
   "cell_type": "code",
   "execution_count": 4,
   "metadata": {},
   "outputs": [
    {
     "name": "stdout",
     "output_type": "stream",
     "text": [
      "not a leap year\n"
     ]
    }
   ],
   "source": [
    "#program to check a  leap year or not\n",
    "days=int(input('enter a days:'))\n",
    "if days==365:\n",
    "    print('not a leap year')\n",
    "elif days==366:\n",
    "    print('leap year')  \n",
    "else:\n",
    "    print('invalid num')    "
   ]
  },
  {
   "cell_type": "code",
   "execution_count": 10,
   "metadata": {},
   "outputs": [
    {
     "name": "stdout",
     "output_type": "stream",
     "text": [
      "saturday\n"
     ]
    }
   ],
   "source": [
    "#program to take a  input from 1 to 7 and display a day acording to number\n",
    "num=int(input('enter a number between 1 to 7:'))\n",
    "if num==1:\n",
    "    print('monday it is')\n",
    "elif num==2:\n",
    "    print('tuesday')\n",
    "elif num==3:\n",
    "    print('wednesday')  \n",
    "elif num==4:\n",
    "    print('thursday')\n",
    "elif num==5:\n",
    "    print('friday')\n",
    "elif num==6:\n",
    "    print('saturday')\n",
    "elif num==7:\n",
    "    print('sunday funday')              "
   ]
  },
  {
   "cell_type": "code",
   "execution_count": 15,
   "metadata": {},
   "outputs": [
    {
     "name": "stdout",
     "output_type": "stream",
     "text": [
      "value of num a 65\n",
      "value of num b 64\n",
      "value of num c: 87\n",
      "num c is the largest value\n"
     ]
    }
   ],
   "source": [
    "#program to find the largest number from three number\n",
    "numa=int(input('enter the number a'))\n",
    "print('value of num a', numa)\n",
    "numb=int(input('enter the number b'))\n",
    "print( 'value of num b', numb)\n",
    "numc=int(input('enter the number c'))\n",
    "print('value of num c:',numc)\n",
    "if numa>numb>numc:\n",
    "    print('num a is the largest value')\n",
    "    if numa>numc>numb:\n",
    "        print('num a is largest')\n",
    "elif numb>numa>numc:\n",
    "    print('num b is the largest value')\n",
    "    if numb>numc>numa:\n",
    "        print('num b is largest')\n",
    "elif numc>numa>numb:\n",
    "    print('num c is the largest value')\n",
    "    if numc>numc>numb:\n",
    "        print('num c is largest')\n",
    "           \n",
    "\n",
    "          "
   ]
  },
  {
   "cell_type": "code",
   "execution_count": 16,
   "metadata": {},
   "outputs": [
    {
     "ename": "SyntaxError",
     "evalue": "invalid syntax (877509231.py, line 14)",
     "output_type": "error",
     "traceback": [
      "\u001b[1;36m  Cell \u001b[1;32mIn[16], line 14\u001b[1;36m\u001b[0m\n\u001b[1;33m    elif : agea<agec<aged<ageb\u001b[0m\n\u001b[1;37m         ^\u001b[0m\n\u001b[1;31mSyntaxError\u001b[0m\u001b[1;31m:\u001b[0m invalid syntax\n"
     ]
    }
   ],
   "source": [
    "#program to accept the age of four people and display the youngest one\n",
    "agea=int(input('enter the age a'))\n",
    "print('age a', agea)\n",
    "ageb=int(input('enter the age b'))\n",
    "print( ' age b', ageb)\n",
    "agec=int(input('enter the age c'))\n",
    "print(' age c:',agec)\n",
    "aged=int(input('enter the age of d'))\n",
    "print(' age d :',aged)\n",
    "if agea<ageb<agec<aged:\n",
    "    print(' a is youngest ')\n",
    "    if agea<aged<ageb<agec:\n",
    "        print('num a is largest')\n",
    "elif : agea<agec<aged<ageb\n",
    "    print('num b is the largest value')\n",
    "    if numb>numc>numa:\n",
    "        print('num b is largest')\n",
    "elif numc>numa>numb:\n",
    "    print('num c is the largest value')\n",
    "    if numc>numc>numb:\n",
    "        print('num c is largest')\n",
    "\n",
    "\n",
    "\n",
    "\n",
    "\n",
    "\n",
    "\n",
    "        "
   ]
  },
  {
   "cell_type": "code",
   "execution_count": 21,
   "metadata": {},
   "outputs": [
    {
     "name": "stdout",
     "output_type": "stream",
     "text": [
      "character is vowel\n"
     ]
    }
   ],
   "source": [
    "#program to check the given input is vowel or not\n",
    "char=input('enput the word:' )\n",
    "if char=='a':\n",
    "    print('character is vowel')\n",
    "if char==\"e\":\n",
    "        print('character is vowel')\n",
    "if char==\"i\":\n",
    "        print('character is vowel')\n",
    "if char==\"o\":\n",
    "        print('character is vowel') \n",
    "if char==\"u\":\n",
    "        print('character is vowel')                       \n",
    "else:\n",
    "       print(\"invalid character\")\n"
   ]
  },
  {
   "cell_type": "code",
   "execution_count": 23,
   "metadata": {},
   "outputs": [
    {
     "name": "stdout",
     "output_type": "stream",
     "text": [
      "invalid value\n"
     ]
    }
   ],
   "source": [
    "# program to check the the triangle is scalene ,acuute or equilateral\n",
    "g=int(input(\"enter the value:\"))\n",
    "h=int(input(\"enter the value:\"))\n",
    "i=int(input(\"enter the value:\"))\n",
    "if g==h==i and g+h+i==180:\n",
    "    print(\"equilateral triangle\")\n",
    "elif g==h!=i and g+h+i==180:\n",
    "    print(\"isosceles triangle\") \n",
    "elif g!=h!=i and g+h+i==180:\n",
    "    print(\"scalene triangle\")\n",
    "else:\n",
    "    print('invalid value')           \n"
   ]
  },
  {
   "cell_type": "code",
   "execution_count": 5,
   "metadata": {},
   "outputs": [
    {
     "name": "stdout",
     "output_type": "stream",
     "text": [
      "not a leap year\n"
     ]
    },
    {
     "data": {
      "text/plain": [
       "5"
      ]
     },
     "execution_count": 5,
     "metadata": {},
     "output_type": "execute_result"
    }
   ],
   "source": [
    "year =int(input('enter the number:'))\n",
    "if year%4==0 or year%100==0 or year%400==0:\n",
    "    print(\"year is leap\")\n",
    "else:\n",
    "    print(\"not a leap year\")    \n",
    "\n",
    "\n",
    "\n",
    "\n",
    "\n",
    "\n",
    "\n",
    "\n",
    "\n",
    "\n",
    "\n",
    "\n",
    "\n",
    "\n",
    "\n",
    "5"
   ]
  },
  {
   "cell_type": "code",
   "execution_count": null,
   "metadata": {},
   "outputs": [],
   "source": []
  }
 ],
 "metadata": {
  "kernelspec": {
   "display_name": "Python 3",
   "language": "python",
   "name": "python3"
  },
  "language_info": {
   "codemirror_mode": {
    "name": "ipython",
    "version": 3
   },
   "file_extension": ".py",
   "mimetype": "text/x-python",
   "name": "python",
   "nbconvert_exporter": "python",
   "pygments_lexer": "ipython3",
   "version": "3.11.4"
  },
  "orig_nbformat": 4
 },
 "nbformat": 4,
 "nbformat_minor": 2
}
