{
 "cells": [
  {
   "cell_type": "code",
   "execution_count": 26,
   "metadata": {},
   "outputs": [],
   "source": [
    "fruits=['banana','apple','grapes']\n"
   ]
  },
  {
   "cell_type": "code",
   "execution_count": 27,
   "metadata": {},
   "outputs": [
    {
     "data": {
      "text/plain": [
       "['banana', 'apple', 'grapes']"
      ]
     },
     "execution_count": 27,
     "metadata": {},
     "output_type": "execute_result"
    }
   ],
   "source": [
    "fruits"
   ]
  },
  {
   "cell_type": "code",
   "execution_count": 28,
   "metadata": {},
   "outputs": [
    {
     "data": {
      "text/plain": [
       "6"
      ]
     },
     "execution_count": 28,
     "metadata": {},
     "output_type": "execute_result"
    }
   ],
   "source": [
    "len('fruits')"
   ]
  },
  {
   "cell_type": "code",
   "execution_count": 29,
   "metadata": {},
   "outputs": [
    {
     "data": {
      "text/plain": [
       "'grapes'"
      ]
     },
     "execution_count": 29,
     "metadata": {},
     "output_type": "execute_result"
    }
   ],
   "source": [
    "#indexing\n",
    "fruits[2\n",
    "       ]"
   ]
  },
  {
   "cell_type": "code",
   "execution_count": 30,
   "metadata": {},
   "outputs": [
    {
     "name": "stdout",
     "output_type": "stream",
     "text": [
      "6\n",
      "5\n",
      "6\n"
     ]
    }
   ],
   "source": [
    "for fr in fruits:\n",
    "    print(len(fr))"
   ]
  },
  {
   "cell_type": "code",
   "execution_count": 31,
   "metadata": {},
   "outputs": [
    {
     "name": "stdout",
     "output_type": "stream",
     "text": [
      "number223 is odd\n",
      "number564 is even\n",
      "number237 is odd\n",
      "number76 is even\n",
      "number23 is odd\n",
      "number6 is even\n"
     ]
    }
   ],
   "source": [
    "nums=[223,564,237,76,23,6]\n",
    "for n in nums:\n",
    "    if n%2==0:\n",
    "        print(f\"number{n} is even\")\n",
    "    else:\n",
    "        print(f'number{n} is odd')    "
   ]
  },
  {
   "cell_type": "code",
   "execution_count": 32,
   "metadata": {},
   "outputs": [
    {
     "name": "stdout",
     "output_type": "stream",
     "text": [
      "1129\n"
     ]
    }
   ],
   "source": [
    "s=0\n",
    "for n in nums:\n",
    "    s=s+n\n",
    "print(s)    "
   ]
  },
  {
   "cell_type": "code",
   "execution_count": 33,
   "metadata": {},
   "outputs": [
    {
     "data": {
      "text/plain": [
       "1129"
      ]
     },
     "execution_count": 33,
     "metadata": {},
     "output_type": "execute_result"
    }
   ],
   "source": [
    "sum(nums)"
   ]
  },
  {
   "cell_type": "code",
   "execution_count": 34,
   "metadata": {},
   "outputs": [
    {
     "name": "stdout",
     "output_type": "stream",
     "text": [
      "646\n"
     ]
    }
   ],
   "source": [
    "s=0\n",
    "nums=[223,564,237,76,23,6]\n",
    "for n in nums:\n",
    "    if n%2==0:\n",
    "        s=s+n\n",
    "print(s)        "
   ]
  },
  {
   "cell_type": "code",
   "execution_count": 35,
   "metadata": {},
   "outputs": [
    {
     "name": "stdout",
     "output_type": "stream",
     "text": [
      "61218.0\n"
     ]
    }
   ],
   "source": [
    "#program to find the average of list values\n",
    "s=0\n",
    "nums=[18,1818,181818]\n",
    "for i in nums:\n",
    "    s=s+i \n",
    "print(s/len(nums))\n",
    "\n",
    "\n",
    "    "
   ]
  },
  {
   "cell_type": "code",
   "execution_count": null,
   "metadata": {},
   "outputs": [],
   "source": []
  },
  {
   "cell_type": "code",
   "execution_count": 36,
   "metadata": {},
   "outputs": [
    {
     "name": "stdout",
     "output_type": "stream",
     "text": [
      "movie has less then five words ten\n",
      "movie has less then five words hell\n",
      "movie has less then five words haha\n"
     ]
    }
   ],
   "source": [
    "#take the list of movies and print those whch have lenght less than 5\n",
    "movies=[\"intersteller\",\"inception\",\"ten\",\"insomania\",\"hell\",\"haha\"]\n",
    "for io in movies:\n",
    "    if  len(io)<5:\n",
    "        print(\"movie has less then five words\",io)\n",
    "        "
   ]
  },
  {
   "cell_type": "code",
   "execution_count": 37,
   "metadata": {},
   "outputs": [
    {
     "name": "stdout",
     "output_type": "stream",
     "text": [
      "380\n"
     ]
    }
   ],
   "source": [
    "#print sum of square of all the numbers in the list\n",
    "s=0\n",
    "digi=[3,4,5,6,7,8,9,10]\n",
    "for di in digi:\n",
    "    s=s+(di**2)\n",
    "print(s)"
   ]
  },
  {
   "cell_type": "code",
   "execution_count": 1,
   "metadata": {},
   "outputs": [
    {
     "name": "stdout",
     "output_type": "stream",
     "text": [
      "name contain consonant\n"
     ]
    }
   ],
   "source": [
    "name= input(\"enter a name:\")\n",
    "for i in range(4):\n",
    "    if (\"a,e,i,o,u,A,E,I,O,U\") in name:\n",
    "        print(\"name contain vowel\")\n",
    "else:\n",
    "    print(\"name contain consonant\")        \n",
    "\n"
   ]
  },
  {
   "cell_type": "code",
   "execution_count": 42,
   "metadata": {},
   "outputs": [
    {
     "name": "stdout",
     "output_type": "stream",
     "text": [
      "2* 0 = 0\n",
      "2* 1 = 2\n",
      "2* 2 = 4\n",
      "2* 3 = 6\n",
      "2* 4 = 8\n",
      "2* 5 = 10\n",
      "2* 6 = 12\n",
      "2* 7 = 14\n",
      "2* 8 = 16\n",
      "2* 9 = 18\n",
      "2* 10 = 20\n",
      "2* 11 = 22\n",
      "2* 12 = 24\n",
      "2* 13 = 26\n",
      "2* 14 = 28\n",
      "2* 15 = 30\n",
      "2* 16 = 32\n",
      "2* 17 = 34\n",
      "2* 18 = 36\n",
      "2* 19 = 38\n"
     ]
    }
   ],
   "source": []
  },
  {
   "cell_type": "code",
   "execution_count": 48,
   "metadata": {},
   "outputs": [
    {
     "name": "stdout",
     "output_type": "stream",
     "text": [
      "{1, 2, 65, 4, 5, 6, 69, 12, 45}\n"
     ]
    }
   ],
   "source": [
    "a=(1,1,1,1,2,2,2,2,4,4,5,6,4,5,6,5,69,4,5,12,5,5,1,65,45)\n",
    "print(set(a))"
   ]
  },
  {
   "cell_type": "code",
   "execution_count": null,
   "metadata": {},
   "outputs": [],
   "source": []
  },
  {
   "cell_type": "code",
   "execution_count": null,
   "metadata": {},
   "outputs": [],
   "source": [
    "d=2\n",
    "for i in range(20):\n",
    "    print(\"2*\",i,\"=\",d*i)\n"
   ]
  }
 ],
 "metadata": {
  "kernelspec": {
   "display_name": "Python 3",
   "language": "python",
   "name": "python3"
  },
  "language_info": {
   "codemirror_mode": {
    "name": "ipython",
    "version": 3
   },
   "file_extension": ".py",
   "mimetype": "text/x-python",
   "name": "python",
   "nbconvert_exporter": "python",
   "pygments_lexer": "ipython3",
   "version": "3.11.4"
  },
  "orig_nbformat": 4
 },
 "nbformat": 4,
 "nbformat_minor": 2
}
