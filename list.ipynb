{
 "cells": [
  {
   "cell_type": "code",
   "execution_count": 1,
   "metadata": {},
   "outputs": [],
   "source": [
    "fruits=['banana','apple','grapes']\n"
   ]
  },
  {
   "cell_type": "code",
   "execution_count": 2,
   "metadata": {},
   "outputs": [
    {
     "data": {
      "text/plain": [
       "['banana', 'apple', 'grapes']"
      ]
     },
     "execution_count": 2,
     "metadata": {},
     "output_type": "execute_result"
    }
   ],
   "source": [
    "fruits"
   ]
  },
  {
   "cell_type": "code",
   "execution_count": 5,
   "metadata": {},
   "outputs": [
    {
     "data": {
      "text/plain": [
       "6"
      ]
     },
     "execution_count": 5,
     "metadata": {},
     "output_type": "execute_result"
    }
   ],
   "source": [
    "len('fruits')"
   ]
  },
  {
   "cell_type": "code",
   "execution_count": 6,
   "metadata": {},
   "outputs": [
    {
     "data": {
      "text/plain": [
       "'grapes'"
      ]
     },
     "execution_count": 6,
     "metadata": {},
     "output_type": "execute_result"
    }
   ],
   "source": [
    "#indexing\n",
    "fruits[2\n",
    "       ]"
   ]
  },
  {
   "cell_type": "code",
   "execution_count": 7,
   "metadata": {},
   "outputs": [
    {
     "name": "stdout",
     "output_type": "stream",
     "text": [
      "6\n",
      "5\n",
      "6\n"
     ]
    }
   ],
   "source": [
    "for fr in fruits:\n",
    "    print(len(fr))"
   ]
  },
  {
   "cell_type": "code",
   "execution_count": 10,
   "metadata": {},
   "outputs": [
    {
     "name": "stdout",
     "output_type": "stream",
     "text": [
      "number223 is odd\n",
      "number564 is even\n",
      "number237 is odd\n",
      "number76 is even\n",
      "number23 is odd\n",
      "number6 is even\n"
     ]
    }
   ],
   "source": [
    "nums=[223,564,237,76,23,6]\n",
    "for n in nums:\n",
    "    if n%2==0:\n",
    "        print(f\"number{n} is even\")\n",
    "    else:\n",
    "        print(f'number{n} is odd')    "
   ]
  },
  {
   "cell_type": "code",
   "execution_count": 12,
   "metadata": {},
   "outputs": [
    {
     "name": "stdout",
     "output_type": "stream",
     "text": [
      "1129\n"
     ]
    }
   ],
   "source": [
    "s=0\n",
    "for n in nums:\n",
    "    s=s+n\n",
    "print(s)    "
   ]
  },
  {
   "cell_type": "code",
   "execution_count": 13,
   "metadata": {},
   "outputs": [
    {
     "data": {
      "text/plain": [
       "1129"
      ]
     },
     "execution_count": 13,
     "metadata": {},
     "output_type": "execute_result"
    }
   ],
   "source": [
    "sum(nums)"
   ]
  },
  {
   "cell_type": "code",
   "execution_count": 16,
   "metadata": {},
   "outputs": [
    {
     "name": "stdout",
     "output_type": "stream",
     "text": [
      "646\n"
     ]
    }
   ],
   "source": [
    "s=0\n",
    "nums=[223,564,237,76,23,6]\n",
    "for n in nums:\n",
    "    if n%2==0:\n",
    "        s=s+n\n",
    "print(s)        "
   ]
  },
  {
   "cell_type": "code",
   "execution_count": 38,
   "metadata": {},
   "outputs": [
    {
     "name": "stdout",
     "output_type": "stream",
     "text": [
      "61218.0\n"
     ]
    }
   ],
   "source": [
    "#program to find the average of list values\n",
    "s=0\n",
    "nums=[18,1818,181818]\n",
    "for i in nums:\n",
    "    s=s+i \n",
    "print(s/len(nums))\n",
    "\n",
    "\n",
    "    "
   ]
  },
  {
   "cell_type": "code",
   "execution_count": null,
   "metadata": {},
   "outputs": [],
   "source": []
  },
  {
   "cell_type": "code",
   "execution_count": 1,
   "metadata": {},
   "outputs": [
    {
     "name": "stdout",
     "output_type": "stream",
     "text": [
      "movie has less then five words ten\n",
      "movie has less then five words hell\n",
      "movie has less then five words haha\n"
     ]
    }
   ],
   "source": [
    "#take the list of movies and print those whch have lenght less than 5\n",
    "movies=[\"intersteller\",\"inception\",\"ten\",\"insomania\",\"hell\",\"haha\"]\n",
    "for io in movies:\n",
    "    if  len(io)<5:\n",
    "        print(\"movie has less then five words\",io)\n",
    "        "
   ]
  },
  {
   "cell_type": "code",
   "execution_count": 37,
   "metadata": {},
   "outputs": [
    {
     "name": "stdout",
     "output_type": "stream",
     "text": [
      "380\n"
     ]
    }
   ],
   "source": [
    "#print sum of square of all the numbers in the list\n",
    "s=0\n",
    "digi=[3,4,5,6,7,8,9,10]\n",
    "for di in digi:\n",
    "    s=s+(di**2)\n",
    "print(s)"
   ]
  },
  {
   "cell_type": "code",
   "execution_count": 2,
   "metadata": {},
   "outputs": [
    {
     "name": "stdout",
     "output_type": "stream",
     "text": [
      "name contain consonant\n"
     ]
    }
   ],
   "source": [
    "name= input(\"enter a name:\")\n",
    "for i in range(4):\n",
    "    if (\"a,e,i,o,u,A,E,I,O,U\") in name:\n",
    "        print(\"name contain vowel\")\n",
    "else:\n",
    "    print(\"name contain consonant\")        \n",
    "\n"
   ]
  },
  {
   "cell_type": "code",
   "execution_count": null,
   "metadata": {},
   "outputs": [],
   "source": []
  }
 ],
 "metadata": {
  "kernelspec": {
   "display_name": "Python 3",
   "language": "python",
   "name": "python3"
  },
  "language_info": {
   "codemirror_mode": {
    "name": "ipython",
    "version": 3
   },
   "file_extension": ".py",
   "mimetype": "text/x-python",
   "name": "python",
   "nbconvert_exporter": "python",
   "pygments_lexer": "ipython3",
   "version": "3.9.0"
  },
  "orig_nbformat": 4
 },
 "nbformat": 4,
 "nbformat_minor": 2
}
