{
 "cells": [
  {
   "cell_type": "code",
   "execution_count": 8,
   "metadata": {},
   "outputs": [
    {
     "name": "stdout",
     "output_type": "stream",
     "text": [
      "{'title': 'the final code', 'author': 'ayush', 'price': 1500, 'publisher': 'digipodium', 'year': 2006, 'page': 10001, 'languages': ['urdu', 'persian', 'mexican', 'english'], 'rating': 4.9, 'type': 'paperback'}\n"
     ]
    }
   ],
   "source": [
    "book={\n",
    "    'title':'the final code',\n",
    "    'author':'ayush',\n",
    "    'price': 1500,\n",
    "    'publisher':'digipodium',\n",
    "    'year':2006,\n",
    "    'page':10001,\n",
    "    'languages':['urdu','persian','mexican','english']\n",
    "\n",
    "}\n",
    "book['rating']=4.9\n",
    "book['type']='paperback'\n",
    "print(book)\n"
   ]
  },
  {
   "cell_type": "code",
   "execution_count": 21,
   "metadata": {},
   "outputs": [
    {
     "data": {
      "text/plain": [
       "'aditya'"
      ]
     },
     "execution_count": 21,
     "metadata": {},
     "output_type": "execute_result"
    }
   ],
   "source": [
    "book['publisher']\n",
    "book['author']\n"
   ]
  },
  {
   "cell_type": "code",
   "execution_count": 13,
   "metadata": {},
   "outputs": [
    {
     "name": "stdout",
     "output_type": "stream",
     "text": [
      "Key: title, Value: the final code\n",
      "Key: author, Value: aditya\n",
      "Key: price, Value: 1500\n",
      "Key: publisher, Value: digipodium\n",
      "Key: year, Value: 2006\n",
      "Key: page, Value: 10001\n",
      "Key: languages, Value: ['urdu', 'persian', 'mexican', 'english']\n",
      "Key: rating, Value: 4.9\n",
      "Key: type, Value: paperback\n"
     ]
    }
   ],
   "source": [
    "for key, value in book.items():\n",
    "    print(f\"Key: {key}, Value: {value}\")"
   ]
  },
  {
   "cell_type": "code",
   "execution_count": 14,
   "metadata": {},
   "outputs": [
    {
     "data": {
      "text/plain": [
       "['title',\n",
       " 'author',\n",
       " 'price',\n",
       " 'publisher',\n",
       " 'year',\n",
       " 'page',\n",
       " 'languages',\n",
       " 'rating',\n",
       " 'type']"
      ]
     },
     "execution_count": 14,
     "metadata": {},
     "output_type": "execute_result"
    }
   ],
   "source": [
    "list(book.keys())"
   ]
  },
  {
   "cell_type": "code",
   "execution_count": 17,
   "metadata": {},
   "outputs": [
    {
     "data": {
      "text/plain": [
       "['the final code',\n",
       " 'aditya',\n",
       " 1500,\n",
       " 'digipodium',\n",
       " 2006,\n",
       " 10001,\n",
       " ['urdu', 'persian', 'mexican', 'english'],\n",
       " 4.9,\n",
       " 'paperback']"
      ]
     },
     "execution_count": 17,
     "metadata": {},
     "output_type": "execute_result"
    }
   ],
   "source": [
    "list(book.values())"
   ]
  },
  {
   "cell_type": "code",
   "execution_count": 19,
   "metadata": {},
   "outputs": [
    {
     "data": {
      "text/plain": [
       "[('title', 'the final code'),\n",
       " ('author', 'aditya'),\n",
       " ('price', 1500),\n",
       " ('publisher', 'digipodium'),\n",
       " ('year', 2006),\n",
       " ('page', 10001),\n",
       " ('languages', ['urdu', 'persian', 'mexican', 'english']),\n",
       " ('rating', 4.9),\n",
       " ('type', 'paperback')]"
      ]
     },
     "execution_count": 19,
     "metadata": {},
     "output_type": "execute_result"
    }
   ],
   "source": [
    "list(book.items())"
   ]
  },
  {
   "cell_type": "code",
   "execution_count": 22,
   "metadata": {},
   "outputs": [
    {
     "data": {
      "text/plain": [
       "'digipodium'"
      ]
     },
     "execution_count": 22,
     "metadata": {},
     "output_type": "execute_result"
    }
   ],
   "source": [
    "book.get('publisher','not found')"
   ]
  },
  {
   "cell_type": "code",
   "execution_count": 28,
   "metadata": {},
   "outputs": [
    {
     "name": "stdout",
     "output_type": "stream",
     "text": [
      "{'hoho': 5.0, 'jojo': 7.0}\n",
      "hoho\n",
      "jojo\n",
      "********************\n",
      "hoho 5.0\n",
      "jojo 7.0\n",
      "jojo 5.0\n",
      "jojo 7.0\n"
     ]
    }
   ],
   "source": [
    "myrating={}\n",
    "for i in range(1,3):\n",
    "    name=input(f' enter the name of the movie{i}')\n",
    "    rating=float(input(f'enter the rating of movie {i}'))\n",
    "    myrating[name]=rating\n",
    "print(myrating)    \n",
    "for i in myrating :\n",
    "    print(i)\n",
    "print(\"*\"*20)\n",
    "for i in myrating   :\n",
    "    print(i,myrating[i])\n",
    "for k,v in myrating.items():\n",
    "    print(i,v)    \n"
   ]
  },
  {
   "cell_type": "code",
   "execution_count": 31,
   "metadata": {},
   "outputs": [],
   "source": [
    "books={\n",
    "\n",
    "'book1':{\n",
    "    'title':'the final code',\n",
    "    'author':'vinayak',\n",
    "    'price': 155200,\n",
    "    'publisher':'digipodium',\n",
    "    \n",
    "},\n",
    "'book2':\n",
    "{\n",
    "    'title':'the final mode',\n",
    "    'author':'ayush',\n",
    "    'price': 150084,\n",
    "    'publisher':'digipodium1',\n",
    "},\n",
    "'book3':\n",
    "{\n",
    "    'title':'the final hohoho',\n",
    "    'author':'ayushi',\n",
    "    'price': 150540,\n",
    "    'publisher':'digipodium2',\n",
    "}\n",
    "}"
   ]
  },
  {
   "cell_type": "code",
   "execution_count": 32,
   "metadata": {},
   "outputs": [
    {
     "name": "stdout",
     "output_type": "stream",
     "text": [
      "Key: book1, Value: {'title': 'the final code', 'author': 'vinayak', 'price': 155200, 'publisher': 'digipodium'}\n",
      "Key: book2, Value: {'title': 'the final mode', 'author': 'ayush', 'price': 150084, 'publisher': 'digipodium1'}\n",
      "Key: book3, Value: {'title': 'the final hohoho', 'author': 'ayushi', 'price': 150540, 'publisher': 'digipodium2'}\n"
     ]
    }
   ],
   "source": [
    "for key, value in books.items():\n",
    "    print(f\"Key: {key}, Value: {value}\")"
   ]
  },
  {
   "cell_type": "code",
   "execution_count": 39,
   "metadata": {},
   "outputs": [
    {
     "name": "stdout",
     "output_type": "stream",
     "text": [
      "book1\n",
      "\ttitle=the final code\n",
      "\tauthor=vinayak\n",
      "\tprice=155200\n",
      "\tpublisher=digipodium\n",
      "book2\n",
      "\ttitle=the final mode\n",
      "\tauthor=ayush\n",
      "\tprice=150084\n",
      "\tpublisher=digipodium1\n",
      "book3\n",
      "\ttitle=the final hohoho\n",
      "\tauthor=ayushi\n",
      "\tprice=150540\n",
      "\tpublisher=digipodium2\n"
     ]
    }
   ],
   "source": [
    "for key, value in books.items():\n",
    "    print(key)\n",
    "    for k,v in value.items():\n",
    "        print(f'\\t{k}={v}')    "
   ]
  },
  {
   "cell_type": "code",
   "execution_count": 52,
   "metadata": {},
   "outputs": [
    {
     "name": "stdout",
     "output_type": "stream",
     "text": [
      "{1: 1, 2: 4, 3: 9, 4: 16, 5: 25, 6: 36, 7: 49, 8: 64, 9: 81}\n"
     ]
    }
   ],
   "source": [
    "#wap to create a dictionary that store number and their square\n",
    "squares = {x: x ** 2 for x in range(1, 10)}\n",
    "print(squares)"
   ]
  },
  {
   "cell_type": "code",
   "execution_count": 51,
   "metadata": {},
   "outputs": [
    {
     "name": "stdout",
     "output_type": "stream",
     "text": [
      "{1: 1, 2: 4, 3: 9, 4: 16, 5: 25, 6: 36, 7: 49, 8: 64, 9: 81}\n"
     ]
    }
   ],
   "source": [
    "dict={}\n",
    "for i in range(1,10):\n",
    "    dict[i]=i*i\n",
    "print(dict)\n"
   ]
  },
  {
   "cell_type": "code",
   "execution_count": 66,
   "metadata": {},
   "outputs": [],
   "source": [
    "#wap to ask user to enter item and its prices and then store it in dictionary , the program should stop whwn the user wants\n",
    " "
   ]
  },
  {
   "cell_type": "code",
   "execution_count": 74,
   "metadata": {},
   "outputs": [
    {
     "name": "stdout",
     "output_type": "stream",
     "text": [
      "{'tomato': 200.0, 'banana': 20.0}\n"
     ]
    }
   ],
   "source": [
    "dict={}\n",
    "while True:\n",
    "    item=input('enter the item')\n",
    "    if item=='stop':\n",
    "        break\n",
    "    price=float(input('enter the price'))\n",
    "    dict[item]=price\n",
    "print(dict)\n"
   ]
  },
  {
   "cell_type": "code",
   "execution_count": 2,
   "metadata": {},
   "outputs": [
    {
     "name": "stdout",
     "output_type": "stream",
     "text": [
      "1\n",
      "2\n",
      "3\n",
      "4\n",
      "5\n",
      "6\n",
      "7\n",
      "1\n",
      "2\n",
      "3\n",
      "4\n",
      "5\n",
      "6\n",
      "7\n",
      "1\n",
      "2\n",
      "3\n",
      "4\n",
      "5\n",
      "6\n",
      "7\n",
      "1\n",
      "2\n",
      "3\n",
      "4\n",
      "5\n",
      "6\n",
      "7\n",
      "1\n",
      "2\n",
      "3\n",
      "4\n",
      "5\n",
      "6\n",
      "7\n",
      "1\n",
      "2\n",
      "3\n",
      "4\n",
      "5\n",
      "6\n",
      "7\n",
      "1\n",
      "2\n",
      "3\n",
      "4\n",
      "5\n",
      "6\n",
      "7\n"
     ]
    }
   ],
   "source": [
    "   a=[1,2,3,10,54,64,7]\n",
    "   b=[1,2,3,4,5,6,7]\n",
    "   for i in a:\n",
    "    for i in b:\n",
    "        print(i)\n",
    "    \n"
   ]
  },
  {
   "cell_type": "code",
   "execution_count": null,
   "metadata": {},
   "outputs": [],
   "source": []
  }
 ],
 "metadata": {
  "kernelspec": {
   "display_name": "base",
   "language": "python",
   "name": "python3"
  },
  "language_info": {
   "codemirror_mode": {
    "name": "ipython",
    "version": 3
   },
   "file_extension": ".py",
   "mimetype": "text/x-python",
   "name": "python",
   "nbconvert_exporter": "python",
   "pygments_lexer": "ipython3",
   "version": "3.11.4"
  },
  "orig_nbformat": 4
 },
 "nbformat": 4,
 "nbformat_minor": 2
}
