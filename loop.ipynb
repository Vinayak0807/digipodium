{
 "cells": [
  {
   "cell_type": "code",
   "execution_count": 3,
   "metadata": {},
   "outputs": [
    {
     "name": "stdout",
     "output_type": "stream",
     "text": [
      " \n",
      "t\n",
      "i\n",
      "t\n",
      "a\n",
      "n\n",
      "i\n",
      "c\n"
     ]
    }
   ],
   "source": [
    "#loop\n",
    "movie=\" titanic\"\n",
    "for i in movie:\n",
    "    print(i)"
   ]
  },
  {
   "cell_type": "code",
   "execution_count": 2,
   "metadata": {},
   "outputs": [
    {
     "name": "stdout",
     "output_type": "stream",
     "text": [
      "hello\n",
      "hello\n",
      "hello\n",
      "hello\n",
      "hello\n",
      "hello\n",
      "hello\n",
      "hello\n",
      "hello\n",
      "hello\n",
      "hello\n",
      "hello\n",
      "hello\n",
      "hello\n",
      "hello\n",
      "hello\n",
      "hello\n",
      "hello\n",
      "hello\n",
      "hello\n"
     ]
    }
   ],
   "source": [
    "for i in range(20):\n",
    "    print('hello')"
   ]
  },
  {
   "cell_type": "code",
   "execution_count": 6,
   "metadata": {},
   "outputs": [
    {
     "name": "stdout",
     "output_type": "stream",
     "text": [
      "0\n",
      "6\n",
      "12\n",
      "18\n",
      "24\n"
     ]
    }
   ],
   "source": [
    "for i in range(5):\n",
    "    print(i*6)"
   ]
  },
  {
   "cell_type": "code",
   "execution_count": 8,
   "metadata": {},
   "outputs": [
    {
     "name": "stdout",
     "output_type": "stream",
     "text": [
      "1\n",
      "3\n",
      "5\n",
      "7\n",
      "9\n"
     ]
    }
   ],
   "source": [
    "for i in range(1,11,2):\n",
    "    print(i)"
   ]
  },
  {
   "cell_type": "code",
   "execution_count": 9,
   "metadata": {},
   "outputs": [
    {
     "name": "stdout",
     "output_type": "stream",
     "text": [
      "1 3 5 7 9 11 13 15 17 19 21 23 25 27 29 31 33 35 37 39 41 43 45 47 49 51 53 55 57 59 61 63 65 67 69 71 73 75 77 79 81 83 85 87 89 "
     ]
    }
   ],
   "source": [
    "#checking odd number\n",
    "for i in range(1,90):\n",
    "    if i%2!=0:\n",
    "        print(i,end=' ')"
   ]
  },
  {
   "cell_type": "code",
   "execution_count": 11,
   "metadata": {},
   "outputs": [
    {
     "name": "stdout",
     "output_type": "stream",
     "text": [
      "* \n",
      "* * \n",
      "* * * \n",
      "* * * * \n",
      "* * * * * \n",
      "* * * * * * \n",
      "* * * * * * * \n",
      "* * * * * * * * \n",
      "* * * * * * * * * \n"
     ]
    }
   ],
   "source": [
    "for i in range(1,10):\n",
    "    print(\"* \"*i)"
   ]
  },
  {
   "cell_type": "code",
   "execution_count": 12,
   "metadata": {},
   "outputs": [
    {
     "name": "stdout",
     "output_type": "stream",
     "text": [
      "**********\n",
      "*********\n",
      "********\n",
      "*******\n",
      "******\n",
      "*****\n",
      "****\n",
      "***\n",
      "**\n",
      "*\n"
     ]
    }
   ],
   "source": [
    "for i in range(10,0,-1):\n",
    "    print('*'*i)"
   ]
  },
  {
   "cell_type": "code",
   "execution_count": 13,
   "metadata": {},
   "outputs": [
    {
     "name": "stdout",
     "output_type": "stream",
     "text": [
      "*\n",
      "**\n",
      "***\n",
      "****\n",
      "*****\n",
      "****\n",
      "***\n",
      "**\n"
     ]
    }
   ],
   "source": [
    "for i in range(1,5):\n",
    "    print('*'*i)\n",
    "for i in range(5,1,-1):\n",
    "    print('*'*i)    "
   ]
  },
  {
   "cell_type": "code",
   "execution_count": 17,
   "metadata": {},
   "outputs": [
    {
     "name": "stdout",
     "output_type": "stream",
     "text": [
      "                   *\n",
      "                  **\n",
      "                 ***\n",
      "                ****\n",
      "               *****\n",
      "              ******\n",
      "             *******\n",
      "            ********\n",
      "           *********\n"
     ]
    }
   ],
   "source": [
    "for i in range(1,10,):\n",
    "    print(('*'*i).rjust(20))"
   ]
  },
  {
   "cell_type": "code",
   "execution_count": 18,
   "metadata": {},
   "outputs": [
    {
     "name": "stdout",
     "output_type": "stream",
     "text": [
      "5555555555555555555*\n",
      "555555555555555555**\n",
      "55555555555555555***\n",
      "5555555555555555****\n",
      "555555555555555*****\n",
      "55555555555555******\n",
      "5555555555555*******\n",
      "555555555555********\n",
      "55555555555*********\n"
     ]
    }
   ],
   "source": [
    "for i in range(1,10,):\n",
    "    print(('*'*i).rjust(20,'5'))"
   ]
  },
  {
   "cell_type": "code",
   "execution_count": 21,
   "metadata": {},
   "outputs": [
    {
     "name": "stdout",
     "output_type": "stream",
     "text": [
      "5555555555555*  55555555555555\n",
      "555555555555*  *  555555555555\n",
      "5555555555*  *  *  55555555555\n",
      "555555555*  *  *  *  555555555\n",
      "5555555*  *  *  *  *  55555555\n",
      "555555*  *  *  *  *  *  555555\n",
      "5555*  *  *  *  *  *  *  55555\n",
      "555*  *  *  *  *  *  *  *  555\n",
      "5*  *  *  *  *  *  *  *  *  55\n"
     ]
    }
   ],
   "source": [
    "for i in range(1,10,):\n",
    "    print(('*  '*i).center(30,'5'))"
   ]
  },
  {
   "cell_type": "code",
   "execution_count": 38,
   "metadata": {},
   "outputs": [
    {
     "name": "stdout",
     "output_type": "stream",
     "text": [
      "             *                \n",
      "            *  *              \n",
      "          *  *  *             \n",
      "         *  *  *  *           \n",
      "       *  *  *  *  *          \n",
      "      *  *  *  *  *  *        \n",
      "       *  *  *  *  *          \n",
      "         *  *  *  *           \n",
      "          *  *  *             \n",
      "            *  *              \n"
     ]
    }
   ],
   "source": [
    "for i in range(1,6,1):\n",
    "    print(('*  '*i).center(30,))\n",
    "for i in range(6,1,-1):\n",
    "    print(('*  '*i).center(30,))    "
   ]
  },
  {
   "cell_type": "code",
   "execution_count": 79,
   "metadata": {},
   "outputs": [
    {
     "name": "stdout",
     "output_type": "stream",
     "text": [
      "364 is divisible by 7 and 13\n",
      "455 is divisible by 7 and 13\n"
     ]
    }
   ],
   "source": [
    "#to check if number is divisible by 7 and 13\n",
    "for i in range(300,500):\n",
    "    if i%7==0 and i%13==0:\n",
    "        print(i,\"is divisible by 7 and 13\")\n",
    "       \n",
    "\n"
   ]
  },
  {
   "cell_type": "code",
   "execution_count": 1,
   "metadata": {},
   "outputs": [
    {
     "name": "stdout",
     "output_type": "stream",
     "text": [
      "7 is a prime value\n"
     ]
    }
   ],
   "source": [
    "#program to  check if number is prime\n",
    "num=int(input('enter a num:'))\n",
    "if  num==1:\n",
    "    print(\"number is not a prime value\")\n",
    "elif num>1:\n",
    "   for i in range(2,num):  \n",
    "       if (num%i)==0:\n",
    "        print(num,\"is not prime value\")\n",
    "        break\n",
    "   else:\n",
    "    print(num,\"is a prime value\")"
   ]
  },
  {
   "cell_type": "code",
   "execution_count": 74,
   "metadata": {},
   "outputs": [
    {
     "name": "stdout",
     "output_type": "stream",
     "text": [
      "Total Number of Vowels in this String =  5\n"
     ]
    }
   ],
   "source": [
    "#program to count number of vowels in name\n",
    "name=input('enter your name')\n",
    "vowels=0\n",
    "for i in name:\n",
    "     if(i == 'a' or i == 'e' or i == 'i' or i == 'o' or i == 'u'\n",
    "       or i == 'A' or i == 'E' or i == 'I' or i == 'O' or i == 'U'):\n",
    "        vowels=(vowels+1)\n",
    "       \n",
    "print(\"Total Number of Vowels in this String = \", vowels)\n",
    "    "
   ]
  },
  {
   "cell_type": "code",
   "execution_count": 1,
   "metadata": {},
   "outputs": [
    {
     "name": "stdout",
     "output_type": "stream",
     "text": [
      "Total Number of Vowels in this String =  3\n"
     ]
    }
   ],
   "source": [
    "#program to count number of vowels in names\n",
    "name1=input('enter your name')\n",
    "name2=input('enter your name')\n",
    "name3=input('enter your name')\n",
    "name4=input('enter your name')\n",
    "name5=input('enter your name')\n",
    "vowels=0\n",
    "for i in name1+name2+name3+name4+name5:\n",
    "     if(i == 'a' or i == 'e' or i == 'i' or i == 'o' or i == 'u'\n",
    "       or i == 'A' or i == 'E' or i == 'I' or i == 'O' or i == 'U'):\n",
    "        vowels=(vowels+1)\n",
    "       \n",
    "print(\"Total Number of Vowels in this String = \", vowels)"
   ]
  },
  {
   "cell_type": "code",
   "execution_count": 88,
   "metadata": {},
   "outputs": [
    {
     "name": "stdout",
     "output_type": "stream",
     "text": [
      "honey  contains vowels\n",
      "mohit contains vowels\n",
      "kom  contains vowels\n",
      "tyk  don't have any vowels\n",
      "yaho contains vowels\n"
     ]
    }
   ],
   "source": [
    "name1=input('enter your name')\n",
    "name2=input('enter your name')\n",
    "name3=input('enter your name')\n",
    "name4=input('enter your name')\n",
    "name5=input('enter your name')\n",
    "for i in name1:\n",
    "     if(i == 'a' or i == 'e' or i == 'i' or i == 'o' or i == 'u'\n",
    "       or i == 'A' or i == 'E' or i == 'I' or i == 'O' or i == 'U'):\n",
    "      print(name1,\" contains vowels\")\n",
    "      break\n",
    "else:\n",
    "   print(name1,\" don't have any vowels\") \n",
    "for i in name2:\n",
    "     if(i == 'a' or i == 'e' or i == 'i' or i == 'o' or i == 'u'\n",
    "       or i == 'A' or i == 'E' or i == 'I' or i == 'O' or i == 'U'):\n",
    "      print(name2,\"contains vowels\")\n",
    "      break\n",
    "else:\n",
    "   print(name2,\" don't have any vowels\")     \n",
    "for i in name3:\n",
    "     if(i == 'a' or i == 'e' or i == 'i' or i == 'o' or i == 'u'\n",
    "       or i == 'A' or i == 'E' or i == 'I' or i == 'O' or i == 'U'):\n",
    "      print(name3,\" contains vowels\")\n",
    "      break\n",
    "else:\n",
    "   print(name3,\"don't have any vowels\")     \n",
    "for i in name4:\n",
    "     if(i == 'a' or i == 'e' or i == 'i' or i == 'o' or i == 'u'\n",
    "       or i == 'A' or i == 'E' or i == 'I' or i == 'O' or i == 'U'):\n",
    "      print(name4, \"contains vowels\")\n",
    "      break\n",
    "else:\n",
    "   print(name4,\" don't have any vowels\")\n",
    "for i in name5:\n",
    "     if(i == 'a' or i == 'e' or i == 'i' or i == 'o' or i == 'u'\n",
    "       or i == 'A' or i == 'E' or i == 'I' or i == 'O' or i == 'U'):\n",
    "      print(name5, \"contains vowels\")\n",
    "      break\n",
    "else:\n",
    "   print(name5,\" don't have any vowels\")   \n",
    "     \n"
   ]
  },
  {
   "cell_type": "code",
   "execution_count": 18,
   "metadata": {},
   "outputs": [
    {
     "name": "stdout",
     "output_type": "stream",
     "text": [
      "*\n",
      "**\n",
      "***\n",
      "****\n",
      "*****\n",
      "****\n",
      "***\n",
      "**\n",
      "                   *\n",
      "                  **\n",
      "                 ***\n",
      "                ****\n",
      "               *****\n",
      "                ****\n",
      "                 ***\n",
      "                  **\n"
     ]
    }
   ],
   "source": [
    "\n",
    "for i in range(1,5):\n",
    "    print('*'*i)\n",
    "for i in range(5,1,-1):\n",
    "    print('*'*i)      \n",
    "for i in range(1,5):\n",
    "    print(('*'*i).rjust(20))\n",
    "for i in range(5,1,-1):\n",
    "    print(('*'*i).rjust(20))     "
   ]
  },
  {
   "cell_type": "code",
   "execution_count": 4,
   "metadata": {},
   "outputs": [
    {
     "name": "stdout",
     "output_type": "stream",
     "text": [
      "vowel in u\n",
      "vowel in o\n",
      "vowel in i\n"
     ]
    }
   ],
   "source": [
    "for i in range(5):\n",
    "    name=input('enter a name')\n",
    "    for v in \"aeiou\":\n",
    "        if v in name:\n",
    "            print(\"vowel in\",name)\n",
    "            break\n",
    "    "
   ]
  },
  {
   "cell_type": "code",
   "execution_count": 2,
   "metadata": {},
   "outputs": [
    {
     "name": "stdout",
     "output_type": "stream",
     "text": [
      "5 * 0 = 0\n",
      "5 * 1 = 5\n",
      "5 * 2 = 10\n",
      "5 * 3 = 15\n",
      "5 * 4 = 20\n",
      "5 * 5 = 25\n",
      "5 * 6 = 30\n",
      "5 * 7 = 35\n",
      "5 * 8 = 40\n",
      "5 * 9 = 45\n",
      "5 * 10 = 50\n"
     ]
    }
   ],
   "source": [
    "number=int(input(\"enter the number\"))\n",
    "for i in range(11):\n",
    " print(number,\"*\",i,\"=\",number*i)"
   ]
  },
  {
   "cell_type": "code",
   "execution_count": 2,
   "metadata": {},
   "outputs": [
    {
     "name": "stdout",
     "output_type": "stream",
     "text": [
      "**********\n",
      "****  ****\n",
      "***    ***\n",
      "**      **\n",
      "*        *\n"
     ]
    }
   ],
   "source": [
    "for i in range(0,5,):\n",
    "    print(('  '*i).center(10,'*'))"
   ]
  },
  {
   "cell_type": "code",
   "execution_count": 26,
   "metadata": {},
   "outputs": [
    {
     "name": "stdout",
     "output_type": "stream",
     "text": [
      "[1, 2, 3, 77, 88]\n",
      "[1, 4, 9, 5929, 7744]\n"
     ]
    }
   ],
   "source": [
    "#write a  program to input a list  from user and create a new list with number square\n",
    "lst=[]\n",
    "n=int(input(\"enter the number:\"))\n",
    "for i in range( n):\n",
    "    ele = int(input())\n",
    "    lst.append(ele)\n",
    "print(lst)\n",
    "\n",
    "sqr=[]\n",
    "\n",
    "for i in lst:\n",
    "    sqr.append(i**2)\n",
    "print(sqr)\n",
    "\n",
    "\n",
    "\n",
    "    \n",
    "\n",
    "    "
   ]
  },
  {
   "cell_type": "code",
   "execution_count": 23,
   "metadata": {},
   "outputs": [
    {
     "data": {
      "text/plain": [
       "5"
      ]
     },
     "execution_count": 23,
     "metadata": {},
     "output_type": "execute_result"
    }
   ],
   "source": [
    "#wap to take five numbers from user and store them in a list if the number is perfect square\n",
    "lst=[]\n",
    "n=int(input(\"enter the number:\"))\n",
    "for i in range( n):\n",
    "    \n",
    "    ele = int(input())\n",
    "    lst.append(ele)\n",
    "print(lst)\n",
    "\n",
    "\n"
   ]
  },
  {
   "cell_type": "code",
   "execution_count": null,
   "metadata": {},
   "outputs": [],
   "source": [
    "1\n",
    "2\n",
    "3\n",
    "4\n",
    "5"
   ]
  }
 ],
 "metadata": {
  "kernelspec": {
   "display_name": "Python 3",
   "language": "python",
   "name": "python3"
  },
  "language_info": {
   "codemirror_mode": {
    "name": "ipython",
    "version": 3
   },
   "file_extension": ".py",
   "mimetype": "text/x-python",
   "name": "python",
   "nbconvert_exporter": "python",
   "pygments_lexer": "ipython3",
   "version": "3.9.0"
  },
  "orig_nbformat": 4
 },
 "nbformat": 4,
 "nbformat_minor": 2
}
