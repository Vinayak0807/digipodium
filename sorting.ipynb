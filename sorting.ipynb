{
 "cells": [
  {
   "cell_type": "code",
   "execution_count": 1,
   "metadata": {},
   "outputs": [
    {
     "ename": "TypeError",
     "evalue": "object of type 'builtin_function_or_method' has no len()",
     "output_type": "error",
     "traceback": [
      "\u001b[1;31m---------------------------------------------------------------------------\u001b[0m",
      "\u001b[1;31mTypeError\u001b[0m                                 Traceback (most recent call last)",
      "Cell \u001b[1;32mIn[1], line 3\u001b[0m\n\u001b[0;32m      1\u001b[0m \u001b[39m#sorting list in ascending order\u001b[39;00m\n\u001b[0;32m      2\u001b[0m num\u001b[39m=\u001b[39m[\u001b[39m24\u001b[39m,\u001b[39m2\u001b[39m,\u001b[39m9\u001b[39m,\u001b[39m32\u001b[39m,\u001b[39m48\u001b[39m,\u001b[39m25\u001b[39m]\n\u001b[1;32m----> 3\u001b[0m \u001b[39mprint\u001b[39m(\u001b[39mlen\u001b[39;49m(\u001b[39mmin\u001b[39;49m))\n",
      "\u001b[1;31mTypeError\u001b[0m: object of type 'builtin_function_or_method' has no len()"
     ]
    }
   ],
   "source": [
    "#sorting list in ascending order\n",
    "num=[24,2,9,32,48,25]\n",
    "print "
   ]
  },
  {
   "cell_type": "code",
   "execution_count": 1,
   "metadata": {},
   "outputs": [
    {
     "name": "stdout",
     "output_type": "stream",
     "text": [
      "****  ****\n",
      "***    ***\n",
      "**      **\n",
      "*        *\n"
     ]
    }
   ],
   "source": [
    "for i in range(1,5,):\n",
    "    print(('  '*i).center(10,'*'))\n",
    "    "
   ]
  },
  {
   "cell_type": "code",
   "execution_count": 5,
   "metadata": {},
   "outputs": [
    {
     "data": {
      "text/plain": [
       "6"
      ]
     },
     "execution_count": 5,
     "metadata": {},
     "output_type": "execute_result"
    }
   ],
   "source": [
    "len(num)"
   ]
  },
  {
   "cell_type": "code",
   "execution_count": 8,
   "metadata": {},
   "outputs": [],
   "source": [
    "for i in range(0,len(num)-1):\n",
    "    for j in range(0,len(num)-i-1):\n",
    "        if num[j]>num[j+1]:\n",
    "            num[j], num[j+1]= num[j+1],num[j]\n",
    "\n"
   ]
  },
  {
   "cell_type": "code",
   "execution_count": 9,
   "metadata": {},
   "outputs": [
    {
     "data": {
      "text/plain": [
       "[2, 9, 24, 25, 32, 48]"
      ]
     },
     "execution_count": 9,
     "metadata": {},
     "output_type": "execute_result"
    }
   ],
   "source": [
    "num(10)\n",
    "print()"
   ]
  },
  {
   "cell_type": "code",
   "execution_count": 7,
   "metadata": {},
   "outputs": [
    {
     "name": "stdout",
     "output_type": "stream",
     "text": [
      "[65, 1, 2, 4, 7]\n"
     ]
    }
   ],
   "source": [
    "userinput=[]\n",
    "for i in range(5):\n",
    "    n =int(input('enter aa number:'))\n",
    "    userinput.append(n)\n",
    "print(userinput)"
   ]
  },
  {
   "cell_type": "code",
   "execution_count": 1,
   "metadata": {},
   "outputs": [
    {
     "name": "stdout",
     "output_type": "stream",
     "text": [
      "0\n",
      "1\n"
     ]
    },
    {
     "ename": "NameError",
     "evalue": "name 'userinput' is not defined",
     "output_type": "error",
     "traceback": [
      "\u001b[1;31m---------------------------------------------------------------------------\u001b[0m",
      "\u001b[1;31mNameError\u001b[0m                                 Traceback (most recent call last)",
      "Cell \u001b[1;32mIn[1], line 6\u001b[0m\n\u001b[0;32m      4\u001b[0m \u001b[39mfor\u001b[39;00m i \u001b[39min\u001b[39;00m \u001b[39mrange\u001b[39m(\u001b[39m10\u001b[39m):\n\u001b[0;32m      5\u001b[0m     c\u001b[39m=\u001b[39ma\u001b[39m+\u001b[39mb\n\u001b[1;32m----> 6\u001b[0m     userinput\u001b[39m.\u001b[39mappend(c)\n\u001b[0;32m      7\u001b[0m     a,b\u001b[39m=\u001b[39mb,c\n",
      "\u001b[1;31mNameError\u001b[0m: name 'userinput' is not defined"
     ]
    }
   ],
   "source": [
    "# fibbonacci series\n",
    "a,b=0,1\n",
    "print(a,b,sep='\\n')\n",
    "for i in range(10):\n",
    "    c=a+b\n",
    "    userinput.append(c)\n",
    "    a,b=b,c"
   ]
  },
  {
   "cell_type": "code",
   "execution_count": 2,
   "metadata": {},
   "outputs": [
    {
     "ename": "NameError",
     "evalue": "name 'userinput' is not defined",
     "output_type": "error",
     "traceback": [
      "\u001b[1;31m---------------------------------------------------------------------------\u001b[0m",
      "\u001b[1;31mNameError\u001b[0m                                 Traceback (most recent call last)",
      "Cell \u001b[1;32mIn[2], line 4\u001b[0m\n\u001b[0;32m      2\u001b[0m \u001b[39mfor\u001b[39;00m i \u001b[39min\u001b[39;00m \u001b[39mrange\u001b[39m(\u001b[39m5\u001b[39m):\n\u001b[0;32m      3\u001b[0m     n \u001b[39m=\u001b[39m\u001b[39mint\u001b[39m(\u001b[39minput\u001b[39m(\u001b[39m'\u001b[39m\u001b[39menter aa number:\u001b[39m\u001b[39m'\u001b[39m))\n\u001b[1;32m----> 4\u001b[0m     userinput\u001b[39m.\u001b[39mappend(n)\n\u001b[0;32m      5\u001b[0m \u001b[39mprint\u001b[39m(num)\n\u001b[0;32m      6\u001b[0m \u001b[39mfor\u001b[39;00m i \u001b[39min\u001b[39;00m \u001b[39mrange\u001b[39m(\u001b[39m0\u001b[39m,\u001b[39mlen\u001b[39m(num)\u001b[39m-\u001b[39m\u001b[39m1\u001b[39m):\n",
      "\u001b[1;31mNameError\u001b[0m: name 'userinput' is not defined"
     ]
    }
   ],
   "source": [
    "num=[]\n",
    "for i in range(5):\n",
    "    n =int(input('enter aa number:'))\n",
    "    userinput.append(n)\n",
    "print(num)\n",
    "for i in range(0,len(num)-1):\n",
    "    for j in range(0,len(num)-i-1):\n",
    "        if num[j]>num[j+1]:\n",
    "            num[j], num[j+1]= num[j+1],num[j]"
   ]
  },
  {
   "cell_type": "code",
   "execution_count": 6,
   "metadata": {},
   "outputs": [
    {
     "name": "stdout",
     "output_type": "stream",
     "text": [
      "[]\n"
     ]
    }
   ],
   "source": [
    "num=[]\n",
    "for i in range(5):\n",
    "    n =int(input('enter aa number:'))\n",
    "    userinput.append(n)\n",
    "print(num)"
   ]
  },
  {
   "cell_type": "code",
   "execution_count": 22,
   "metadata": {},
   "outputs": [
    {
     "name": "stdout",
     "output_type": "stream",
     "text": [
      "[65, 45, 74, 14, 65]\n",
      "45\n"
     ]
    }
   ],
   "source": [
    "userinput=[]\n",
    "for i in range(5):\n",
    "    n =int(input('enter aa number:'))\n",
    "    userinput.append(n)\n",
    "print(userinput)\n",
    "for i in range(0,len(userinput)-1):\n",
    "    for j in range(0,len(userinput)-i-1):\n",
    "        if userinput[j]>userinput[j+1]:\n",
    "            userinput[j], userinput[j+1]= userinput[j+1],userinput[j]\n",
    "print(userinput[1])\n"
   ]
  },
  {
   "cell_type": "code",
   "execution_count": 21,
   "metadata": {},
   "outputs": [
    {
     "ename": "TypeError",
     "evalue": "'builtin_function_or_method' object is not subscriptable",
     "output_type": "error",
     "traceback": [
      "\u001b[1;31m---------------------------------------------------------------------------\u001b[0m",
      "\u001b[1;31mTypeError\u001b[0m                                 Traceback (most recent call last)",
      "Cell \u001b[1;32mIn[21], line 1\u001b[0m\n\u001b[1;32m----> 1\u001b[0m \u001b[39mprint\u001b[39m(\u001b[39mlen\u001b[39;49m[userinput])\n",
      "\u001b[1;31mTypeError\u001b[0m: 'builtin_function_or_method' object is not subscriptable"
     ]
    }
   ],
   "source": [
    "print(len[userinput])"
   ]
  },
  {
   "cell_type": "code",
   "execution_count": 6,
   "metadata": {},
   "outputs": [],
   "source": []
  },
  {
   "cell_type": "code",
   "execution_count": 7,
   "metadata": {},
   "outputs": [
    {
     "name": "stdout",
     "output_type": "stream",
     "text": [
      "*****\n",
      "****\n",
      "***\n",
      "**\n"
     ]
    }
   ],
   "source": [
    "for i in range(5,1,-1):\n",
    "    print('*'*i)\n",
    "for i in range    "
   ]
  },
  {
   "cell_type": "code",
   "execution_count": 3,
   "metadata": {},
   "outputs": [
    {
     "name": "stdout",
     "output_type": "stream",
     "text": [
      "      *  *  *  *  *  *        \n",
      "       *  *  *  *  *          \n",
      "         *  *  *  *           \n",
      "          *  *  *             \n",
      "            *  *              \n"
     ]
    }
   ],
   "source": [
    "for i in range(6,1,-1):\n",
    "    print(('*  '*i).center(30,))  "
   ]
  },
  {
   "cell_type": "code",
   "execution_count": null,
   "metadata": {},
   "outputs": [],
   "source": []
  }
 ],
 "metadata": {
  "kernelspec": {
   "display_name": "Python 3",
   "language": "python",
   "name": "python3"
  },
  "language_info": {
   "codemirror_mode": {
    "name": "ipython",
    "version": 3
   },
   "file_extension": ".py",
   "mimetype": "text/x-python",
   "name": "python",
   "nbconvert_exporter": "python",
   "pygments_lexer": "ipython3",
   "version": "3.11.4"
  },
  "orig_nbformat": 4
 },
 "nbformat": 4,
 "nbformat_minor": 2
}
