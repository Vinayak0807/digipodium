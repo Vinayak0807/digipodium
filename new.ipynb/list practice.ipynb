{
 "cells": [
  {
   "cell_type": "code",
   "execution_count": null,
   "metadata": {},
   "outputs": [],
   "source": [
    "#Write a program that creates an empty list and then asks the user to input integers to add to the list. Print the final list\n",
    "a=[]\n",
    "b=input(\"enter anything:\")\n",
    "a=b.split(',')\n",
    "print(a)"
   ]
  },
  {
   "cell_type": "code",
   "execution_count": null,
   "metadata": {},
   "outputs": [],
   "source": [
    "#Write a program that creates a list of integers and then asks the user to input an integer to check \n",
    "#if it exists in the list. Print a message indicating whether the integer is in the list or not\n",
    "b=[1,2,3,4,5,6,7]\n",
    "c=int(input(\"enter the number:\"))\n",
    "if c in b:\n",
    "    print('num exist in list')\n",
    "else:\n",
    "    print('num doesnt exist in list')    "
   ]
  },
  {
   "cell_type": "code",
   "execution_count": null,
   "metadata": {},
   "outputs": [],
   "source": [
    "#Write a program that creates a list of strings and then sorts the list alphabetically. Print the sorted list.\n",
    "c=('o','z','c','d','e','b','g','i','a')\n",
    "sorted(c)"
   ]
  },
  {
   "cell_type": "code",
   "execution_count": null,
   "metadata": {},
   "outputs": [],
   "source": [
    "#Write a program that creates a list of integers and then finds the maximum value in the list. Print the maximum value.\n",
    "d=[1,66,77,44,33,99,87,67,34,11,22]\n",
    "d.sort()\n",
    "print(d)\n",
    "print(d[-1])"
   ]
  },
  {
   "cell_type": "code",
   "execution_count": null,
   "metadata": {},
   "outputs": [],
   "source": [
    "#Write a program that creates two lists of integers and then finds the common elements between those two lists.\n",
    "# Print the common elements\n",
    "a=[1,2,3,4,88,77,55,99,33,123,43]\n",
    "b=[55,6,33,56,76,23,75,67,87,55,77]\n",
    "for i in a:\n",
    "    if i in b:\n",
    "        print(i)\n"
   ]
  },
  {
   "cell_type": "code",
   "execution_count": null,
   "metadata": {},
   "outputs": [],
   "source": [
    "#Write a program that creates a list of integers and then finds the sum of all the even numbers in the list. Print the sum\n",
    "list1=[1,2,3,4,5,6,7,8,9]\n",
    "count=0\n",
    "for i in list1:\n",
    "    if i%2==0:\n",
    "        count=count+i\n",
    "print(count)"
   ]
  },
  {
   "cell_type": "code",
   "execution_count": null,
   "metadata": {},
   "outputs": [],
   "source": [
    "#Write a program that creates a list of integers and then asks the user to input a position to remove an element from the list. Print the final list\n",
    "list1"
   ]
  },
  {
   "cell_type": "code",
   "execution_count": null,
   "metadata": {},
   "outputs": [],
   "source": [
    "#WAP TO FIND THE INDEX OF SIMILAR NUMBER\n",
    "a=[1,2,3,4,51,2,3,4,5,6,7,8,3,3,3,2,4]\n",
    "search=3\n",
    "cnt= a.count(search)\n",
    "start=0\n",
    "result=[]\n",
    "for i in range(cnt):\n",
    "    indx=a.index(search, start)\n",
    "    start=indx+1\n",
    "    result.append(indx)\n",
    "print(result)"
   ]
  },
  {
   "cell_type": "code",
   "execution_count": null,
   "metadata": {},
   "outputs": [],
   "source": [
    "fib=[0,1]\n",
    "for i in range(15):\n",
    "    fib.append(fib[-1]+fib[-2])\n",
    "print(fib)    "
   ]
  },
  {
   "cell_type": "code",
   "execution_count": null,
   "metadata": {},
   "outputs": [],
   "source": [
    "\n",
    "num=5\n",
    "f=1\n",
    "for i in range(1,num+1):\n",
    "   f=f*i\n",
    "print(f)  "
   ]
  },
  {
   "cell_type": "code",
   "execution_count": null,
   "metadata": {},
   "outputs": [],
   "source": [
    "colors=['red','blue','green','yellow','pink','shamrock','orange','grey','brown','white','black']\n",
    "colors_with_n=[]\n",
    "for c in colors:\n",
    "    if c.endswith('e'):\n",
    "        colors_with_n.append(c)\n",
    "print(colors_with_n)    "
   ]
  },
  {
   "cell_type": "code",
   "execution_count": null,
   "metadata": {},
   "outputs": [],
   "source": [
    "colors=['red','blue','green','yellow','pink','shamrock','orange','grey','brown','white','black']\n",
    "colors_with_ane=[]\n",
    "for c in colors:\n",
    "    if \"a\" in c or \"e\" in c:\n",
    "        colors_with_ane.append(c)\n",
    "print(colors_with_ane)"
   ]
  },
  {
   "cell_type": "code",
   "execution_count": null,
   "metadata": {},
   "outputs": [],
   "source": [
    "a=[1,2,3,4,5,6]\n",
    "a2=[]\n",
    "for i in a:\n",
    "    a2.append(i**2)\n",
    "print(a2)    \n"
   ]
  },
  {
   "cell_type": "code",
   "execution_count": null,
   "metadata": {},
   "outputs": [],
   "source": [
    "a=[1,2,3,4,5,6]\n",
    "a2=[]\n",
    "for i in a:\n",
    "    if i%2==0:\n",
    "        a2.append(i**2)\n",
    "print(a2) "
   ]
  },
  {
   "cell_type": "code",
   "execution_count": null,
   "metadata": {},
   "outputs": [],
   "source": [
    "names=['ram kumar', 'hari om', 'Michael rao',\n",
    " 'Emily sharma','rajesh kumar','ajay shukla','aman pandey']\n",
    "for name in names:\n",
    "    words=name.split()\n",
    "    first_letter = name[0]\n",
    "    last_letter = name[-1][0]\n",
    "    print(f\"Name: {name}, First Letter: {first_letter}, Last Letter: {last_letter}\")"
   ]
  },
  {
   "cell_type": "code",
   "execution_count": null,
   "metadata": {},
   "outputs": [],
   "source": [
    "names=['John Doe', 'Jane Smith', 'Michael Johnson',\n",
    " 'Emily Brown','rajesh kumar','ajay shukla','aman pandey']\n",
    "short_name=[]\n",
    "for nm in  names:\n",
    "    words=nm.split()\n",
    "    short_name.append(words[0][0]+words[-1][0])\n",
    "print(short_name)    "
   ]
  },
  {
   "cell_type": "code",
   "execution_count": null,
   "metadata": {},
   "outputs": [],
   "source": [
    "#Write a program that creates a list of integers and then removes all duplicates from the list. Print the final list.\n",
    "a1=[1,1,1,1,1,2,2,2,3,4,5,6,7,8,9,9]\n",
    "new_list = []\n",
    "for num in a1:\n",
    "    if num not in new_list:\n",
    "        new_list.append(num)\n",
    "print(\"List without Duplicates:\", new_list)"
   ]
  },
  {
   "cell_type": "code",
   "execution_count": null,
   "metadata": {},
   "outputs": [],
   "source": [
    "#Write a program that creates a list of strings and then finds the longest string in the list. Print the longest string\n",
    "a2=['hello','hakunamatata','bye','thankyou','okay']\n",
    "a3=[]\n",
    "for i in a2:\n",
    "    if len(i)>len(a3):\n",
    "        a3=i\n",
    "print(a3)        "
   ]
  },
  {
   "cell_type": "code",
   "execution_count": null,
   "metadata": {},
   "outputs": [],
   "source": [
    "#Write a program that creates a list of integers and then finds the sum of all the even numbers in the list. Print the sum\n",
    "s=0\n",
    "a4=[1,2,3,4,5,6,78,9,9,0,88]\n",
    "for i in a4:\n",
    "    if i%2==0:\n",
    "        s=s+i\n",
    "print(s)        \n",
    "\n",
    "\n",
    "       "
   ]
  },
  {
   "cell_type": "code",
   "execution_count": null,
   "metadata": {},
   "outputs": [],
   "source": [
    "#Write a program that creates a list of integers and \n",
    "#then asks the user to input a position to remove an element from the list. Print the final list.\n",
    "\n",
    "list5=[1,2,3,4,5,6,7,8,9]\n",
    "num=int(input('enter the number to remove:'))\n",
    "list5.remove(num)\n",
    "print('num=',num)\n",
    "print('list after removal of',num,'=',list5)"
   ]
  },
  {
   "cell_type": "code",
   "execution_count": null,
   "metadata": {},
   "outputs": [],
   "source": [
    "#Write a program that creates a list of strings and then concatenates all the strings into a single string. Print the final string.\n",
    "d= [\"Hello\"]\n",
    "d2=['welcome']\n",
    "d3=['to']\n",
    "d4=['digipodium']\n",
    "d.extend(d2)\n",
    "d.extend(d3)\n",
    "d.extend(d4)\n",
    "print(d)\n",
    "#or\n",
    "print(d2+d3+d4)\n",
    "\n"
   ]
  },
  {
   "cell_type": "code",
   "execution_count": null,
   "metadata": {},
   "outputs": [],
   "source": [
    "#Write a program that creates a list of integers and then finds the median value of the list. Print the median \n",
    "f=[1,2,3,4,5,6,7,8,9,6,5,4,3]\n",
    "len(f)\n",
    "num=len(f)\n",
    "if len(f)%2==0:\n",
    "    median=(num//2-1 +num//2)/2\n",
    "    print(median)\n",
    "else:\n",
    "    median =num//2    \n",
    "    print(median)\n",
    "\n",
    "\n",
    "\n"
   ]
  },
  {
   "cell_type": "code",
   "execution_count": null,
   "metadata": {},
   "outputs": [],
   "source": [
    "#Write a program that creates a list of strings and then reverses the order of the strings in the list. Print the reversed list\n",
    "hs=['hello','zaid','sir']\n",
    "hs.reverse()\n",
    "print(hs)"
   ]
  },
  {
   "cell_type": "code",
   "execution_count": null,
   "metadata": {},
   "outputs": [],
   "source": [
    "#Write a program that creates a list of integers and then calculates the average of all the numbers in the list. Print the average\n",
    "som=0\n",
    "num=[10,20,30,40,50]\n",
    "for i in num:\n",
    "    som=i+som\n",
    "print('sum of number=',som) \n",
    "print('average of given number=',som/len(num))   \n"
   ]
  },
  {
   "cell_type": "code",
   "execution_count": null,
   "metadata": {},
   "outputs": [],
   "source": [
    "#Write a program that creates a list of integers and then finds the index of a specific element in the list. Print the index.\n",
    "num=int(input('enter the number:'))\n",
    "vs=[1,2,13,4,55,6,77,8,19]\n",
    "go=vs.index(num)\n",
    "print(f'index of {num} is ={go}')\n"
   ]
  },
  {
   "cell_type": "code",
   "execution_count": null,
   "metadata": {},
   "outputs": [],
   "source": [
    "#Write a program that creates a list of integers and then sorts the list in descending order. Print the sorted list\n",
    "a=[5,6,7,44,55,33,88,66,22,65]\n",
    "a.sort(reverse=True)\n",
    "print(a)"
   ]
  },
  {
   "cell_type": "code",
   "execution_count": null,
   "metadata": {},
   "outputs": [],
   "source": [
    "#Write a program that creates a list of integers and then asks the user to input a value to add to the list.\n",
    "#  Add the value to the beginning of the list and print the final list.\n",
    "usr_input=int(input(\"enter the value:\"))\n",
    "my_list=[2,4,6,3,9,7,1,9,5,6,3,8]\n",
    "print('list before adding a value',my_list)\n",
    "my_list.insert(0,usr_input)\n",
    "print('list after adding a value:',my_list)"
   ]
  },
  {
   "cell_type": "code",
   "execution_count": null,
   "metadata": {},
   "outputs": [],
   "source": [
    "#Write a program that creates two lists of integers and then concatenates those two lists into a single list. \n",
    "# Print the final list\n",
    "v=[44,5,66,77,88,99,111]\n",
    "s=[11,22,33,44,55]\n",
    "print('concatenation of two list',v+s)\n"
   ]
  },
  {
   "cell_type": "code",
   "execution_count": null,
   "metadata": {},
   "outputs": [],
   "source": [
    "#Write a program n to calculate the square root of each element in a list of integers. Print the new \n",
    "a=[]\n",
    "my_list2=[4,9,16,25,36,49]\n",
    "print(my_list2)\n",
    "for i in my_list2:\n",
    "        sqr_root=i**0.5\n",
    "        a.append(sqr_root)\n",
    "print(a)        "
   ]
  },
  {
   "cell_type": "code",
   "execution_count": null,
   "metadata": {},
   "outputs": [],
   "source": [
    "#Write a program that uses the filter function to create a new list that contains only the even numbers from a user inputted list of integers.\n",
    "eve=[]\n",
    "fomo=[1,2,2,3,4,5,6,7,8,9,10,20,21,31,33,84,45]\n",
    "for i in fomo:\n",
    "        if i%2==0:\n",
    "            eve.append(i)\n",
    "print(eve)        "
   ]
  },
  {
   "cell_type": "code",
   "execution_count": null,
   "metadata": {},
   "outputs": [],
   "source": [
    "#Write a program  to create a new list that contains only the strings that start with a vowel\n",
    "#  from a user inputted list of strings.\n",
    "g=[]\n",
    "vow=['apple','orange','imambara','elephant','usa']\n",
    "for i in vow:\n",
    "    if i.startswith('e'):\n",
    "        g.append(i)\n",
    "    if i.startswith('a'):\n",
    "        g.append(i)\n",
    "    if i.startswith('i'):\n",
    "        g.append(i)\n",
    "    if i.startswith('o'):\n",
    "        g.append(i) \n",
    "    if i.startswith('u'):\n",
    "        g.append(i) \n",
    "print(g)              "
   ]
  },
  {
   "cell_type": "code",
   "execution_count": 19,
   "metadata": {},
   "outputs": [
    {
     "ename": "TypeError",
     "evalue": "int() argument must be a string, a bytes-like object or a real number, not 'list'",
     "output_type": "error",
     "traceback": [
      "\u001b[1;31m---------------------------------------------------------------------------\u001b[0m",
      "\u001b[1;31mTypeError\u001b[0m                                 Traceback (most recent call last)",
      "Cell \u001b[1;32mIn[19], line 7\u001b[0m\n\u001b[0;32m      4\u001b[0m inp \u001b[39m=\u001b[39m(\u001b[39minput\u001b[39m(\u001b[39m'\u001b[39m\u001b[39menter the positive integer:\u001b[39m\u001b[39m'\u001b[39m))\n\u001b[0;32m      6\u001b[0m \u001b[39mfor\u001b[39;00m i \u001b[39min\u001b[39;00m inp:\n\u001b[1;32m----> 7\u001b[0m     kin\u001b[39m.\u001b[39mappend(\u001b[39mint\u001b[39m(num))\n\u001b[0;32m      8\u001b[0m \u001b[39mfor\u001b[39;00m i \u001b[39min\u001b[39;00m num:\n\u001b[0;32m      9\u001b[0m     \u001b[39mif\u001b[39;00m i\u001b[39m>\u001b[39m\u001b[39m=\u001b[39m\u001b[39m0\u001b[39m:\n",
      "\u001b[1;31mTypeError\u001b[0m: int() argument must be a string, a bytes-like object or a real number, not 'list'"
     ]
    }
   ],
   "source": [
    "#Write a program  to create a new list that contains only the positive numbers from a user inputted list of integers.\n",
    "num=[]\n",
    "nub=[]\n",
    "inp =(input('enter the positive integer:'))\n",
    "\n",
    "for i in inp:\n",
    "    kin.append(int(num))\n",
    "for i in num:\n",
    "    if i>=0:\n",
    "        nub.append(i)\n",
    "        print(nub)\n",
    "    else:\n",
    "        print('negative number entered')    \n",
    "           "
   ]
  },
  {
   "cell_type": "code",
   "execution_count": null,
   "metadata": {},
   "outputs": [],
   "source": [
    "\n"
   ]
  },
  {
   "cell_type": "code",
   "execution_count": null,
   "metadata": {},
   "outputs": [],
   "source": []
  },
  {
   "cell_type": "code",
   "execution_count": null,
   "metadata": {},
   "outputs": [],
   "source": [
    "\n"
   ]
  }
 ],
 "metadata": {
  "kernelspec": {
   "display_name": "base",
   "language": "python",
   "name": "python3"
  },
  "language_info": {
   "codemirror_mode": {
    "name": "ipython",
    "version": 3
   },
   "file_extension": ".py",
   "mimetype": "text/x-python",
   "name": "python",
   "nbconvert_exporter": "python",
   "pygments_lexer": "ipython3",
   "version": "3.11.4"
  },
  "orig_nbformat": 4
 },
 "nbformat": 4,
 "nbformat_minor": 2
}
