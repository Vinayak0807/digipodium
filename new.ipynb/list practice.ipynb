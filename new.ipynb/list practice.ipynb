{
 "cells": [
  {
   "cell_type": "code",
   "execution_count": 2,
   "metadata": {},
   "outputs": [
    {
     "name": "stdout",
     "output_type": "stream",
     "text": [
      "['1', '2', '3', '4', '5', '6', '7', '8', '9']\n"
     ]
    }
   ],
   "source": [
    "#Write a program that creates an empty list and then asks the user to input integers to add to the list. Print the final list\n",
    "a=[]\n",
    "b=input(\"enter anything:\")\n",
    "a=b.split(',')\n",
    "print(a)"
   ]
  },
  {
   "cell_type": "code",
   "execution_count": 13,
   "metadata": {},
   "outputs": [
    {
     "name": "stdout",
     "output_type": "stream",
     "text": [
      "num exist in list\n"
     ]
    }
   ],
   "source": [
    "#Write a program that creates a list of integers and then asks the user to input an integer to check \n",
    "#if it exists in the list. Print a message indicating whether the integer is in the list or not\n",
    "b=[1,2,3,4,5,6,7]\n",
    "c=int(input(\"enter the number:\"))\n",
    "if c in b:\n",
    "    print('num exist in list')\n",
    "else:\n",
    "    print('num doesnt exist in list')    "
   ]
  },
  {
   "cell_type": "code",
   "execution_count": 15,
   "metadata": {},
   "outputs": [
    {
     "data": {
      "text/plain": [
       "['a', 'b', 'c', 'd', 'e', 'g', 'i', 'o', 'z']"
      ]
     },
     "execution_count": 15,
     "metadata": {},
     "output_type": "execute_result"
    }
   ],
   "source": [
    "#Write a program that creates a list of strings and then sorts the list alphabetically. Print the sorted list.\n",
    "c=('o','z','c','d','e','b','g','i','a')\n",
    "sorted(c)"
   ]
  },
  {
   "cell_type": "code",
   "execution_count": 23,
   "metadata": {},
   "outputs": [
    {
     "name": "stdout",
     "output_type": "stream",
     "text": [
      "[1, 11, 22, 33, 34, 44, 66, 67, 77, 87, 99]\n",
      "99\n"
     ]
    }
   ],
   "source": [
    "#Write a program that creates a list of integers and then finds the maximum value in the list. Print the maximum value.\n",
    "d=[1,66,77,44,33,99,87,67,34,11,22]\n",
    "d.sort()\n",
    "print(d)\n",
    "print(d[-1])"
   ]
  },
  {
   "cell_type": "code",
   "execution_count": 1,
   "metadata": {},
   "outputs": [
    {
     "name": "stdout",
     "output_type": "stream",
     "text": [
      "77\n",
      "55\n",
      "33\n"
     ]
    }
   ],
   "source": [
    "#Write a program that creates two lists of integers and then finds the common elements between those two lists.\n",
    "# Print the common elements\n",
    "a=[1,2,3,4,88,77,55,99,33,123,43]\n",
    "b=[55,6,33,56,76,23,75,67,87,55,77]\n",
    "for i in a:\n",
    "    if i in b:\n",
    "        print(i)\n"
   ]
  },
  {
   "cell_type": "code",
   "execution_count": 3,
   "metadata": {},
   "outputs": [
    {
     "name": "stdout",
     "output_type": "stream",
     "text": [
      "20\n"
     ]
    }
   ],
   "source": [
    "#Write a program that creates a list of integers and then finds the sum of all the even numbers in the list. Print the sum\n",
    "list1=[1,2,3,4,5,6,7,8,9]\n",
    "count=0\n",
    "for i in list1:\n",
    "    if i%2==0:\n",
    "        count=count+i\n",
    "print(count)"
   ]
  },
  {
   "cell_type": "code",
   "execution_count": null,
   "metadata": {},
   "outputs": [],
   "source": [
    "#Write a program that creates a list of integers and then asks the user to input a position to remove an element from the list. Print the final list\n",
    "list1"
   ]
  },
  {
   "cell_type": "code",
   "execution_count": 7,
   "metadata": {},
   "outputs": [
    {
     "name": "stdout",
     "output_type": "stream",
     "text": [
      "[2, 6, 12, 13, 14]\n"
     ]
    }
   ],
   "source": [
    "#WAP TO FIND THE INDEX OF SIMILAR NUMBER\n",
    "a=[1,2,3,4,51,2,3,4,5,6,7,8,3,3,3,2,4]\n",
    "search=3\n",
    "cnt= a.count(search)\n",
    "start=0\n",
    "result=[]\n",
    "for i in range(cnt):\n",
    "    indx=a.index(search, start)\n",
    "    start=indx+1\n",
    "    result.append(indx)\n",
    "print(result)"
   ]
  },
  {
   "cell_type": "code",
   "execution_count": 8,
   "metadata": {},
   "outputs": [
    {
     "name": "stdout",
     "output_type": "stream",
     "text": [
      "[0, 1, 1, 2, 3, 5, 8, 13, 21, 34, 55, 89, 144, 233, 377, 610, 987]\n"
     ]
    }
   ],
   "source": [
    "fib=[0,1]\n",
    "for i in range(15):\n",
    "    fib.append(fib[-1]+fib[-2])\n",
    "print(fib)    "
   ]
  },
  {
   "cell_type": "code",
   "execution_count": 13,
   "metadata": {},
   "outputs": [
    {
     "name": "stdout",
     "output_type": "stream",
     "text": [
      "120\n"
     ]
    }
   ],
   "source": [
    "\n",
    "num=5\n",
    "f=1\n",
    "for i in range(1,num+1):\n",
    "   f=f*i\n",
    "print(f)  "
   ]
  },
  {
   "cell_type": "code",
   "execution_count": 21,
   "metadata": {},
   "outputs": [
    {
     "name": "stdout",
     "output_type": "stream",
     "text": [
      "['blue', 'orange', 'white']\n"
     ]
    }
   ],
   "source": [
    "colors=['red','blue','green','yellow','pink','shamrock','orange','grey','brown','white','black']\n",
    "colors_with_n=[]\n",
    "for c in colors:\n",
    "    if c.endswith('e'):\n",
    "        colors_with_n.append(c)\n",
    "print(colors_with_n)    "
   ]
  },
  {
   "cell_type": "code",
   "execution_count": 22,
   "metadata": {},
   "outputs": [
    {
     "name": "stdout",
     "output_type": "stream",
     "text": [
      "['red', 'blue', 'green', 'yellow', 'shamrock', 'orange', 'grey', 'white', 'black']\n"
     ]
    }
   ],
   "source": [
    "colors=['red','blue','green','yellow','pink','shamrock','orange','grey','brown','white','black']\n",
    "colors_with_ane=[]\n",
    "for c in colors:\n",
    "    if \"a\" in c or \"e\" in c:\n",
    "        colors_with_ane.append(c)\n",
    "print(colors_with_ane)"
   ]
  },
  {
   "cell_type": "code",
   "execution_count": 23,
   "metadata": {},
   "outputs": [
    {
     "name": "stdout",
     "output_type": "stream",
     "text": [
      "[1, 4, 9, 16, 25, 36]\n"
     ]
    }
   ],
   "source": [
    "a=[1,2,3,4,5,6]\n",
    "a2=[]\n",
    "for i in a:\n",
    "    a2.append(i**2)\n",
    "print(a2)    \n"
   ]
  },
  {
   "cell_type": "code",
   "execution_count": 26,
   "metadata": {},
   "outputs": [
    {
     "name": "stdout",
     "output_type": "stream",
     "text": [
      "[4, 16, 36]\n"
     ]
    }
   ],
   "source": [
    "a=[1,2,3,4,5,6]\n",
    "a2=[]\n",
    "for i in a:\n",
    "    if i%2==0:\n",
    "        a2.append(i**2)\n",
    "print(a2) "
   ]
  },
  {
   "cell_type": "code",
   "execution_count": 37,
   "metadata": {},
   "outputs": [
    {
     "name": "stdout",
     "output_type": "stream",
     "text": [
      "Name: ram kumar, First Letter: r, Last Letter: r\n",
      "Name: hari om, First Letter: h, Last Letter: m\n",
      "Name: Michael rao, First Letter: M, Last Letter: o\n",
      "Name: Emily sharma, First Letter: E, Last Letter: a\n",
      "Name: rajesh kumar, First Letter: r, Last Letter: r\n",
      "Name: ajay shukla, First Letter: a, Last Letter: a\n",
      "Name: aman pandey, First Letter: a, Last Letter: y\n"
     ]
    }
   ],
   "source": [
    "names=['ram kumar', 'hari om', 'Michael rao',\n",
    " 'Emily sharma','rajesh kumar','ajay shukla','aman pandey']\n",
    "for name in names:\n",
    "    words=name.split()\n",
    "    first_letter = name[0]\n",
    "    last_letter = name[-1][0]\n",
    "    print(f\"Name: {name}, First Letter: {first_letter}, Last Letter: {last_letter}\")"
   ]
  },
  {
   "cell_type": "code",
   "execution_count": 38,
   "metadata": {},
   "outputs": [
    {
     "name": "stdout",
     "output_type": "stream",
     "text": [
      "['JD', 'JS', 'MJ', 'EB', 'rk', 'as', 'ap']\n"
     ]
    }
   ],
   "source": [
    "names=['John Doe', 'Jane Smith', 'Michael Johnson',\n",
    " 'Emily Brown','rajesh kumar','ajay shukla','aman pandey']\n",
    "short_name=[]\n",
    "for nm in  names:\n",
    "    words=nm.split()\n",
    "    short_name.append(words[0][0]+words[-1][0])\n",
    "print(short_name)    "
   ]
  },
  {
   "cell_type": "code",
   "execution_count": 3,
   "metadata": {},
   "outputs": [
    {
     "name": "stdout",
     "output_type": "stream",
     "text": [
      "List without Duplicates: [1, 2, 3, 4, 5, 6, 7, 8, 9]\n"
     ]
    }
   ],
   "source": [
    "#Write a program that creates a list of integers and then removes all duplicates from the list. Print the final list.\n",
    "a1=[1,1,1,1,1,2,2,2,3,4,5,6,7,8,9,9]\n",
    "new_list = []\n",
    "for num in a1:\n",
    "    if num not in new_list:\n",
    "        new_list.append(num)\n",
    "print(\"List without Duplicates:\", new_list)"
   ]
  },
  {
   "cell_type": "code",
   "execution_count": 7,
   "metadata": {},
   "outputs": [
    {
     "name": "stdout",
     "output_type": "stream",
     "text": [
      "hakunamatata\n"
     ]
    }
   ],
   "source": [
    "#Write a program that creates a list of strings and then finds the longest string in the list. Print the longest string\n",
    "a2=['hello','hakunamatata','bye','thankyou','okay']\n",
    "a3=[]\n",
    "for i in a2:\n",
    "    if len(i)>len(a3):\n",
    "        a3=i\n",
    "print(a3)        "
   ]
  },
  {
   "cell_type": "code",
   "execution_count": 18,
   "metadata": {},
   "outputs": [
    {
     "name": "stdout",
     "output_type": "stream",
     "text": [
      "178\n"
     ]
    }
   ],
   "source": [
    "#Write a program that creates a list of integers and then finds the sum of all the even numbers in the list. Print the sum\n",
    "s=0\n",
    "a4=[1,2,3,4,5,6,78,9,9,0,88]\n",
    "for i in a4:\n",
    "    if i%2==0:\n",
    "        s=s+i\n",
    "print(s)        \n",
    "\n",
    "\n",
    "       "
   ]
  },
  {
   "cell_type": "code",
   "execution_count": 21,
   "metadata": {},
   "outputs": [
    {
     "name": "stdout",
     "output_type": "stream",
     "text": [
      "num= 8\n",
      "list after removal of 8 = [1, 2, 3, 4, 5, 6, 7, 9]\n"
     ]
    }
   ],
   "source": [
    "#Write a program that creates a list of integers and \n",
    "#then asks the user to input a position to remove an element from the list. Print the final list.\n",
    "\n",
    "list5=[1,2,3,4,5,6,7,8,9]\n",
    "num=int(input('enter the number to remove:'))\n",
    "list5.remove(num)\n",
    "print('num=',num)\n",
    "print('list after removal of',num,'=',list5)"
   ]
  },
  {
   "cell_type": "code",
   "execution_count": 29,
   "metadata": {},
   "outputs": [
    {
     "name": "stdout",
     "output_type": "stream",
     "text": [
      "['Hello', 'welcome', 'to', 'digipodium']\n",
      "['welcome', 'to', 'digipodium']\n"
     ]
    }
   ],
   "source": [
    "#Write a program that creates a list of strings and then concatenates all the strings into a single string. Print the final string.\n",
    "d= [\"Hello\"]\n",
    "d2=['welcome']\n",
    "d3=['to']\n",
    "d4=['digipodium']\n",
    "d.extend(d2)\n",
    "d.extend(d3)\n",
    "d.extend(d4)\n",
    "print(d)\n",
    "#or\n",
    "print(d2+d3+d4)\n",
    "\n"
   ]
  },
  {
   "cell_type": "code",
   "execution_count": 37,
   "metadata": {},
   "outputs": [
    {
     "name": "stdout",
     "output_type": "stream",
     "text": [
      "6\n"
     ]
    }
   ],
   "source": [
    "#Write a program that creates a list of integers and then finds the median value of the list. Print the median \n",
    "f=[1,2,3,4,5,6,7,8,9,6,5,4,3]\n",
    "len(f)\n",
    "num=len(f)\n",
    "if len(f)%2==0:\n",
    "    median=(num//2-1 +num//2)/2\n",
    "    print(median)\n",
    "else:\n",
    "    median =num//2    \n",
    "    print(median)\n",
    "\n",
    "\n",
    "\n"
   ]
  },
  {
   "cell_type": "code",
   "execution_count": 39,
   "metadata": {},
   "outputs": [
    {
     "name": "stdout",
     "output_type": "stream",
     "text": [
      "['sir', 'zaid', 'hello']\n"
     ]
    }
   ],
   "source": [
    "#Write a program that creates a list of strings and then reverses the order of the strings in the list. Print the reversed list\n",
    "hs=['hello','zaid','sir']\n",
    "hs.reverse()\n",
    "print(hs)"
   ]
  },
  {
   "cell_type": "code",
   "execution_count": 42,
   "metadata": {},
   "outputs": [
    {
     "name": "stdout",
     "output_type": "stream",
     "text": [
      "sum of number= 150\n",
      "average of given number= 30.0\n"
     ]
    }
   ],
   "source": [
    "#Write a program that creates a list of integers and then calculates the average of all the numbers in the list. Print the average\n",
    "som=0\n",
    "num=[10,20,30,40,50]\n",
    "for i in num:\n",
    "    som=i+som\n",
    "print('sum of number=',som) \n",
    "print('average of given number=',som/len(num))   \n"
   ]
  },
  {
   "cell_type": "code",
   "execution_count": null,
   "metadata": {},
   "outputs": [],
   "source": [
    "\n"
   ]
  },
  {
   "cell_type": "code",
   "execution_count": null,
   "metadata": {},
   "outputs": [],
   "source": []
  },
  {
   "cell_type": "code",
   "execution_count": null,
   "metadata": {},
   "outputs": [],
   "source": []
  }
 ],
 "metadata": {
  "kernelspec": {
   "display_name": "base",
   "language": "python",
   "name": "python3"
  },
  "language_info": {
   "codemirror_mode": {
    "name": "ipython",
    "version": 3
   },
   "file_extension": ".py",
   "mimetype": "text/x-python",
   "name": "python",
   "nbconvert_exporter": "python",
   "pygments_lexer": "ipython3",
   "version": "3.11.4"
  },
  "orig_nbformat": 4
 },
 "nbformat": 4,
 "nbformat_minor": 2
}
