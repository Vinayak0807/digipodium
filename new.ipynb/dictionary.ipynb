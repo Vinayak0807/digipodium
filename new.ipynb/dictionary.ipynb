{
 "cells": [
  {
   "cell_type": "markdown",
   "metadata": {},
   "source": [
    "dictionary is the combination of key and values or a pair of key and value is known as dictionary\n",
    "d={key:value ,key:value}"
   ]
  },
  {
   "cell_type": "code",
   "execution_count": 8,
   "metadata": {},
   "outputs": [
    {
     "name": "stdout",
     "output_type": "stream",
     "text": [
      "{'vinayak': 23, 'lucky': 20, 'aryan': 22, 'shubham': 24, 'Nikhil': 25, 'awasthi': 45}\n",
      "24\n"
     ]
    }
   ],
   "source": [
    "d={'vinayak':23,'lucky':20,'aryan':22,'shubham':24,'Nikhil':25,'awasthi':45}\n",
    "print(d)\n",
    "print(d['shubham'])"
   ]
  },
  {
   "cell_type": "code",
   "execution_count": 9,
   "metadata": {},
   "outputs": [
    {
     "name": "stdout",
     "output_type": "stream",
     "text": [
      "total nhi hai\n"
     ]
    }
   ],
   "source": [
    "if 'total' in d:\n",
    "    print(d['total'])\n",
    "else:\n",
    "    print('total nhi hai')    "
   ]
  },
  {
   "cell_type": "code",
   "execution_count": 10,
   "metadata": {},
   "outputs": [
    {
     "data": {
      "text/plain": [
       "20"
      ]
     },
     "execution_count": 10,
     "metadata": {},
     "output_type": "execute_result"
    }
   ],
   "source": [
    "d.get('lucky')"
   ]
  },
  {
   "cell_type": "code",
   "execution_count": 13,
   "metadata": {},
   "outputs": [
    {
     "name": "stdout",
     "output_type": "stream",
     "text": [
      "{'vinayak': 23, 'lucky': 20, 'aryan': 22, 'shubham': 24, 'Nikhil': 25, 'awasthi': 45, 'harsh': '21'}\n"
     ]
    }
   ],
   "source": [
    "d['harsh']='21'\n",
    "print(d)"
   ]
  },
  {
   "cell_type": "code",
   "execution_count": 3,
   "metadata": {},
   "outputs": [
    {
     "name": "stdout",
     "output_type": "stream",
     "text": [
      "name of student\t 45\n"
     ]
    }
   ],
   "source": [
    "r= int(input('please enter number of students:'))\n",
    "i=1\n",
    "record={}\n",
    "while i<r:\n",
    "    name= input('enter the name:')\n",
    "    pmark=input('enter the marks')\n",
    "    record[name]= pmark\n",
    "    i= i+1\n",
    "print('name of student\\t',pmark)    \n",
    "for x in record:\n",
    "    print('\\t',x,'\\t\\t',record[x])    "
   ]
  },
  {
   "cell_type": "code",
   "execution_count": 34,
   "metadata": {},
   "outputs": [
    {
     "data": {
      "text/plain": [
       "('harsh', '21')"
      ]
     },
     "execution_count": 34,
     "metadata": {},
     "output_type": "execute_result"
    }
   ],
   "source": [
    "#remove the last item of dictionary\n",
    "d.popitem()"
   ]
  },
  {
   "cell_type": "code",
   "execution_count": 5,
   "metadata": {},
   "outputs": [
    {
     "name": "stdout",
     "output_type": "stream",
     "text": [
      "total in d\n"
     ]
    }
   ],
   "source": [
    "d={'apple':'200','banana':'100','grapes':'300','orange':'150'}\n",
    "if 'apple' in d:\n",
    "    print('total in d')\n",
    "else:\n",
    "    print('not in dictionary')    \n"
   ]
  },
  {
   "cell_type": "code",
   "execution_count": 6,
   "metadata": {},
   "outputs": [
    {
     "name": "stdout",
     "output_type": "stream",
     "text": [
      "{'apple': '200', 'banana': '100', 'grapes': '300', 'orange': '150', 'papaya': '250'}\n"
     ]
    }
   ],
   "source": [
    "d['papaya']='250'\n",
    "print(d)"
   ]
  },
  {
   "cell_type": "code",
   "execution_count": 7,
   "metadata": {},
   "outputs": [
    {
     "data": {
      "text/plain": [
       "'200'"
      ]
     },
     "execution_count": 7,
     "metadata": {},
     "output_type": "execute_result"
    }
   ],
   "source": [
    "d.get('apple')"
   ]
  },
  {
   "cell_type": "code",
   "execution_count": 10,
   "metadata": {},
   "outputs": [
    {
     "name": "stdout",
     "output_type": "stream",
     "text": [
      "20\n",
      "{'vinayak': 23, 'lucky': 20, 'aryan': 22, 'shubham': 24, 'Nikhil': 25, 'awasthi': 45, 'vinay': '20'}\n"
     ]
    }
   ],
   "source": [
    "#set default\n",
    "a={'vinayak':23,'lucky':20,'aryan':22,'shubham':24,'Nikhil':25,'awasthi':45}\n",
    "print(a.setdefault('vinay','20'))\n",
    "print(a)\n",
    "\n"
   ]
  },
  {
   "cell_type": "code",
   "execution_count": 11,
   "metadata": {},
   "outputs": [
    {
     "name": "stdout",
     "output_type": "stream",
     "text": [
      "7\n"
     ]
    }
   ],
   "source": [
    "print(len(a))"
   ]
  },
  {
   "cell_type": "code",
   "execution_count": 12,
   "metadata": {},
   "outputs": [
    {
     "name": "stdout",
     "output_type": "stream",
     "text": [
      "{'vinayak': 23, 'lucky': 20, 'aryan': 22, 'shubham': 24, 'Nikhil': 25, 'awasthi': 45, 'apple': '200', 'banana': '100', 'grapes': '300', 'orange': '150'}\n"
     ]
    }
   ],
   "source": [
    "a1={'vinayak':23,'lucky':20,'aryan':22,'shubham':24,'Nikhil':25,'awasthi':45}\n",
    "a2={'apple':'200','banana':'100','grapes':'300','orange':'150'}\n",
    "a1.update(a2)\n",
    "print(a1)"
   ]
  },
  {
   "cell_type": "code",
   "execution_count": 1,
   "metadata": {},
   "outputs": [
    {
     "name": "stdout",
     "output_type": "stream",
     "text": [
      "aherry 2\n",
      "apple 3\n",
      "banana 1\n"
     ]
    }
   ],
   "source": [
    "my_dict = {'apple': 3, 'banana': 1, 'aherry': 2}\n",
    "\n",
    "sorted_keys = sorted(my_dict.keys())\n",
    "for key in sorted_keys:\n",
    "    print(key, my_dict[key])\n"
   ]
  },
  {
   "cell_type": "code",
   "execution_count": 15,
   "metadata": {},
   "outputs": [
    {
     "name": "stdout",
     "output_type": "stream",
     "text": [
      "['apple', 'banana', 'cherry']\n"
     ]
    }
   ],
   "source": [
    "my_dict = {'apple': 3, 'banana': 1, 'cherry': 2}\n",
    "a=list(my_dict)\n",
    "a.sort()\n",
    "print(a)"
   ]
  },
  {
   "cell_type": "code",
   "execution_count": 2,
   "metadata": {},
   "outputs": [
    {
     "name": "stdout",
     "output_type": "stream",
     "text": [
      "5 in dict d\n"
     ]
    }
   ],
   "source": [
    "d = {1: 10, 2: 20, 3: 30, 4: 40, 5: 50, 6: 60}\n",
    "a= int(input(('enter the number:')))\n",
    "if a in d:\n",
    "    print(a,'in dict d')\n",
    "else:\n",
    "    print(a,'not i d')\n",
    "        "
   ]
  },
  {
   "cell_type": "code",
   "execution_count": null,
   "metadata": {},
   "outputs": [],
   "source": []
  }
 ],
 "metadata": {
  "kernelspec": {
   "display_name": "base",
   "language": "python",
   "name": "python3"
  },
  "language_info": {
   "codemirror_mode": {
    "name": "ipython",
    "version": 3
   },
   "file_extension": ".py",
   "mimetype": "text/x-python",
   "name": "python",
   "nbconvert_exporter": "python",
   "pygments_lexer": "ipython3",
   "version": "3.11.4"
  },
  "orig_nbformat": 4
 },
 "nbformat": 4,
 "nbformat_minor": 2
}
