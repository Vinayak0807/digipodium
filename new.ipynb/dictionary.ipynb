{
 "cells": [
  {
   "cell_type": "markdown",
   "metadata": {},
   "source": [
    "dictionary is the combination of key and values or a pair of key and value is known as dictionary\n",
    "d={key:value ,key:value}"
   ]
  },
  {
   "cell_type": "code",
   "execution_count": 8,
   "metadata": {},
   "outputs": [
    {
     "name": "stdout",
     "output_type": "stream",
     "text": [
      "{'vinayak': 23, 'lucky': 20, 'aryan': 22, 'shubham': 24, 'Nikhil': 25, 'awasthi': 45}\n",
      "24\n"
     ]
    }
   ],
   "source": [
    "d={'vinayak':23,'lucky':20,'aryan':22,'shubham':24,'Nikhil':25,'awasthi':45}\n",
    "print(d)\n",
    "print(d['shubham'])"
   ]
  },
  {
   "cell_type": "code",
   "execution_count": 9,
   "metadata": {},
   "outputs": [
    {
     "name": "stdout",
     "output_type": "stream",
     "text": [
      "total nhi hai\n"
     ]
    }
   ],
   "source": [
    "if 'total' in d:\n",
    "    print(d['total'])\n",
    "else:\n",
    "    print('total nhi hai')    "
   ]
  },
  {
   "cell_type": "code",
   "execution_count": 10,
   "metadata": {},
   "outputs": [
    {
     "data": {
      "text/plain": [
       "20"
      ]
     },
     "execution_count": 10,
     "metadata": {},
     "output_type": "execute_result"
    }
   ],
   "source": [
    "d.get('lucky')"
   ]
  },
  {
   "cell_type": "code",
   "execution_count": 13,
   "metadata": {},
   "outputs": [
    {
     "name": "stdout",
     "output_type": "stream",
     "text": [
      "{'vinayak': 23, 'lucky': 20, 'aryan': 22, 'shubham': 24, 'Nikhil': 25, 'awasthi': 45, 'harsh': '21'}\n"
     ]
    }
   ],
   "source": [
    "d['harsh']='21'\n",
    "print(d)"
   ]
  },
  {
   "cell_type": "code",
   "execution_count": 27,
   "metadata": {},
   "outputs": [
    {
     "ename": "ValueError",
     "evalue": "invalid literal for int() with base 10: 'j'",
     "output_type": "error",
     "traceback": [
      "\u001b[1;31m---------------------------------------------------------------------------\u001b[0m",
      "\u001b[1;31mValueError\u001b[0m                                Traceback (most recent call last)",
      "Cell \u001b[1;32mIn[27], line 1\u001b[0m\n\u001b[1;32m----> 1\u001b[0m r\u001b[39m=\u001b[39m \u001b[39mint\u001b[39m(\u001b[39minput\u001b[39m(\u001b[39m'\u001b[39m\u001b[39mplease enter number of students:\u001b[39m\u001b[39m'\u001b[39m))\n\u001b[0;32m      2\u001b[0m i\u001b[39m=\u001b[39m\u001b[39m1\u001b[39m\n\u001b[0;32m      3\u001b[0m record\u001b[39m=\u001b[39m{}\n",
      "\u001b[1;31mValueError\u001b[0m: invalid literal for int() with base 10: 'j'"
     ]
    }
   ],
   "source": [
    "r= int(input('please enter number of students:'))\n",
    "i=1\n",
    "record={}\n",
    "while i<r:\n",
    "    name= input('enter the name:')\n",
    "    pmark=input('enter the marks')\n",
    "    record[name]= pmark\n",
    "    i= i+1\n",
    "print('name of student\\t',pmarks)    \n",
    "for x in record:\n",
    "    print('\\t',x,'\\t\\t',record[x])    "
   ]
  },
  {
   "cell_type": "code",
   "execution_count": 34,
   "metadata": {},
   "outputs": [
    {
     "data": {
      "text/plain": [
       "('harsh', '21')"
      ]
     },
     "execution_count": 34,
     "metadata": {},
     "output_type": "execute_result"
    }
   ],
   "source": [
    "#remove the last item of dictionary\n",
    "d.popitem()"
   ]
  },
  {
   "cell_type": "code",
   "execution_count": null,
   "metadata": {},
   "outputs": [],
   "source": [
    "#sorting"
   ]
  }
 ],
 "metadata": {
  "kernelspec": {
   "display_name": "base",
   "language": "python",
   "name": "python3"
  },
  "language_info": {
   "codemirror_mode": {
    "name": "ipython",
    "version": 3
   },
   "file_extension": ".py",
   "mimetype": "text/x-python",
   "name": "python",
   "nbconvert_exporter": "python",
   "pygments_lexer": "ipython3",
   "version": "3.11.4"
  },
  "orig_nbformat": 4
 },
 "nbformat": 4,
 "nbformat_minor": 2
}
