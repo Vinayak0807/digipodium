{
 "cells": [
  {
   "attachments": {},
   "cell_type": "markdown",
   "metadata": {},
   "source": [
    "list\n",
    "-indexed, ordered,mutable,can have duplicates\n",
    "function=list()\n",
    "tuple:\n",
    "-indexed,ordered,immutable,can have duplicates\n",
    "()\n",
    "function=tuple()\n",
    "set:\n",
    "unindexing,unordered,mutable,cannot have duplicates\n",
    "{}\n",
    "function=set()\n",
    "#dictionary\n",
    "-unindexing,ordered,mutable,key:value pairs,{'key':'values'}\n",
    "function=dict()"
   ]
  },
  {
   "cell_type": "code",
   "execution_count": 9,
   "metadata": {},
   "outputs": [],
   "source": [
    "#creating list\n",
    "x=[] #empty list\n",
    "x=[1,2,3,4,5]\n",
    "colors=['red','blue','green']\n",
    "mixed=[1,2,3,4,'red',False,True,[1,2,3]]\n",
    "nested=[1,2,3],[1,5,4],[8,7,9]\n"
   ]
  },
  {
   "cell_type": "code",
   "execution_count": 4,
   "metadata": {},
   "outputs": [
    {
     "name": "stdout",
     "output_type": "stream",
     "text": [
      "['a', 'l', 'e', 'x', 'a', 'n', 'd', 'e', 'r']\n"
     ]
    }
   ],
   "source": [
    "names=\"alexander\"\n",
    "charlist=list(names)\n",
    "print(charlist)"
   ]
  },
  {
   "cell_type": "code",
   "execution_count": 8,
   "metadata": {},
   "outputs": [
    {
     "data": {
      "text/plain": [
       "['red', 'blue', 'green', 'red', 'blue', 'green', 'red', 'blue', 'green']"
      ]
     },
     "execution_count": 8,
     "metadata": {},
     "output_type": "execute_result"
    }
   ],
   "source": [
    "colors=['red','blue','green']\n",
    "colors*3"
   ]
  },
  {
   "cell_type": "code",
   "execution_count": 14,
   "metadata": {},
   "outputs": [
    {
     "name": "stdout",
     "output_type": "stream",
     "text": [
      "['red', 'blue', 'green', 'yellow', 'pink']\n",
      "['brown', 'white', 'black']\n",
      "['black', 'white', 'brown', 'grey', 'orange', 'shamrock', 'pink', 'yellow', 'green', 'blue', 'red']\n",
      "Red\n"
     ]
    }
   ],
   "source": [
    "colors=['red','blue','green','yellow','pink','shamrock','orange','grey','brown','white','black']\n",
    "len(colors)\n",
    "print(colors[0:5])\n",
    "print(colors[-3:])\n",
    "print(colors[::-1])\n",
    "colors[0]='Red'\n",
    "print(colors[0])"
   ]
  },
  {
   "attachments": {},
   "cell_type": "markdown",
   "metadata": {},
   "source": [
    "append()\t Used for appending and adding elements to the end of the List. \n",
    "2\tcopy()\tIt returns a shallow copy of a list\n",
    "3\tclear()\tThis method is used for removing all items from the list. \n",
    "4\tcount()\tThese methods count the elements\n",
    "5\textend()\tAdds each element of the iterable to the end of the List\n",
    "6\tindex()\tReturns the lowest index where the element appears. \n",
    "7\tinsert()\tInserts a given element at a given index in a list. \n",
    "8\tpop()\t Removes and returns the last value from the List or the given index value.\n",
    "9\tremove()\tRemoves a given object from the List. \n",
    "10\treverse()\t Reverses objects of the List in place.\n",
    "11\tsort()\tSort a List in ascending, descending, or user-defined order\n",
    "12\tmin()\tCalculates the minimum of all the elements of the List\n",
    "13\tmax()\t\tCalculates the maximum of all the elements of the List"
   ]
  },
  {
   "cell_type": "code",
   "execution_count": 2,
   "metadata": {},
   "outputs": [],
   "source": [
    "tvshows=[]\n",
    "tvshows.append('chota bheem')\n",
    "tvshows.append('ben 10')\n",
    "tvshows.append('shinshan')"
   ]
  },
  {
   "cell_type": "code",
   "execution_count": 3,
   "metadata": {},
   "outputs": [
    {
     "name": "stdout",
     "output_type": "stream",
     "text": [
      "['chota bheem', 'ben 10', 'shinshan', 'kko']\n"
     ]
    }
   ],
   "source": [
    "show=input('enter a show name')\n",
    "tvshows.append(show)\n",
    "print(tvshows)"
   ]
  },
  {
   "cell_type": "code",
   "execution_count": 17,
   "metadata": {},
   "outputs": [
    {
     "name": "stdout",
     "output_type": "stream",
     "text": [
      "['chota bheem', 'ben 10', 'shinshan', 'friends', 'friends', 'friends', 'friends', 'kko', 'kk', 'l']\n"
     ]
    }
   ],
   "source": [
    "tvshows.insert(4,\"friends\")\n",
    "print(tvshows)"
   ]
  },
  {
   "cell_type": "code",
   "execution_count": 16,
   "metadata": {},
   "outputs": [
    {
     "name": "stdout",
     "output_type": "stream",
     "text": [
      "['1', '2']\n"
     ]
    }
   ],
   "source": [
    "usershows=input('enter your fav tv shows separated by commas:')\n",
    "usershows=usershows.split(',')\n",
    "print(usershows)"
   ]
  },
  {
   "cell_type": "code",
   "execution_count": 15,
   "metadata": {},
   "outputs": [
    {
     "name": "stdout",
     "output_type": "stream",
     "text": [
      "['chota bheem', 'ben 10', 'shinshan', 'friends', 'friends', 'friends', 'kko', 'kk', 'l']\n"
     ]
    }
   ],
   "source": [
    "tvshows.extend(usershows)\n",
    "print(tvshows)"
   ]
  },
  {
   "cell_type": "code",
   "execution_count": 12,
   "metadata": {},
   "outputs": [
    {
     "name": "stdout",
     "output_type": "stream",
     "text": [
      "['chota bheem', 'ben 10', 'shinshan', 'friends', 'friends', 'friends', 'kko', 'kk']\n"
     ]
    }
   ],
   "source": [
    "tvshows.remove('the office')\n",
    "print(tvshows)\n",
    "\n",
    "\n"
   ]
  },
  {
   "cell_type": "code",
   "execution_count": 20,
   "metadata": {},
   "outputs": [
    {
     "name": "stdout",
     "output_type": "stream",
     "text": [
      "friends\n"
     ]
    }
   ],
   "source": [
    "popped_value = tvshows.pop(2)\n",
    "print(popped_value)"
   ]
  },
  {
   "cell_type": "code",
   "execution_count": 28,
   "metadata": {},
   "outputs": [
    {
     "name": "stdout",
     "output_type": "stream",
     "text": [
      "[100, 99, 88, 77, 56, 4, 3, 2, 1]\n",
      "[1, 2, 3, 4, 56, 77, 88, 99, 100]\n",
      "[100, 99, 88, 77, 56, 4, 3, 2, 1]\n"
     ]
    }
   ],
   "source": [
    "x=[1,2,3,4,56,77,88,99,100]\n",
    "x.reverse()\n",
    "print(x)\n",
    "x.sort()\n",
    "print(x)\n",
    "x.sort(reverse=True)\n",
    "print(x)\n"
   ]
  },
  {
   "cell_type": "code",
   "execution_count": 31,
   "metadata": {},
   "outputs": [
    {
     "name": "stdout",
     "output_type": "stream",
     "text": [
      "8\n"
     ]
    }
   ],
   "source": [
    "#TO FIND THE INDEX OF SAME NUMBER\n",
    "start=0\n",
    "for i in range(x.count(1)):\n",
    "    pos=x.index(1,start)\n",
    "    start=pos+1\n",
    "    print(pos)"
   ]
  },
  {
   "cell_type": "code",
   "execution_count": 1,
   "metadata": {},
   "outputs": [
    {
     "name": "stdout",
     "output_type": "stream",
     "text": [
      "[1, 2, 3, 4, 5, 6, 7, 8, 9, 10, 11]\n"
     ]
    }
   ],
   "source": [
    "marks=[1,2,3,4,5,6,7,8,9,10,11]\n",
    "print(marks)"
   ]
  },
  {
   "cell_type": "code",
   "execution_count": 2,
   "metadata": {},
   "outputs": [
    {
     "name": "stdout",
     "output_type": "stream",
     "text": [
      "[1, 2]\n"
     ]
    }
   ],
   "source": [
    "print(marks[0:2])"
   ]
  },
  {
   "cell_type": "code",
   "execution_count": 4,
   "metadata": {},
   "outputs": [
    {
     "name": "stdout",
     "output_type": "stream",
     "text": [
      "yes\n"
     ]
    }
   ],
   "source": [
    "if 7 in marks:\n",
    "    print(\"yes\")\n",
    "else:\n",
    "    print('no')    "
   ]
  },
  {
   "cell_type": "code",
   "execution_count": 8,
   "metadata": {},
   "outputs": [
    {
     "name": "stdout",
     "output_type": "stream",
     "text": [
      "[0, 2, 4, 6, 8, 10, 12, 14, 16, 18, 20, 22, 24, 26, 28, 30, 32, 34, 36, 38, 40, 42, 44, 46, 48, 50, 52, 54, 56, 58, 60, 62, 64, 66, 68, 70, 72, 74, 76, 78, 80, 82, 84, 86, 88, 90, 92, 94, 96, 98, 100, 102, 104, 106, 108]\n"
     ]
    }
   ],
   "source": [
    "even=list(range(0,110,2))\n",
    "print(even)"
   ]
  },
  {
   "cell_type": "code",
   "execution_count": 9,
   "metadata": {},
   "outputs": [],
   "source": [
    "marks.append(200)"
   ]
  },
  {
   "cell_type": "code",
   "execution_count": 10,
   "metadata": {},
   "outputs": [
    {
     "data": {
      "text/plain": [
       "[1, 2, 3, 4, 5, 6, 7, 8, 9, 10, 11, 200]"
      ]
     },
     "execution_count": 10,
     "metadata": {},
     "output_type": "execute_result"
    }
   ],
   "source": [
    "marks"
   ]
  },
  {
   "cell_type": "code",
   "execution_count": 11,
   "metadata": {},
   "outputs": [],
   "source": [
    "marks.insert(1,200)"
   ]
  },
  {
   "cell_type": "code",
   "execution_count": 14,
   "metadata": {},
   "outputs": [
    {
     "data": {
      "text/plain": [
       "[1, 200, 2, 3, 4, 5, 6, 7, 8, 9, 10, 11, 200]"
      ]
     },
     "execution_count": 14,
     "metadata": {},
     "output_type": "execute_result"
    }
   ],
   "source": [
    "marks[0:]"
   ]
  },
  {
   "cell_type": "code",
   "execution_count": 15,
   "metadata": {},
   "outputs": [
    {
     "data": {
      "text/plain": [
       "{1, 2, 3, 4, 5, 6, 7, 8, 9, 10, 11, 200}"
      ]
     },
     "execution_count": 15,
     "metadata": {},
     "output_type": "execute_result"
    }
   ],
   "source": [
    "set(marks)"
   ]
  },
  {
   "cell_type": "code",
   "execution_count": 16,
   "metadata": {},
   "outputs": [
    {
     "name": "stdout",
     "output_type": "stream",
     "text": [
      "[5, 2, 3, 4, 1]\n"
     ]
    }
   ],
   "source": [
    "# Sample list\n",
    "my_list = [1, 2, 3, 4, 5]\n",
    "\n",
    "# Check if the list has at least two elements\n",
    "if len(my_list) >= 2:\n",
    "    # Swap the first and last elements\n",
    "    my_list[0], my_list[-1] = my_list[-1], my_list[0]\n",
    "\n",
    "# Print the updated list\n",
    "print(my_list)\n"
   ]
  },
  {
   "cell_type": "code",
   "execution_count": 18,
   "metadata": {},
   "outputs": [
    {
     "name": "stdout",
     "output_type": "stream",
     "text": [
      "Reversed number: 854\n"
     ]
    }
   ],
   "source": [
    "# Input a whole number\n",
    "number = int(input(\"Enter a whole number: \"))\n",
    "\n",
    "# Convert the number to a string\n",
    "number_str = str(number)\n",
    "\n",
    "# Reverse the string using slicing\n",
    "reversed_str = number_str[::-1]\n",
    "\n",
    "# Convert the reversed string back to an integer\n",
    "reversed_number = int(reversed_str)\n",
    "\n",
    "# Print the reversed number\n",
    "print(\"Reversed number:\", reversed_number)"
   ]
  },
  {
   "cell_type": "code",
   "execution_count": 26,
   "metadata": {},
   "outputs": [
    {
     "name": "stdout",
     "output_type": "stream",
     "text": [
      "Original list: [1, 2, 3, 4, 5]\n",
      "Reversed list: [5, 4, 3, 2, 1]\n"
     ]
    }
   ],
   "source": [
    "# Sample list\n",
    "my_list = [1, 2, 3, 4, 5]\n",
    "\n",
    "# Reverse the list using slicing\n",
    "reversed_list = my_list[::-1]\n",
    "\n",
    "# Print the reversed list\n",
    "print(\"Original list:\", my_list)\n",
    "print(\"Reversed list:\", reversed_list)"
   ]
  },
  {
   "cell_type": "code",
   "execution_count": 20,
   "metadata": {},
   "outputs": [],
   "source": [
    "my_list = [1, 2, 3, 4, 5]\n",
    "reversed_list=my_list[::-1]"
   ]
  },
  {
   "cell_type": "markdown",
   "metadata": {},
   "source": [
    "we use my_list[::-1] for reversed order  \n",
    "\n"
   ]
  },
  {
   "cell_type": "code",
   "execution_count": null,
   "metadata": {},
   "outputs": [],
   "source": []
  },
  {
   "cell_type": "code",
   "execution_count": null,
   "metadata": {},
   "outputs": [],
   "source": []
  }
 ],
 "metadata": {
  "kernelspec": {
   "display_name": "base",
   "language": "python",
   "name": "python3"
  },
  "language_info": {
   "codemirror_mode": {
    "name": "ipython",
    "version": 3
   },
   "file_extension": ".py",
   "mimetype": "text/x-python",
   "name": "python",
   "nbconvert_exporter": "python",
   "pygments_lexer": "ipython3",
   "version": "3.11.4"
  },
  "orig_nbformat": 4
 },
 "nbformat": 4,
 "nbformat_minor": 2
}
