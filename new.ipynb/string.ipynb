{
 "cells": [
  {
   "attachments": {},
   "cell_type": "markdown",
   "metadata": {},
   "source": [
    "indexing\n"
   ]
  },
  {
   "cell_type": "code",
   "execution_count": 1,
   "metadata": {},
   "outputs": [
    {
     "data": {
      "text/plain": [
       "'p'"
      ]
     },
     "execution_count": 1,
     "metadata": {},
     "output_type": "execute_result"
    }
   ],
   "source": [
    "a=\"apple\"\n",
    "a[1] #indexing"
   ]
  },
  {
   "attachments": {},
   "cell_type": "markdown",
   "metadata": {},
   "source": [
    "SLICING"
   ]
  },
  {
   "cell_type": "code",
   "execution_count": 3,
   "metadata": {},
   "outputs": [
    {
     "data": {
      "text/plain": [
       "'appl'"
      ]
     },
     "execution_count": 3,
     "metadata": {},
     "output_type": "execute_result"
    }
   ],
   "source": [
    "a[0:4]"
   ]
  },
  {
   "cell_type": "code",
   "execution_count": 11,
   "metadata": {},
   "outputs": [
    {
     "name": "stdout",
     "output_type": "stream",
     "text": [
      "deenanath\n",
      "chauhan\n",
      "vijay\n",
      "chauhan\n"
     ]
    }
   ],
   "source": [
    "name=\"vijay deenanath chauhan\"\n",
    "print(name[6:15])\n",
    "print(name[16:len(name)])\n",
    "#when starting index is not given it assume zero\n",
    "print(name[:5])\n",
    "print(name[16:])"
   ]
  },
  {
   "attachments": {},
   "cell_type": "markdown",
   "metadata": {},
   "source": [
    "slicing syntax\n",
    "var[(start):(stop):(step)]\n",
    "here step means giving the gap "
   ]
  },
  {
   "cell_type": "code",
   "execution_count": 12,
   "metadata": {},
   "outputs": [
    {
     "name": "stdout",
     "output_type": "stream",
     "text": [
      "vjydeaahcahn\n",
      "ia ennt hua\n",
      "nahuahc htananeed yajiv\n"
     ]
    }
   ],
   "source": [
    "print(name[::2])\n",
    "print(name[1::2])\n",
    "#reverse string\n",
    "print(name[::-1])"
   ]
  },
  {
   "attachments": {},
   "cell_type": "markdown",
   "metadata": {},
   "source": [
    "string methods\n",
    "lower(): Converts all uppercase characters in a string into lowercase\n",
    "upper(): Converts all lowercase characters in a string into uppercase\n",
    "title(): Convert string to title case\n",
    "swapcase(): Swap the cases of all characters in a string\n",
    "capitalize(): Convert the first character of a string to uppercase"
   ]
  },
  {
   "cell_type": "code",
   "execution_count": 17,
   "metadata": {},
   "outputs": [
    {
     "name": "stdout",
     "output_type": "stream",
     "text": [
      "THIS IS A PYTHON STRING\n",
      "this is a python string\n",
      "This Is A Python String\n",
      "THIS IS A python STRING\n",
      "this is a PYTHON string\n"
     ]
    }
   ],
   "source": [
    "msg='this is a PYTHON string'\n",
    "print(msg.upper())\n",
    "print(msg.casefold())\n",
    "print(msg.title())\n",
    "print(msg.swapcase())\n",
    "print(msg)"
   ]
  },
  {
   "cell_type": "code",
   "execution_count": 18,
   "metadata": {},
   "outputs": [
    {
     "name": "stdout",
     "output_type": "stream",
     "text": [
      "this is a PYTHON string\n"
     ]
    }
   ],
   "source": [
    "print(msg)"
   ]
  },
  {
   "cell_type": "code",
   "execution_count": 26,
   "metadata": {},
   "outputs": [
    {
     "name": "stdout",
     "output_type": "stream",
     "text": [
      "you entered the alphanumeric\n"
     ]
    }
   ],
   "source": [
    "x=input(\"enter the value\")\n",
    "if x.isnumeric():\n",
    "    print(\"you entered the number\")\n",
    "if x.isalpha():\n",
    "    print(\"you entered the string\")  \n",
    "if x.isalnum():\n",
    "    print(\"you entered the alphanumeric\")      "
   ]
  },
  {
   "cell_type": "code",
   "execution_count": 27,
   "metadata": {},
   "outputs": [
    {
     "name": "stdout",
     "output_type": "stream",
     "text": [
      "True\n"
     ]
    }
   ],
   "source": [
    "txt = \"Hello, welcome to my world.\"\n",
    "\n",
    "x = txt.startswith(\"Hello\")\n",
    "\n",
    "print(x)"
   ]
  },
  {
   "cell_type": "code",
   "execution_count": 29,
   "metadata": {},
   "outputs": [
    {
     "name": "stdout",
     "output_type": "stream",
     "text": [
      "blue\n",
      "black\n"
     ]
    }
   ],
   "source": [
    "colors=[\"red\",\"green\",'blue','black']\n",
    "for color in colors:\n",
    "    if color.startswith('b'):\n",
    "        print(color)"
   ]
  },
  {
   "cell_type": "code",
   "execution_count": null,
   "metadata": {},
   "outputs": [],
   "source": []
  },
  {
   "cell_type": "code",
   "execution_count": 37,
   "metadata": {},
   "outputs": [
    {
     "name": "stdout",
     "output_type": "stream",
     "text": [
      "life before death,Strenght before weakness,journey before destination\n",
      "['life', 'before', 'death,Strenght', 'before', 'weakness,journey', 'before', 'destination']\n",
      "['life before death', 'Strenght before weakness', 'journey before destination']\n",
      "['lif', ' b', 'for', ' d', 'ath,Str', 'nght b', 'for', ' w', 'akn', 'ss,journ', 'y b', 'for', ' d', 'stination']\n",
      "69\n"
     ]
    }
   ],
   "source": [
    "quote=\"life before death,Strenght before weakness,journey before destination\"\n",
    "print(quote)\n",
    "print(quote.split())\n",
    "print(quote.split(','))\n",
    "print(quote.split('e'))\n",
    "print(len(quote))\n"
   ]
  },
  {
   "cell_type": "code",
   "execution_count": 3,
   "metadata": {},
   "outputs": [
    {
     "name": "stdout",
     "output_type": "stream",
     "text": [
      "red*** green*** blue*** black\n",
      "red---- green---- blue---- black\n",
      "red=== green=== blue=== black\n"
     ]
    }
   ],
   "source": [
    "s=[\"red\",\"green\",'blue','black']\n",
    "\" \".join(s)\n",
    "print(\"*** \".join(s))\n",
    "print(\"---- \".join(s))\n",
    "print(\"=== \".join(s))"
   ]
  },
  {
   "cell_type": "code",
   "execution_count": 6,
   "metadata": {},
   "outputs": [
    {
     "name": "stdout",
     "output_type": "stream",
     "text": [
      "51\n",
      "12\n"
     ]
    }
   ],
   "source": [
    "quote=\"life before death,Strenght before weakness,journey before destination\"\n",
    "quote.find('before')\n",
    "print(quote.find('before',30))\n",
    "print(quote.rfind('death')) #rfind() searches from right side"
   ]
  },
  {
   "cell_type": "code",
   "execution_count": 8,
   "metadata": {},
   "outputs": [
    {
     "name": "stdout",
     "output_type": "stream",
     "text": [
      "lufe before death,Strenght before weakness,journey before destunatuon\n",
      "lfe before death,Strenght before weakness,journey before destnaton\n"
     ]
    }
   ],
   "source": [
    "print(quote.replace('i','u'))\n",
    "print(quote.replace('i',''))\n"
   ]
  },
  {
   "cell_type": "code",
   "execution_count": 11,
   "metadata": {},
   "outputs": [
    {
     "name": "stdout",
     "output_type": "stream",
     "text": [
      "5\n"
     ]
    }
   ],
   "source": []
  },
  {
   "cell_type": "code",
   "execution_count": 12,
   "metadata": {},
   "outputs": [
    {
     "name": "stdout",
     "output_type": "stream",
     "text": [
      "ArithmeticError  \n",
      "\n",
      "ArithmeticError\n"
     ]
    }
   ],
   "source": [
    "hell='''ArithmeticError  \n",
    "'''\n",
    "print(hell)\n",
    "print(hell.strip())"
   ]
  },
  {
   "cell_type": "code",
   "execution_count": 17,
   "metadata": {},
   "outputs": [
    {
     "data": {
      "text/plain": [
       "15"
      ]
     },
     "execution_count": 17,
     "metadata": {},
     "output_type": "execute_result"
    }
   ],
   "source": [
    "quote.count('d')+quote.count('e')"
   ]
  },
  {
   "cell_type": "code",
   "execution_count": 18,
   "metadata": {},
   "outputs": [
    {
     "name": "stdout",
     "output_type": "stream",
     "text": [
      "The Zen of Python, by Tim Peters\n",
      "\n",
      "Beautiful is better than ugly.\n",
      "Explicit is better than implicit.\n",
      "Simple is better than complex.\n",
      "Complex is better than complicated.\n",
      "Flat is better than nested.\n",
      "Sparse is better than dense.\n",
      "Readability counts.\n",
      "Special cases aren't special enough to break the rules.\n",
      "Although practicality beats purity.\n",
      "Errors should never pass silently.\n",
      "Unless explicitly silenced.\n",
      "In the face of ambiguity, refuse the temptation to guess.\n",
      "There should be one-- and preferably only one --obvious way to do it.\n",
      "Although that way may not be obvious at first unless you're Dutch.\n",
      "Now is better than never.\n",
      "Although never is often better than *right* now.\n",
      "If the implementation is hard to explain, it's a bad idea.\n",
      "If the implementation is easy to explain, it may be a good idea.\n",
      "Namespaces are one honking great idea -- let's do more of those!\n"
     ]
    }
   ],
   "source": [
    "import this"
   ]
  },
  {
   "cell_type": "code",
   "execution_count": 25,
   "metadata": {},
   "outputs": [
    {
     "name": "stdout",
     "output_type": "stream",
     "text": [
      "The                 3\n",
      "Zen                 3\n",
      "of                  2\n",
      "Python,             7\n",
      "by                  2\n",
      "Tim                 3\n",
      "Peters              6\n",
      "Beautiful           9\n",
      "is                  2\n",
      "better              6\n",
      "than                4\n",
      "ugly.               5\n",
      "Explicit            8\n",
      "is                  2\n",
      "better              6\n",
      "than                4\n",
      "implicit.           9\n",
      "Simple              6\n",
      "is                  2\n",
      "better              6\n",
      "than                4\n",
      "complex.            8\n",
      "Complex             7\n",
      "is                  2\n",
      "better              6\n",
      "than                4\n",
      "complicated.        12\n",
      "Flat                4\n",
      "is                  2\n",
      "better              6\n",
      "than                4\n",
      "nested.             7\n",
      "Sparse              6\n",
      "is                  2\n",
      "better              6\n",
      "than                4\n",
      "dense.              6\n",
      "Readability         11\n",
      "counts.             7\n",
      "Special             7\n",
      "cases               5\n",
      "aren't              6\n",
      "special             7\n",
      "enough              6\n",
      "to                  2\n",
      "break               5\n",
      "the                 3\n",
      "rules.              6\n",
      "Although            8\n",
      "practicality        12\n",
      "beats               5\n",
      "purity.             7\n",
      "Errors              6\n",
      "should              6\n",
      "never               5\n",
      "pass                4\n",
      "silently.           9\n",
      "Unless              6\n",
      "explicitly          10\n",
      "silenced.           9\n",
      "In                  2\n",
      "the                 3\n",
      "face                4\n",
      "of                  2\n",
      "ambiguity,          10\n",
      "refuse              6\n",
      "the                 3\n",
      "temptation          10\n",
      "to                  2\n",
      "guess.              6\n",
      "There               5\n",
      "should              6\n",
      "be                  2\n",
      "one--               5\n",
      "and                 3\n",
      "preferably          10\n",
      "only                4\n",
      "one                 3\n",
      "--obvious           9\n",
      "way                 3\n",
      "to                  2\n",
      "do                  2\n",
      "it.                 3\n",
      "Although            8\n",
      "that                4\n",
      "way                 3\n",
      "may                 3\n",
      "not                 3\n",
      "be                  2\n",
      "obvious             7\n",
      "at                  2\n",
      "first               5\n",
      "unless              6\n",
      "you're              6\n",
      "Dutch.              6\n",
      "Now                 3\n",
      "is                  2\n",
      "better              6\n",
      "than                4\n",
      "never.              6\n",
      "Although            8\n",
      "never               5\n",
      "is                  2\n",
      "often               5\n",
      "better              6\n",
      "than                4\n",
      "*right*             7\n",
      "now.                4\n",
      "If                  2\n",
      "the                 3\n",
      "implementation      14\n",
      "is                  2\n",
      "hard                4\n",
      "to                  2\n",
      "explain,            8\n",
      "it's                4\n",
      "a                   1\n",
      "bad                 3\n",
      "idea.               5\n",
      "If                  2\n",
      "the                 3\n",
      "implementation      14\n",
      "is                  2\n",
      "easy                4\n",
      "to                  2\n",
      "explain,            8\n",
      "it                  2\n",
      "may                 3\n",
      "be                  2\n",
      "a                   1\n",
      "good                4\n",
      "idea.               5\n",
      "Namespaces          10\n",
      "are                 3\n",
      "one                 3\n",
      "honking             7\n",
      "great               5\n",
      "idea                4\n",
      "--                  2\n",
      "let's               5\n",
      "do                  2\n",
      "more                4\n",
      "of                  2\n",
      "those!              6\n"
     ]
    }
   ],
   "source": [
    "content='''The Zen of Python, by Tim Peters\n",
    "\n",
    "Beautiful is better than ugly.\n",
    "Explicit is better than implicit.\n",
    "Simple is better than complex.\n",
    "Complex is better than complicated.\n",
    "Flat is better than nested.\n",
    "Sparse is better than dense.\n",
    "Readability counts.\n",
    "Special cases aren't special enough to break the rules.\n",
    "Although practicality beats purity.\n",
    "Errors should never pass silently.\n",
    "Unless explicitly silenced.\n",
    "In the face of ambiguity, refuse the temptation to guess.\n",
    "There should be one-- and preferably only one --obvious way to do it.\n",
    "Although that way may not be obvious at first unless you're Dutch.\n",
    "Now is better than never.\n",
    "Although never is often better than *right* now.\n",
    "If the implementation is hard to explain, it's a bad idea.\n",
    "If the implementation is easy to explain, it may be a good idea.\n",
    "Namespaces are one honking great idea -- let's do more of those!'''\n",
    "for word in content.split():\n",
    "  print(f'{word:20}{len(word)}')"
   ]
  },
  {
   "cell_type": "code",
   "execution_count": 24,
   "metadata": {},
   "outputs": [
    {
     "ename": "NameError",
     "evalue": "name 'content' is not defined",
     "output_type": "error",
     "traceback": [
      "\u001b[1;31m---------------------------------------------------------------------------\u001b[0m",
      "\u001b[1;31mNameError\u001b[0m                                 Traceback (most recent call last)",
      "Cell \u001b[1;32mIn[24], line 1\u001b[0m\n\u001b[1;32m----> 1\u001b[0m \u001b[39mfor\u001b[39;00m word \u001b[39min\u001b[39;00m content\u001b[39m.\u001b[39msplit():\n\u001b[0;32m      2\u001b[0m     \u001b[39mprint\u001b[39m(\u001b[39mf\u001b[39m\u001b[39m'\u001b[39m\u001b[39m{\u001b[39;00mword\u001b[39m:\u001b[39;00m\u001b[39m20\u001b[39m\u001b[39m}\u001b[39;00m\u001b[39m{\u001b[39;00m\u001b[39mlen\u001b[39m(word)\u001b[39m}\u001b[39;00m\u001b[39m'\u001b[39m)\n",
      "\u001b[1;31mNameError\u001b[0m: name 'content' is not defined"
     ]
    }
   ],
   "source": [
    "\n"
   ]
  },
  {
   "cell_type": "code",
   "execution_count": 23,
   "metadata": {},
   "outputs": [
    {
     "ename": "NameError",
     "evalue": "name 'content' is not defined",
     "output_type": "error",
     "traceback": [
      "\u001b[1;31m---------------------------------------------------------------------------\u001b[0m",
      "\u001b[1;31mNameError\u001b[0m                                 Traceback (most recent call last)",
      "Cell \u001b[1;32mIn[23], line 1\u001b[0m\n\u001b[1;32m----> 1\u001b[0m \u001b[39mprint\u001b[39m(content\u001b[39m.\u001b[39mstrip(\u001b[39m'\u001b[39m\u001b[39mthe\u001b[39m\u001b[39m'\u001b[39m))\n",
      "\u001b[1;31mNameError\u001b[0m: name 'content' is not defined"
     ]
    }
   ],
   "source": [
    "print(content.strip('the'))"
   ]
  },
  {
   "cell_type": "code",
   "execution_count": null,
   "metadata": {},
   "outputs": [],
   "source": []
  }
 ],
 "metadata": {
  "kernelspec": {
   "display_name": "base",
   "language": "python",
   "name": "python3"
  },
  "language_info": {
   "codemirror_mode": {
    "name": "ipython",
    "version": 3
   },
   "file_extension": ".py",
   "mimetype": "text/x-python",
   "name": "python",
   "nbconvert_exporter": "python",
   "pygments_lexer": "ipython3",
   "version": "3.11.4"
  },
  "orig_nbformat": 4
 },
 "nbformat": 4,
 "nbformat_minor": 2
}
