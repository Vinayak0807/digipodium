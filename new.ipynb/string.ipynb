{
 "cells": [
  {
   "attachments": {},
   "cell_type": "markdown",
   "metadata": {},
   "source": [
    "indexing\n"
   ]
  },
  {
   "cell_type": "code",
   "execution_count": 1,
   "metadata": {},
   "outputs": [
    {
     "data": {
      "text/plain": [
       "'p'"
      ]
     },
     "execution_count": 1,
     "metadata": {},
     "output_type": "execute_result"
    }
   ],
   "source": [
    "a=\"apple\"\n",
    "a[1] #indexing"
   ]
  },
  {
   "attachments": {},
   "cell_type": "markdown",
   "metadata": {},
   "source": [
    "SLICING"
   ]
  },
  {
   "cell_type": "code",
   "execution_count": 3,
   "metadata": {},
   "outputs": [
    {
     "data": {
      "text/plain": [
       "'appl'"
      ]
     },
     "execution_count": 3,
     "metadata": {},
     "output_type": "execute_result"
    }
   ],
   "source": [
    "a[0:4]"
   ]
  },
  {
   "cell_type": "code",
   "execution_count": 11,
   "metadata": {},
   "outputs": [
    {
     "name": "stdout",
     "output_type": "stream",
     "text": [
      "deenanath\n",
      "chauhan\n",
      "vijay\n",
      "chauhan\n"
     ]
    }
   ],
   "source": [
    "name=\"vijay deenanath chauhan\"\n",
    "print(name[6:15])\n",
    "print(name[16:len(name)])\n",
    "#when starting index is not given it assume zero\n",
    "print(name[:5])\n",
    "print(name[16:])"
   ]
  },
  {
   "attachments": {},
   "cell_type": "markdown",
   "metadata": {},
   "source": [
    "slicing syntax\n",
    "var[(start):(stop):(step)]\n",
    "here step means giving the gap "
   ]
  },
  {
   "cell_type": "code",
   "execution_count": 12,
   "metadata": {},
   "outputs": [
    {
     "name": "stdout",
     "output_type": "stream",
     "text": [
      "vjydeaahcahn\n",
      "ia ennt hua\n",
      "nahuahc htananeed yajiv\n"
     ]
    }
   ],
   "source": [
    "print(name[::2])\n",
    "print(name[1::2])\n",
    "#reverse string\n",
    "print(name[::-1])"
   ]
  },
  {
   "attachments": {},
   "cell_type": "markdown",
   "metadata": {},
   "source": [
    "string methods\n",
    "lower(): Converts all uppercase characters in a string into lowercase\n",
    "upper(): Converts all lowercase characters in a string into uppercase\n",
    "title(): Convert string to title case\n",
    "swapcase(): Swap the cases of all characters in a string\n",
    "capitalize(): Convert the first character of a string to uppercase"
   ]
  },
  {
   "cell_type": "code",
   "execution_count": 17,
   "metadata": {},
   "outputs": [
    {
     "name": "stdout",
     "output_type": "stream",
     "text": [
      "THIS IS A PYTHON STRING\n",
      "this is a python string\n",
      "This Is A Python String\n",
      "THIS IS A python STRING\n",
      "this is a PYTHON string\n"
     ]
    }
   ],
   "source": [
    "msg='this is a PYTHON string'\n",
    "print(msg.upper())\n",
    "print(msg.casefold())\n",
    "print(msg.title())\n",
    "print(msg.swapcase())\n",
    "print(msg)"
   ]
  },
  {
   "cell_type": "code",
   "execution_count": 18,
   "metadata": {},
   "outputs": [
    {
     "name": "stdout",
     "output_type": "stream",
     "text": [
      "this is a PYTHON string\n"
     ]
    }
   ],
   "source": [
    "print(msg)"
   ]
  },
  {
   "cell_type": "code",
   "execution_count": 26,
   "metadata": {},
   "outputs": [
    {
     "name": "stdout",
     "output_type": "stream",
     "text": [
      "you entered the alphanumeric\n"
     ]
    }
   ],
   "source": [
    "x=input(\"enter the value\")\n",
    "if x.isnumeric():\n",
    "    print(\"you entered the number\")\n",
    "if x.isalpha():\n",
    "    print(\"you entered the string\")  \n",
    "if x.isalnum():\n",
    "    print(\"you entered the alphanumeric\")      "
   ]
  },
  {
   "cell_type": "code",
   "execution_count": 27,
   "metadata": {},
   "outputs": [
    {
     "name": "stdout",
     "output_type": "stream",
     "text": [
      "True\n"
     ]
    }
   ],
   "source": [
    "txt = \"Hello, welcome to my world.\"\n",
    "\n",
    "x = txt.startswith(\"Hello\")\n",
    "\n",
    "print(x)"
   ]
  },
  {
   "cell_type": "code",
   "execution_count": 29,
   "metadata": {},
   "outputs": [
    {
     "name": "stdout",
     "output_type": "stream",
     "text": [
      "blue\n",
      "black\n"
     ]
    }
   ],
   "source": [
    "colors=[\"red\",\"green\",'blue','black']\n",
    "for color in colors:\n",
    "    if color.startswith('b'):\n",
    "        print(color)"
   ]
  },
  {
   "cell_type": "code",
   "execution_count": null,
   "metadata": {},
   "outputs": [],
   "source": []
  },
  {
   "cell_type": "code",
   "execution_count": 37,
   "metadata": {},
   "outputs": [
    {
     "name": "stdout",
     "output_type": "stream",
     "text": [
      "life before death,Strenght before weakness,journey before destination\n",
      "['life', 'before', 'death,Strenght', 'before', 'weakness,journey', 'before', 'destination']\n",
      "['life before death', 'Strenght before weakness', 'journey before destination']\n",
      "['lif', ' b', 'for', ' d', 'ath,Str', 'nght b', 'for', ' w', 'akn', 'ss,journ', 'y b', 'for', ' d', 'stination']\n",
      "69\n"
     ]
    }
   ],
   "source": [
    "quote=\"life before death,Strenght before weakness,journey before destination\"\n",
    "print(quote)\n",
    "print(quote.split())\n",
    "print(quote.split(','))\n",
    "print(quote.split('e'))\n",
    "print(len(quote))\n"
   ]
  },
  {
   "cell_type": "code",
   "execution_count": null,
   "metadata": {},
   "outputs": [],
   "source": []
  }
 ],
 "metadata": {
  "kernelspec": {
   "display_name": "base",
   "language": "python",
   "name": "python3"
  },
  "language_info": {
   "codemirror_mode": {
    "name": "ipython",
    "version": 3
   },
   "file_extension": ".py",
   "mimetype": "text/x-python",
   "name": "python",
   "nbconvert_exporter": "python",
   "pygments_lexer": "ipython3",
   "version": "3.11.4"
  },
  "orig_nbformat": 4
 },
 "nbformat": 4,
 "nbformat_minor": 2
}
