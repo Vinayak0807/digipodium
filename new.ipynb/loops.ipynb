{
 "cells": [
  {
   "cell_type": "code",
   "execution_count": 2,
   "metadata": {},
   "outputs": [
    {
     "name": "stdout",
     "output_type": "stream",
     "text": [
      "10\n",
      "9\n",
      "8\n",
      "7\n",
      "6\n",
      "5\n",
      "4\n",
      "3\n",
      "2\n"
     ]
    }
   ],
   "source": [
    "for  i in range(10,1,-1):\n",
    "    print(i)"
   ]
  },
  {
   "cell_type": "code",
   "execution_count": 3,
   "metadata": {},
   "outputs": [
    {
     "name": "stdout",
     "output_type": "stream",
     "text": [
      "45789"
     ]
    }
   ],
   "source": [
    "data=[4,5,7,8,9]\n",
    "#traversal of list\n",
    "for i in data:\n",
    "    print(i,end=\"\")"
   ]
  },
  {
   "cell_type": "code",
   "execution_count": 8,
   "metadata": {},
   "outputs": [
    {
     "name": "stdout",
     "output_type": "stream",
     "text": [
      "500\n",
      "600\n",
      "800\n",
      "700\n"
     ]
    }
   ],
   "source": [
    "price=[500,None,600,800,700]\n",
    "for i in price:\n",
    "    if i is None:\n",
    "        continue\n",
    "    print(i)"
   ]
  },
  {
   "cell_type": "code",
   "execution_count": 11,
   "metadata": {},
   "outputs": [
    {
     "name": "stdout",
     "output_type": "stream",
     "text": [
      "500\n"
     ]
    }
   ],
   "source": [
    "price=[500,None,600,800,700]\n",
    "for i in price:\n",
    "    if i is None:\n",
    "        break\n",
    "    print(i)"
   ]
  },
  {
   "cell_type": "code",
   "execution_count": 16,
   "metadata": {},
   "outputs": [
    {
     "name": "stdout",
     "output_type": "stream",
     "text": [
      "1\n",
      "2\n",
      "3\n",
      "4\n",
      "5\n",
      "6 7 8 \n"
     ]
    }
   ],
   "source": [
    "for i in range(1,6):\n",
    " print(i)\n",
    "for j in range(1,4):\n",
    " print(i+j,end=\" \")\n",
    "print() \n"
   ]
  },
  {
   "cell_type": "code",
   "execution_count": 1,
   "metadata": {},
   "outputs": [
    {
     "ename": "ValueError",
     "evalue": "invalid literal for int() with base 10: ''",
     "output_type": "error",
     "traceback": [
      "\u001b[1;31m---------------------------------------------------------------------------\u001b[0m",
      "\u001b[1;31mValueError\u001b[0m                                Traceback (most recent call last)",
      "Cell \u001b[1;32mIn[1], line 1\u001b[0m\n\u001b[1;32m----> 1\u001b[0m n\u001b[39m=\u001b[39m\u001b[39mint\u001b[39m(\u001b[39minput\u001b[39m(\u001b[39m'\u001b[39m\u001b[39menter the no of rows:\u001b[39m\u001b[39m'\u001b[39m))\n\u001b[0;32m      2\u001b[0m \u001b[39mfor\u001b[39;00m i \u001b[39min\u001b[39;00m \u001b[39mrange\u001b[39m(\u001b[39m1\u001b[39m,n\u001b[39m+\u001b[39m\u001b[39m1\u001b[39m):\n\u001b[0;32m      3\u001b[0m     \u001b[39mfor\u001b[39;00m j \u001b[39min\u001b[39;00m \u001b[39mrange\u001b[39m(\u001b[39m1\u001b[39m,i\u001b[39m+\u001b[39m\u001b[39m1\u001b[39m):\n",
      "\u001b[1;31mValueError\u001b[0m: invalid literal for int() with base 10: ''"
     ]
    }
   ],
   "source": [
    "n=int(input('enter the no of rows:'))\n",
    "for i in range(1,n+1):\n",
    "    for j in range(1,i+1):\n",
    "        print(\"*\",end=\" \")\n",
    "    print()"
   ]
  },
  {
   "cell_type": "code",
   "execution_count": 3,
   "metadata": {},
   "outputs": [
    {
     "name": "stdout",
     "output_type": "stream",
     "text": [
      "2 * 1 = 2\n",
      "2 * 2 = 4\n",
      "2 * 3 = 6\n",
      "2 * 4 = 8\n",
      "2 * 5 = 10\n",
      "2 * 6 = 12\n",
      "2 * 7 = 14\n",
      "2 * 8 = 16\n",
      "2 * 9 = 18\n",
      "2 * 10 = 20\n",
      "\n",
      "3 * 1 = 3\n",
      "3 * 2 = 6\n",
      "3 * 3 = 9\n",
      "3 * 4 = 12\n",
      "3 * 5 = 15\n",
      "3 * 6 = 18\n",
      "3 * 7 = 21\n",
      "3 * 8 = 24\n",
      "3 * 9 = 27\n",
      "3 * 10 = 30\n",
      "\n",
      "4 * 1 = 4\n",
      "4 * 2 = 8\n",
      "4 * 3 = 12\n",
      "4 * 4 = 16\n",
      "4 * 5 = 20\n",
      "4 * 6 = 24\n",
      "4 * 7 = 28\n",
      "4 * 8 = 32\n",
      "4 * 9 = 36\n",
      "4 * 10 = 40\n",
      "\n"
     ]
    }
   ],
   "source": [
    "#creating a table using nested loop\n",
    "for i in range(2,5):\n",
    "    for j in range(1,11):\n",
    "        print(i,\"*\",j,\"=\",i*j)\n",
    "    print()    "
   ]
  },
  {
   "cell_type": "code",
   "execution_count": 1,
   "metadata": {},
   "outputs": [
    {
     "name": "stdout",
     "output_type": "stream",
     "text": [
      "(0, 'mayank')\n",
      "(1, 'yash')\n",
      "(2, 'vinayak')\n",
      "(3, 'nikhil')\n"
     ]
    }
   ],
   "source": [
    "names=['mayank','yash','vinayak','nikhil']\n",
    "for name in enumerate(names):\n",
    "    print(name)"
   ]
  },
  {
   "cell_type": "code",
   "execution_count": 2,
   "metadata": {},
   "outputs": [
    {
     "name": "stdout",
     "output_type": "stream",
     "text": [
      "0 3\n",
      "1 nikhil\n"
     ]
    }
   ],
   "source": [
    "for idx,name in enumerate(name):\n",
    "    print(idx,name)"
   ]
  },
  {
   "cell_type": "code",
   "execution_count": 7,
   "metadata": {},
   "outputs": [
    {
     "name": "stdout",
     "output_type": "stream",
     "text": [
      "1\n",
      "2\n",
      "3\n",
      "4\n",
      "5\n",
      "5\n",
      "5\n"
     ]
    }
   ],
   "source": [
    "x=[1,2,3,4,5,5,5]\n",
    "for i,v in enumerate(x):\n",
    "    if i==10:\n",
    "        break\n",
    "    print(v)"
   ]
  },
  {
   "cell_type": "code",
   "execution_count": 6,
   "metadata": {},
   "outputs": [
    {
     "name": "stdout",
     "output_type": "stream",
     "text": [
      "(0, 1)\n",
      "(1, 2)\n",
      "(2, 3)\n",
      "(3, 4)\n",
      "(4, 5)\n",
      "(5, 5)\n",
      "(6, 5)\n",
      "(7, 5)\n",
      "(8, 8)\n",
      "(9, 5)\n",
      "(10, 2)\n",
      "(11, 7)\n",
      "(12, 5)\n",
      "(13, 9)\n"
     ]
    }
   ],
   "source": [
    "#enumerates\n",
    "x=[1,2,3,4,5,5,5,5,8,5,2,7,5,9]\n",
    "for i in enumerate(x):\n",
    "    if i==5:\n",
    "        break\n",
    "    print(i)"
   ]
  },
  {
   "cell_type": "code",
   "execution_count": 9,
   "metadata": {},
   "outputs": [
    {
     "name": "stdout",
     "output_type": "stream",
     "text": [
      "1 2 9\n",
      "2 5 8\n",
      "3 8 7\n",
      "4 7 6\n",
      "5 8 4\n"
     ]
    }
   ],
   "source": [
    "x=[1,2,3,4,5]\n",
    "y=[2,5,8,7,8]\n",
    "z=[9,8,7,6,4]\n",
    "for i,j,k in zip(x,y,z):\n",
    "    print(i,j,k)"
   ]
  },
  {
   "cell_type": "code",
   "execution_count": 10,
   "metadata": {},
   "outputs": [
    {
     "name": "stdout",
     "output_type": "stream",
     "text": [
      "12\n",
      "15\n",
      "18\n",
      "17\n",
      "17\n"
     ]
    }
   ],
   "source": [
    "#zip The zip() function returns a zip object, which is an iterator of tuples where the first item in each passed iterator is paired together, and then the second item in each passed iterator are paired together etc\n",
    "x=[1,2,3,4,5]\n",
    "y=[2,5,8,7,8]\n",
    "z=[9,8,7,6,4]\n",
    "for i,j,k in zip(x,y,z):\n",
    "    print(i+j+k)"
   ]
  },
  {
   "cell_type": "code",
   "execution_count": 18,
   "metadata": {},
   "outputs": [
    {
     "name": "stdout",
     "output_type": "stream",
     "text": [
      "1\n",
      "2\n",
      "3\n",
      "4\n"
     ]
    }
   ],
   "source": [
    "#for else if all the iteration completed without any break statement,then the else part is executed else part is not executes if the loop is terminateed by a break statement\n",
    "a=[1,2,3,4,5,6]\n",
    "for i in a:\n",
    "    if i==5:\n",
    "        break\n",
    "    print(i)\n",
    "else:\n",
    "    print('loop ended')    \n"
   ]
  },
  {
   "cell_type": "code",
   "execution_count": 17,
   "metadata": {},
   "outputs": [
    {
     "name": "stdout",
     "output_type": "stream",
     "text": [
      "123%2=1\n",
      "123%3=0\n",
      "not prime\n"
     ]
    }
   ],
   "source": [
    "num=123\n",
    "for i in range(2,num):\n",
    "    print(f'{num}%{i}={num%i}')\n",
    "    if num%i==0:\n",
    "        print(\"not prime\")\n",
    "        break\n",
    "else:\n",
    "    print(\"prime\")    "
   ]
  },
  {
   "attachments": {},
   "cell_type": "markdown",
   "metadata": {},
   "source": [
    "while loop"
   ]
  },
  {
   "cell_type": "code",
   "execution_count": null,
   "metadata": {},
   "outputs": [],
   "source": []
  }
 ],
 "metadata": {
  "kernelspec": {
   "display_name": "base",
   "language": "python",
   "name": "python3"
  },
  "language_info": {
   "codemirror_mode": {
    "name": "ipython",
    "version": 3
   },
   "file_extension": ".py",
   "mimetype": "text/x-python",
   "name": "python",
   "nbconvert_exporter": "python",
   "pygments_lexer": "ipython3",
   "version": "3.11.4"
  },
  "orig_nbformat": 4
 },
 "nbformat": 4,
 "nbformat_minor": 2
}
