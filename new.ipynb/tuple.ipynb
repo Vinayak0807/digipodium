{
 "cells": [
  {
   "cell_type": "code",
   "execution_count": 1,
   "metadata": {},
   "outputs": [
    {
     "name": "stdout",
     "output_type": "stream",
     "text": [
      "<class 'tuple'>\n"
     ]
    }
   ],
   "source": [
    "#tuple\n",
    "a=(11,2,3,4,5)\n",
    "print(type(a))"
   ]
  },
  {
   "cell_type": "code",
   "execution_count": 4,
   "metadata": {},
   "outputs": [
    {
     "name": "stdout",
     "output_type": "stream",
     "text": [
      "11 2 3 4\n",
      "11 [2, 3, 4]\n"
     ]
    }
   ],
   "source": [
    "a=(11,2,3,4)\n",
    "w,x,y,z=a\n",
    "print(w,x,y,z)\n",
    "first,*rest=a\n",
    "print(first,rest)"
   ]
  },
  {
   "cell_type": "code",
   "execution_count": 6,
   "metadata": {},
   "outputs": [
    {
     "name": "stdout",
     "output_type": "stream",
     "text": [
      "2\n"
     ]
    }
   ],
   "source": [
    "x=('apple','banana','cherry','banana')\n",
    "print(x.count('banana'))"
   ]
  },
  {
   "cell_type": "code",
   "execution_count": 13,
   "metadata": {},
   "outputs": [
    {
     "name": "stdout",
     "output_type": "stream",
     "text": [
      "(1, 2, 3, 4, 1, 5, 5)\n",
      "{1, 2, 3, 4, 5}\n",
      "(1, 2, 3, 4, 1, 5, 5) {1, 2, 3, 4, 5}\n"
     ]
    }
   ],
   "source": [
    "x=[1,2,3,4,1,5,5]\n",
    "xt=tuple(x)\n",
    "print(xt)\n",
    "y=set(x)\n",
    "print(y)\n",
    "print(xt,y)"
   ]
  },
  {
   "cell_type": "markdown",
   "metadata": {},
   "source": [
    "set"
   ]
  },
  {
   "cell_type": "code",
   "execution_count": 14,
   "metadata": {},
   "outputs": [
    {
     "name": "stdout",
     "output_type": "stream",
     "text": [
      "{1, 2, 3, 4, 5, 6, 7}\n"
     ]
    }
   ],
   "source": [
    "a={1,3,5,6,7,3,4,5,5,5,5,3,3,3,2,2,2,1}\n",
    "print(a)"
   ]
  },
  {
   "cell_type": "code",
   "execution_count": 21,
   "metadata": {},
   "outputs": [
    {
     "name": "stdout",
     "output_type": "stream",
     "text": [
      "{'hello', 'congrats'}\n",
      "{'cello', 'hello', 'yellow', 'congrats'}\n",
      "{'cello', 'yellow', 'congrats'}\n"
     ]
    }
   ],
   "source": [
    "b=set() #empty set\n",
    "b.add('hello')\n",
    "b.add('congrats')\n",
    "print(b)\n",
    "b.update({'yellow','cello'})\n",
    "print(b)\n",
    "b.discard('hello')\n",
    "print(b)"
   ]
  },
  {
   "cell_type": "code",
   "execution_count": 34,
   "metadata": {},
   "outputs": [
    {
     "name": "stdout",
     "output_type": "stream",
     "text": [
      "{1, 2, 3, 4, 5}\n",
      "set()\n",
      "{8, 9, 6, 7}\n"
     ]
    },
    {
     "data": {
      "text/plain": [
       "False"
      ]
     },
     "execution_count": 34,
     "metadata": {},
     "output_type": "execute_result"
    }
   ],
   "source": [
    "a={1, 2, 3, 4, 1, 5, 5}\n",
    "b={1, 2, 3, 4, 5,6,7,8,9}\n",
    "a.union(b)\n",
    "\n",
    "print(a.intersection(b))\n",
    "print(a.difference(b))\n",
    "print(b.difference(a))\n",
    "a.symmetric_difference(b)\n",
    "b.isdisjoint(a)"
   ]
  },
  {
   "cell_type": "code",
   "execution_count": 1,
   "metadata": {},
   "outputs": [
    {
     "name": "stdout",
     "output_type": "stream",
     "text": [
      "hello world\n"
     ]
    }
   ],
   "source": [
    "print('hello world')"
   ]
  },
  {
   "cell_type": "code",
   "execution_count": null,
   "metadata": {},
   "outputs": [],
   "source": []
  }
 ],
 "metadata": {
  "kernelspec": {
   "display_name": "base",
   "language": "python",
   "name": "python3"
  },
  "language_info": {
   "codemirror_mode": {
    "name": "ipython",
    "version": 3
   },
   "file_extension": ".py",
   "mimetype": "text/x-python",
   "name": "python",
   "nbconvert_exporter": "python",
   "pygments_lexer": "ipython3",
   "version": "3.11.4"
  },
  "orig_nbformat": 4
 },
 "nbformat": 4,
 "nbformat_minor": 2
}
