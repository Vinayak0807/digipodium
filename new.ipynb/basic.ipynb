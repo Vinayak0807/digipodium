{
 "cells": [
  {
   "cell_type": "code",
   "execution_count": 1,
   "metadata": {},
   "outputs": [
    {
     "name": "stdout",
     "output_type": "stream",
     "text": [
      "10 <class 'int'>\n",
      "10.2 <class 'float'>\n",
      "hello <class 'str'>\n",
      "True <class 'bool'>\n",
      "None <class 'NoneType'>\n",
      "{1, 2, 3} <class 'set'>\n",
      "[1, 2, 3] <class 'list'>\n",
      "(1, 2, 3) <class 'tuple'>\n",
      "{'a': 1, 'b': 2} <class 'dict'>\n"
     ]
    }
   ],
   "source": [
    "a=10\n",
    "print(a,type(a))\n",
    "a=10.2\n",
    "print(a,type(a))\n",
    "a=\"hello\"\n",
    "print(a,type(a))\n",
    "a=True\n",
    "print(a,type(a))\n",
    "a=None\n",
    "print(a,type(a))\n",
    "a={1,2,3}\n",
    "print(a,type(a))\n",
    "a=[1,2,3]\n",
    "print(a,type(a))\n",
    "a=(1,2,3)\n",
    "print(a,type(a))\n",
    "a={'a':1,'b':2}\n",
    "print(a,type(a))"
   ]
  },
  {
   "cell_type": "code",
   "execution_count": 2,
   "metadata": {},
   "outputs": [
    {
     "name": "stdout",
     "output_type": "stream",
     "text": [
      "sum of a and b= 57\n",
      "23\n",
      "34\n",
      "57\n"
     ]
    }
   ],
   "source": [
    "#print\n",
    "a=23\n",
    "b=34\n",
    "print(\"sum of a and b=\",a+b)\n",
    "print(a,b,a+b,sep='\\n')"
   ]
  },
  {
   "cell_type": "code",
   "execution_count": 3,
   "metadata": {},
   "outputs": [
    {
     "name": "stdout",
     "output_type": "stream",
     "text": [
      "23,34\n",
      "57\n"
     ]
    }
   ],
   "source": [
    "c=a+b\n",
    "print(a,end=',')\n",
    "print(b)\n",
    "print(c)\n",
    "\n"
   ]
  },
  {
   "cell_type": "code",
   "execution_count": 4,
   "metadata": {},
   "outputs": [
    {
     "name": "stdout",
     "output_type": "stream",
     "text": [
      "0,1,2,3,4,5,6,7,8,9,10,11,12,13,14,15,16,17,18,19,20,21,22,23,24,25,26,27,28,29,30,31,32,33,34,35,36,37,38,39,40,41,42,43,44,45,46,47,48,49,"
     ]
    }
   ],
   "source": [
    "for i in range(50):\n",
    "    print(i,end=',')"
   ]
  },
  {
   "cell_type": "code",
   "execution_count": 5,
   "metadata": {},
   "outputs": [],
   "source": [
    "#del is used to delete the variable "
   ]
  },
  {
   "cell_type": "code",
   "execution_count": null,
   "metadata": {},
   "outputs": [],
   "source": []
  },
  {
   "cell_type": "code",
   "execution_count": null,
   "metadata": {},
   "outputs": [],
   "source": []
  },
  {
   "cell_type": "code",
   "execution_count": null,
   "metadata": {},
   "outputs": [],
   "source": [
    "del print"
   ]
  },
  {
   "cell_type": "code",
   "execution_count": null,
   "metadata": {},
   "outputs": [
    {
     "name": "stdout",
     "output_type": "stream",
     "text": [
      "my name isvinayak,i am 22 year old,i live in lucknow\n"
     ]
    }
   ],
   "source": [
    "name=\"vinayak\"\n",
    "age=22\n",
    "city=\"lucknow\"\n",
    "print(f'my name is{name},i am {age} year old,i live in {city}')"
   ]
  },
  {
   "cell_type": "code",
   "execution_count": null,
   "metadata": {},
   "outputs": [],
   "source": []
  },
  {
   "cell_type": "code",
   "execution_count": null,
   "metadata": {},
   "outputs": [
    {
     "name": "stdout",
     "output_type": "stream",
     "text": [
      "10/54=0.19\n",
      "10 / 54 = 0.19\n"
     ]
    }
   ],
   "source": [
    "x=10\n",
    "y=54\n",
    "z=x/y\n",
    "print(f'{x}/{y}={z:.2f}')\n",
    "#or\n",
    "print(x,'/',y,\"=\",round(z,2))"
   ]
  },
  {
   "cell_type": "code",
   "execution_count": null,
   "metadata": {},
   "outputs": [
    {
     "name": "stdout",
     "output_type": "stream",
     "text": [
      "sara      22\n",
      "eliza     23\n",
      "sam       23\n"
     ]
    }
   ],
   "source": [
    "n1='sara'\n",
    "n2='eliza'\n",
    "n3='sam'\n",
    "a1,a2,a3=22,23,23\n",
    "print(f'{n1:10}{a1}')\n",
    "print(f'{n2:10}{a2}')\n",
    "print(f'{n3:10}{a3}')"
   ]
  },
  {
   "cell_type": "code",
   "execution_count": null,
   "metadata": {},
   "outputs": [
    {
     "name": "stdout",
     "output_type": "stream",
     "text": [
      "num =55 and 60\n"
     ]
    }
   ],
   "source": [
    "a=55\n",
    "b=60\n",
    "print(f\"num ={a} and {b}\")"
   ]
  },
  {
   "cell_type": "code",
   "execution_count": null,
   "metadata": {},
   "outputs": [
    {
     "name": "stdout",
     "output_type": "stream",
     "text": [
      "bye\n"
     ]
    }
   ],
   "source": [
    "a=input(\"enter the name\")\n",
    "if len(a)==4:\n",
    "    print(\"hello\")\n",
    "if len(a)==3:\n",
    "    print(\"hello2\")    \n",
    "else:\n",
    "    print(\"bye\")    \n"
   ]
  },
  {
   "cell_type": "code",
   "execution_count": null,
   "metadata": {},
   "outputs": [
    {
     "name": "stdout",
     "output_type": "stream",
     "text": [
      "if len(a)==4 print(hello),else print(\"bye)\n"
     ]
    }
   ],
   "source": []
  },
  {
   "cell_type": "code",
   "execution_count": null,
   "metadata": {},
   "outputs": [
    {
     "name": "stdout",
     "output_type": "stream",
     "text": [
      "a is not even number\n"
     ]
    }
   ],
   "source": [
    "a =int(input(\"enter a number\"))\n",
    "if a%2==0:\n",
    "    print(\"a is even number\") \n",
    "else:\n",
    "    print(\"a is not even number\")"
   ]
  },
  {
   "cell_type": "code",
   "execution_count": null,
   "metadata": {},
   "outputs": [
    {
     "name": "stdout",
     "output_type": "stream",
     "text": [
      "c is greater\n"
     ]
    }
   ],
   "source": [
    "a,b,c=2,5,6\n",
    "if a>b and a>c:\n",
    "    print(\"a is greater\")\n",
    "elif b>a and b>c:\n",
    "    print(\"b is greater\")\n",
    "else:\n",
    "    print(\"c is greater\")        "
   ]
  },
  {
   "cell_type": "code",
   "execution_count": null,
   "metadata": {},
   "outputs": [],
   "source": [
    "day= input(\"enter day:\")\n",
    "match(day):\n",
    "    case 'monday': print(\"monday it is\")\n",
    "    case 'tuesday': print(\"tuesday it is\")\n"
   ]
  },
  {
   "cell_type": "code",
   "execution_count": null,
   "metadata": {},
   "outputs": [
    {
     "name": "stdout",
     "output_type": "stream",
     "text": [
      "si = 1133.2\n"
     ]
    }
   ],
   "source": [
    "p=int(input(\"enter the principal:\"))\n",
    "r=int(input(\"enter the rate:\"))\n",
    "t=int(input(\"enter the time:\"))\n",
    "print(\"si =\",p*r*t/100)"
   ]
  },
  {
   "cell_type": "code",
   "execution_count": null,
   "metadata": {},
   "outputs": [],
   "source": [
    "\n",
    "\n",
    "    \n",
    "\n"
   ]
  },
  {
   "cell_type": "code",
   "execution_count": 17,
   "metadata": {},
   "outputs": [
    {
     "name": "stdout",
     "output_type": "stream",
     "text": [
      "\n",
      "h \n",
      "h h \n",
      "h h h \n",
      "h h h h \n",
      "h h h h h \n",
      "h h h h h h \n",
      "h h h h h h h \n",
      "h h h h h h h h \n",
      "h h h h h h h h h \n"
     ]
    }
   ],
   "source": [
    "for i in range(10):\n",
    "   for j in range(i):\n",
    "      print(\"h\",end=' ')\n",
    "   print('')  \n"
   ]
  },
  {
   "cell_type": "code",
   "execution_count": null,
   "metadata": {},
   "outputs": [],
   "source": [
    "   "
   ]
  },
  {
   "cell_type": "code",
   "execution_count": 2,
   "metadata": {},
   "outputs": [
    {
     "name": "stdout",
     "output_type": "stream",
     "text": [
      "perfect square number= 6\n",
      "perfect square number= 28\n"
     ]
    }
   ],
   "source": [
    "#perfect square\n",
    "a=1\n",
    "while a<100:\n",
    "    a_sum=0\n",
    "    for i in range(1,a):\n",
    "        if a%i==0:\n",
    "            a_sum=a_sum+i\n",
    "    if a_sum==a:\n",
    "        print('perfect square number=',a)\n",
    "    a=a+1     \n",
    "\n"
   ]
  },
  {
   "cell_type": "code",
   "execution_count": 5,
   "metadata": {},
   "outputs": [
    {
     "name": "stdout",
     "output_type": "stream",
     "text": [
      "passwords dont match\n",
      "passwords dont match\n",
      "passwords dont match\n",
      "passwords dont match\n"
     ]
    }
   ],
   "source": [
    "np=int(input('enter the new password:'))\n",
    "for i in range(4):\n",
    "    b=int(input('enter the password again:'))\n",
    "    if b==np:\n",
    "        print('new password created successfully')\n",
    "        break\n",
    "    else:\n",
    "        print('passwords dont match')"
   ]
  },
  {
   "cell_type": "code",
   "execution_count": 1,
   "metadata": {},
   "outputs": [
    {
     "name": "stdout",
     "output_type": "stream",
     "text": [
      "{'NAME': 'VINAYAK', 'AGE': 23, 'COURSE': 'DELED', 'HOME': 'LUCKNOW'}\n"
     ]
    }
   ],
   "source": [
    "D={'NAME':'VINAYAK','AGE':23,'COURSE':'DELED','HOME':'LUCKNOW'}\n",
    "print(D)"
   ]
  },
  {
   "cell_type": "code",
   "execution_count": 3,
   "metadata": {},
   "outputs": [
    {
     "name": "stdout",
     "output_type": "stream",
     "text": [
      "VINAYAK\n"
     ]
    }
   ],
   "source": [
    "if 'NAME' in D:\n",
    "    print(D['NAME'])\n",
    "else:\n",
    "    print('key is not present in D')    "
   ]
  },
  {
   "cell_type": "code",
   "execution_count": 4,
   "metadata": {},
   "outputs": [
    {
     "name": "stdout",
     "output_type": "stream",
     "text": [
      "{'NAME': 'VINAYAK', 'AGE': 23, 'COURSE': 'DELED', 'HOME': 'LUCKNOW', 'harsh': 20}\n"
     ]
    }
   ],
   "source": [
    "D['harsh']=20\n",
    "print(D)"
   ]
  },
  {
   "cell_type": "code",
   "execution_count": 2,
   "metadata": {},
   "outputs": [
    {
     "name": "stdout",
     "output_type": "stream",
     "text": [
      "['NAME', 'AGE', 'COURSE', 'HOME']\n"
     ]
    }
   ],
   "source": [
    "D={'NAME':'VINAYAK','AGE':23,'COURSE':'DELED','HOME':'LUCKNOW'}\n",
    "b=list(D)\n",
    "\n",
    "print(b)"
   ]
  },
  {
   "cell_type": "code",
   "execution_count": 11,
   "metadata": {},
   "outputs": [
    {
     "name": "stdout",
     "output_type": "stream",
     "text": [
      "VINAYAK\n",
      "23\n",
      "DELED\n",
      "LUCKNOW\n"
     ]
    }
   ],
   "source": [
    "D={'NAME':'VINAYAK','AGE':23,'COURSE':'DELED','HOME':'LUCKNOW'}\n",
    "for i in D:\n",
    "   \n",
    "    print(D[i])\n",
    "\n",
    "\n"
   ]
  },
  {
   "cell_type": "code",
   "execution_count": null,
   "metadata": {},
   "outputs": [],
   "source": []
  }
 ],
 "metadata": {
  "kernelspec": {
   "display_name": "base",
   "language": "python",
   "name": "python3"
  },
  "language_info": {
   "codemirror_mode": {
    "name": "ipython",
    "version": 3
   },
   "file_extension": ".py",
   "mimetype": "text/x-python",
   "name": "python",
   "nbconvert_exporter": "python",
   "pygments_lexer": "ipython3",
   "version": "3.11.4"
  },
  "orig_nbformat": 4
 },
 "nbformat": 4,
 "nbformat_minor": 2
}
