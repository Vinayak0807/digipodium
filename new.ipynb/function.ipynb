{
 "cells": [
  {
   "cell_type": "markdown",
   "metadata": {},
   "source": [
    "syntax\n",
    "*****\n",
    "def function[parameter]:\n",
    "statement1\n",
    "statement2\n",
    "...\n",
    "statement n\n",
    "[return expression]\n",
    "\n",
    "*****\n"
   ]
  },
  {
   "cell_type": "code",
   "execution_count": 3,
   "metadata": {},
   "outputs": [],
   "source": [
    "#example\n",
    "def area(width,lenght):\n",
    "    a=width*height\n",
    "    return a"
   ]
  },
  {
   "cell_type": "markdown",
   "metadata": {},
   "source": [
    "-Based on parameter and return value\n",
    "1-no parameter,no return value\n",
    "2-no parameter ,return value\n",
    "3-parameter,no return value\n",
    "4-parameter and return value\n",
    "\n",
    " \n",
    "- based on parameter type\n",
    "    1. required parameter\n",
    "    2. keywrods parameter\n",
    "    3. default parameter\n",
    "    4. variable length parameter (*args)\n",
    "    5. variable keyword arguments (**kwargs)\n",
    "\n",
    "\n",
    "- other types of function\n",
    "    1. lambda function\n",
    "    2. generator function\n",
    "    3. recursive function"
   ]
  },
  {
   "cell_type": "code",
   "execution_count": 2,
   "metadata": {},
   "outputs": [],
   "source": [
    "#value returning function \n",
    "def area():\n",
    "    l=int(input('enter the value'))\n",
    "    b=int(input('enter the value'))\n",
    "    return l*b"
   ]
  },
  {
   "cell_type": "code",
   "execution_count": 5,
   "metadata": {},
   "outputs": [
    {
     "name": "stdout",
     "output_type": "stream",
     "text": [
      "2000\n",
      "200000\n"
     ]
    }
   ],
   "source": [
    "ans=area()\n",
    "print(ans)\n",
    "print(ans*100)"
   ]
  },
  {
   "cell_type": "code",
   "execution_count": 7,
   "metadata": {},
   "outputs": [],
   "source": [
    "def maths():\n",
    "    p=int(input('enter the value'))\n",
    "    r=int(input('enter the value'))\n",
    "    t=int(input('enter the value'))\n",
    "    si=p*r*t/100\n",
    "    amt=p+si \n",
    "    add=p+r+t\n",
    "    sub=p-r-t\n",
    "    return si,amt,add,sub\n",
    "    "
   ]
  },
  {
   "cell_type": "code",
   "execution_count": 8,
   "metadata": {},
   "outputs": [
    {
     "name": "stdout",
     "output_type": "stream",
     "text": [
      "subtracted value= -150\n"
     ]
    }
   ],
   "source": [
    "result=maths()\n",
    "print('subtracted value=',result[3])"
   ]
  },
  {
   "cell_type": "code",
   "execution_count": 9,
   "metadata": {},
   "outputs": [
    {
     "name": "stdout",
     "output_type": "stream",
     "text": [
      "subtracted value= 0\n"
     ]
    }
   ],
   "source": [
    "si,amt,add,sub=maths()\n",
    "print('subtracted value=',sub)\n"
   ]
  },
  {
   "cell_type": "code",
   "execution_count": 10,
   "metadata": {},
   "outputs": [
    {
     "name": "stdout",
     "output_type": "stream",
     "text": [
      "1634 is an Armstrong number.\n"
     ]
    }
   ],
   "source": [
    "def is_armstrong_number(number):\n",
    "    num_str = str(number)\n",
    "    num_digits = len(num_str)\n",
    "    sum_of_digits = sum(int(digit) ** num_digits for digit in num_str)\n",
    "    if sum_of_digits == number:\n",
    "        return True\n",
    "    else:\n",
    "        return False\n",
    "num = int(input(\"Enter a number: \"))\n",
    "if is_armstrong_number(num):\n",
    "    print(num, \"is an Armstrong number.\")\n",
    "else:\n",
    "    print(num, \"is not an Armstrong number.\")"
   ]
  },
  {
   "cell_type": "code",
   "execution_count": 13,
   "metadata": {},
   "outputs": [],
   "source": [
    "def is_armstrong(number):\n",
    "    t = number\n",
    "    s = 0\n",
    "    pw = len(str(number))\n",
    "    while number > 0:\n",
    "        r = number % 10\n",
    "        s = s + r ** pw\n",
    "        number = number//10\n",
    "    return t == s\n",
    "    "
   ]
  },
  {
   "cell_type": "code",
   "execution_count": 16,
   "metadata": {},
   "outputs": [
    {
     "name": "stdout",
     "output_type": "stream",
     "text": [
      "False\n"
     ]
    }
   ],
   "source": [
    "x = int(input('enter a number'))\n",
    "print(is_armstrong(x))"
   ]
  },
  {
   "cell_type": "code",
   "execution_count": 17,
   "metadata": {},
   "outputs": [
    {
     "name": "stdout",
     "output_type": "stream",
     "text": [
      "153\n",
      "370\n",
      "371\n",
      "407\n",
      "1634\n",
      "8208\n",
      "9474\n"
     ]
    }
   ],
   "source": [
    "for i in range(100,9999):\n",
    "    if is_armstrong(i):\n",
    "        print(i)"
   ]
  },
  {
   "cell_type": "code",
   "execution_count": 27,
   "metadata": {},
   "outputs": [
    {
     "name": "stdout",
     "output_type": "stream",
     "text": [
      "100\n",
      "60\n",
      "90\n"
     ]
    }
   ],
   "source": [
    "def adder(a,b,c):\n",
    "    return a+b+c \n",
    "print(adder(40,50,10))    \n",
    "print(adder(a=10,c=20,b=30))\n",
    "print(adder(20,c=30,b=40))"
   ]
  },
  {
   "cell_type": "code",
   "execution_count": 32,
   "metadata": {},
   "outputs": [
    {
     "name": "stdout",
     "output_type": "stream",
     "text": [
      "600\n",
      "24000\n",
      "180000\n"
     ]
    }
   ],
   "source": [
    "def multiplier(a,b,c=1):\n",
    "    return a*b*c \n",
    "print(multiplier(20,30))\n",
    "print(multiplier(20,30,40))\n",
    "print(multiplier(20,30,c=300))"
   ]
  },
  {
   "cell_type": "code",
   "execution_count": 36,
   "metadata": {},
   "outputs": [],
   "source": [
    "from string import punctuation\n",
    "def cleaner(data, chars=None):\n",
    "    if chars is None:\n",
    "        chars= punctuation\n",
    "    for c in chars:\n",
    "        data=data.replace(c,'')\n",
    "    return data        "
   ]
  },
  {
   "cell_type": "code",
   "execution_count": 37,
   "metadata": {},
   "outputs": [
    {
     "data": {
      "text/plain": [
       "'vinayak'"
      ]
     },
     "execution_count": 37,
     "metadata": {},
     "output_type": "execute_result"
    }
   ],
   "source": [
    "cleaner('vina%&^*&**%^&^yak')"
   ]
  },
  {
   "cell_type": "code",
   "execution_count": 47,
   "metadata": {},
   "outputs": [],
   "source": [
    "def multiplier(*nums):\n",
    "    result=1\n",
    "    for num in nums:\n",
    "        result=num*result\n",
    "    return result        "
   ]
  },
  {
   "cell_type": "code",
   "execution_count": 46,
   "metadata": {},
   "outputs": [
    {
     "ename": "TypeError",
     "evalue": "multiplier() takes 1 positional argument but 3 were given",
     "output_type": "error",
     "traceback": [
      "\u001b[1;31m---------------------------------------------------------------------------\u001b[0m",
      "\u001b[1;31mTypeError\u001b[0m                                 Traceback (most recent call last)",
      "Cell \u001b[1;32mIn[46], line 1\u001b[0m\n\u001b[1;32m----> 1\u001b[0m \u001b[39mprint\u001b[39m(multiplier(\u001b[39m20\u001b[39m,\u001b[39m30\u001b[39m,\u001b[39m40\u001b[39m))\n",
      "\u001b[1;31mTypeError\u001b[0m: multiplier() takes 1 positional argument but 3 were given"
     ]
    }
   ],
   "source": [
    "print(multiplier(20,30,40))"
   ]
  },
  {
   "cell_type": "code",
   "execution_count": 50,
   "metadata": {},
   "outputs": [],
   "source": [
    "def aggregation (*x,action='sum'):\n",
    "    if action=='sum':\n",
    "        return sum(x)\n",
    "    elif action =='count':\n",
    "        return len(x)  \n",
    "    elif action == 'mean':\n",
    "        return   sum(x)/len(x)    "
   ]
  },
  {
   "cell_type": "code",
   "execution_count": 51,
   "metadata": {},
   "outputs": [
    {
     "data": {
      "text/plain": [
       "36.666666666666664"
      ]
     },
     "execution_count": 51,
     "metadata": {},
     "output_type": "execute_result"
    }
   ],
   "source": [
    "aggregation(20,50,40,action='mean')"
   ]
  },
  {
   "cell_type": "code",
   "execution_count": null,
   "metadata": {},
   "outputs": [],
   "source": []
  }
 ],
 "metadata": {
  "kernelspec": {
   "display_name": "base",
   "language": "python",
   "name": "python3"
  },
  "language_info": {
   "codemirror_mode": {
    "name": "ipython",
    "version": 3
   },
   "file_extension": ".py",
   "mimetype": "text/x-python",
   "name": "python",
   "nbconvert_exporter": "python",
   "pygments_lexer": "ipython3",
   "version": "3.11.4"
  },
  "orig_nbformat": 4
 },
 "nbformat": 4,
 "nbformat_minor": 2
}
