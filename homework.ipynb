{
 "cells": [
  {
   "cell_type": "code",
   "execution_count": 1,
   "metadata": {},
   "outputs": [
    {
     "name": "stdout",
     "output_type": "stream",
     "text": [
      "3274326203.52\n",
      "3280893770.52\n"
     ]
    }
   ],
   "source": [
    "# simple intrest and total amount with help  of python\n",
    "p=int(input('enter the principle:'))\n",
    "r =int(input('enter th rate:'))\n",
    "t=int(input('enter the time:'))\n",
    "si=p*r*t/100\n",
    "print(si)\n",
    "amount=p+si\n",
    "print(amount)"
   ]
  },
  {
   "cell_type": "code",
   "execution_count": 3,
   "metadata": {},
   "outputs": [
    {
     "name": "stdout",
     "output_type": "stream",
     "text": [
      "hello\n"
     ]
    }
   ],
   "source": [
    "#input username and greet him\\her\n",
    "name=input('enter your name')\n",
    "if name==\"vinayak\":\n",
    " print(\"hello\")\n",
    "    \n",
    "\n"
   ]
  },
  {
   "cell_type": "code",
   "execution_count": 3,
   "metadata": {},
   "outputs": [
    {
     "name": "stdout",
     "output_type": "stream",
     "text": [
      "good morning: gjg\n"
     ]
    }
   ],
   "source": [
    "print('good morning:',name)"
   ]
  },
  {
   "cell_type": "code",
   "execution_count": 4,
   "metadata": {},
   "outputs": [
    {
     "name": "stdout",
     "output_type": "stream",
     "text": [
      "57.8\n"
     ]
    }
   ],
   "source": [
    "#find percentage from five subjects\n",
    "sub1=int(input('marks of first subject:'))\n",
    "sub2=int(input('marks of second subject:'))\n",
    "sub3=int(input('marks of third subject:'))\n",
    "sub4=int(input('marks of fourth subject:'))\n",
    "sub5=int(input('marks of fifth subject:'))\n",
    "percentage=int(sub1+sub2+sub3+sub4+sub5)*100/500\n",
    "print(percentage)\n"
   ]
  },
  {
   "cell_type": "code",
   "execution_count": 5,
   "metadata": {},
   "outputs": [
    {
     "name": "stdout",
     "output_type": "stream",
     "text": [
      "hello\n"
     ]
    }
   ],
   "source": [
    "print(\"hello\")"
   ]
  },
  {
   "cell_type": "code",
   "execution_count": 1,
   "metadata": {},
   "outputs": [
    {
     "name": "stdout",
     "output_type": "stream",
     "text": [
      "b\n",
      "a\n",
      "n\n",
      "a\n",
      "n\n",
      "a\n"
     ]
    }
   ],
   "source": [
    "for x in \"banana\":\n",
    "  print(x)"
   ]
  },
  {
   "cell_type": "code",
   "execution_count": 2,
   "metadata": {},
   "outputs": [
    {
     "name": "stdout",
     "output_type": "stream",
     "text": [
      "apple\n",
      "banana\n"
     ]
    }
   ],
   "source": [
    "fruits = [\"apple\", \"banana\", \"cherry\"]\n",
    "for x in fruits:\n",
    "  print(x)\n",
    "  if x == \"banana\":\n",
    "    break"
   ]
  },
  {
   "cell_type": "code",
   "execution_count": 3,
   "metadata": {},
   "outputs": [
    {
     "name": "stdout",
     "output_type": "stream",
     "text": [
      "apple\n",
      "cherry\n"
     ]
    }
   ],
   "source": [
    "fruits = [\"apple\", \"banana\", \"cherry\"]\n",
    "for x in fruits:\n",
    "  if x == \"banana\":\n",
    "    continue\n",
    "  print(x)"
   ]
  },
  {
   "cell_type": "code",
   "execution_count": 4,
   "metadata": {},
   "outputs": [
    {
     "name": "stdout",
     "output_type": "stream",
     "text": [
      "red apple\n",
      "red banana\n",
      "red cherry\n",
      "big apple\n",
      "big banana\n",
      "big cherry\n",
      "tasty apple\n",
      "tasty banana\n",
      "tasty cherry\n"
     ]
    }
   ],
   "source": [
    "adj = [\"red\", \"big\", \"tasty\"]\n",
    "fruits = [\"apple\", \"banana\", \"cherry\"]\n",
    "\n",
    "for x in adj:\n",
    "  for y in fruits:\n",
    "    print(x, y)"
   ]
  },
  {
   "cell_type": "code",
   "execution_count": 1,
   "metadata": {},
   "outputs": [
    {
     "name": "stdout",
     "output_type": "stream",
     "text": [
      "enter while loop\n",
      "0\n",
      "1\n",
      "2\n",
      "3\n",
      "4\n",
      "5\n"
     ]
    }
   ],
   "source": [
    "count =0\n",
    "print(\"enter while loop\")\n",
    "while count<=5:\n",
    "    print(count)\n",
    "    count=count+1\n",
    "    "
   ]
  },
  {
   "cell_type": "code",
   "execution_count": 6,
   "metadata": {},
   "outputs": [
    {
     "name": "stdout",
     "output_type": "stream",
     "text": [
      "214185\n"
     ]
    }
   ],
   "source": [
    "val= int(input(\"enter the value:\"))\n",
    "sum=0\n",
    "i=1\n",
    "while i<=val:\n",
    "    sum=sum+i\n",
    "    i =i+1\n",
    "print(sum)\n",
    "    "
   ]
  },
  {
   "cell_type": "code",
   "execution_count": 9,
   "metadata": {},
   "outputs": [],
   "source": [
    "val= int(input(\"enter the value:\"))\n",
    "while val>0:\n",
    "    print(val)\n",
    "    val=val-1"
   ]
  },
  {
   "cell_type": "code",
   "execution_count": 1,
   "metadata": {},
   "outputs": [
    {
     "ename": "TypeError",
     "evalue": "'END' is an invalid keyword argument for print()",
     "output_type": "error",
     "traceback": [
      "\u001b[1;31m---------------------------------------------------------------------------\u001b[0m",
      "\u001b[1;31mTypeError\u001b[0m                                 Traceback (most recent call last)",
      "Cell \u001b[1;32mIn[1], line 2\u001b[0m\n\u001b[0;32m      1\u001b[0m \u001b[39mfor\u001b[39;00m i \u001b[39min\u001b[39;00m \u001b[39mrange\u001b[39m(\u001b[39m50\u001b[39m):\n\u001b[1;32m----> 2\u001b[0m     \u001b[39mprint\u001b[39m(i,END\u001b[39m=\u001b[39m\u001b[39m\"\u001b[39m\u001b[39m\"\u001b[39m)\n",
      "\u001b[1;31mTypeError\u001b[0m: 'END' is an invalid keyword argument for print()"
     ]
    }
   ],
   "source": [
    "for i in range(50):\n",
    "    print(i,END=\"\")\n",
    "\n"
   ]
  },
  {
   "cell_type": "code",
   "execution_count": 2,
   "metadata": {},
   "outputs": [
    {
     "name": "stdout",
     "output_type": "stream",
     "text": [
      "101112131415161718192021222324"
     ]
    }
   ],
   "source": [
    "for i in range(10,25):\n",
    "    print(i, end=\"\")"
   ]
  },
  {
   "cell_type": "code",
   "execution_count": 3,
   "metadata": {},
   "outputs": [
    {
     "name": "stdout",
     "output_type": "stream",
     "text": [
      "1 2 3 4 5 6 7 8 9 10 "
     ]
    }
   ],
   "source": [
    "count=0\n",
    "while count<10:\n",
    "    count=count+1\n",
    "    print(count,end=\" \")"
   ]
  },
  {
   "cell_type": "code",
   "execution_count": 4,
   "metadata": {},
   "outputs": [
    {
     "name": "stdout",
     "output_type": "stream",
     "text": [
      "1 3 5 7 9 "
     ]
    }
   ],
   "source": [
    "for i in range(1,10):\n",
    "    if i%2!=0:\n",
    "        print(i,end=\" \")"
   ]
  },
  {
   "cell_type": "code",
   "execution_count": 5,
   "metadata": {},
   "outputs": [
    {
     "name": "stdout",
     "output_type": "stream",
     "text": [
      "10 8 6 4 2 "
     ]
    }
   ],
   "source": [
    "for  i in range(10,0,-2):\n",
    "    print(i,end=\" \")\n"
   ]
  },
  {
   "cell_type": "code",
   "execution_count": 17,
   "metadata": {},
   "outputs": [
    {
     "name": "stdout",
     "output_type": "stream",
     "text": [
      "5 * 0 = 0\n",
      "5 * 1 = 5\n",
      "5 * 2 = 10\n",
      "5 * 3 = 15\n",
      "5 * 4 = 20\n",
      "5 * 5 = 25\n",
      "5 * 6 = 30\n",
      "5 * 7 = 35\n",
      "5 * 8 = 40\n",
      "5 * 9 = 45\n"
     ]
    }
   ],
   "source": [
    "num=int(input(\"enter the number:\"))\n",
    "for i in range(10):\n",
    "    print(num,\"*\",i,\"=\",num*i)\n",
    "    "
   ]
  },
  {
   "cell_type": "code",
   "execution_count": 20,
   "metadata": {},
   "outputs": [
    {
     "name": "stdout",
     "output_type": "stream",
     "text": [
      " prime number 1\n",
      " prime number 3\n",
      " prime number 5\n",
      " prime number 7\n",
      " prime number 9\n",
      " prime number 11\n",
      " prime number 13\n",
      " prime number 15\n",
      " prime number 17\n",
      " prime number 19\n"
     ]
    }
   ],
   "source": [
    "for i in range(20):\n",
    "    if i%2!=0:\n",
    "        print(\" prime number\",i)"
   ]
  },
  {
   "cell_type": "code",
   "execution_count": 22,
   "metadata": {},
   "outputs": [
    {
     "name": "stdout",
     "output_type": "stream",
     "text": [
      "python"
     ]
    }
   ],
   "source": [
    "for i in(\"python\"):\n",
    "    print(i,end=\"\")"
   ]
  },
  {
   "cell_type": "code",
   "execution_count": 30,
   "metadata": {},
   "outputs": [
    {
     "name": "stdout",
     "output_type": "stream",
     "text": [
      "5\n",
      "0\n",
      "1\n",
      "2\n",
      "3\n",
      "4\n",
      "5\n",
      "4\n",
      "0\n",
      "1\n",
      "2\n",
      "3\n",
      "4\n",
      "3\n",
      "0\n",
      "1\n",
      "2\n",
      "3\n",
      "2\n",
      "0\n",
      "1\n",
      "2\n",
      "1\n",
      "0\n",
      "1\n"
     ]
    }
   ],
   "source": [
    "for i in range(5,0,-1):\n",
    "    print(i)\n",
    "    for j in range(i+1):\n",
    "        print(j)\n",
    "    "
   ]
  },
  {
   "cell_type": "code",
   "execution_count": 12,
   "metadata": {},
   "outputs": [
    {
     "name": "stdout",
     "output_type": "stream",
     "text": [
      "625\n"
     ]
    }
   ],
   "source": [
    "sum=0\n",
    "for i in range(1,50):\n",
    "    if i%2!=0:\n",
    "        sum=sum+i\n",
    "print(sum)\n",
    "        "
   ]
  },
  {
   "cell_type": "code",
   "execution_count": 24,
   "metadata": {},
   "outputs": [
    {
     "name": "stdout",
     "output_type": "stream",
     "text": [
      "ni hai \n",
      "ni hai \n",
      "pelendrome hai ye toh\n"
     ]
    }
   ],
   "source": [
    "name=\"hah\"\n",
    "rev_name=\"\"\n",
    "for i in name:\n",
    "    rev_name=i+rev_name\n",
    "    if name==rev_name:\n",
    "        print(\"pelendrome hai ye toh\")\n",
    "    else:\n",
    "      print('ni hai ')    "
   ]
  },
  {
   "cell_type": "code",
   "execution_count": 14,
   "metadata": {},
   "outputs": [
    {
     "name": "stdout",
     "output_type": "stream",
     "text": [
      "yes it contain vowels\n",
      "no\n"
     ]
    }
   ],
   "source": [
    "for i in range(4):\n",
    "    name=input(\"enter the name:\")\n",
    "    for v in (\"aeiou\"):\n",
    "        if v in name:\n",
    "            print(\"yes it contain vowels\")\n",
    "else:\n",
    "    print(\"no\")  \n",
    "              "
   ]
  },
  {
   "cell_type": "code",
   "execution_count": 29,
   "metadata": {},
   "outputs": [
    {
     "name": "stdout",
     "output_type": "stream",
     "text": [
      "numberof vowlels: 5\n"
     ]
    }
   ],
   "source": [
    "vowels=0\n",
    "for i in range(4):\n",
    "    name=input(\"enter the name:\")\n",
    "    for i in name:\n",
    "        if(i == 'a' or i == 'e' or i == 'i' or i == 'o' or i == 'u'\n",
    "       or i == 'A' or i == 'E' or i == 'I' or i == 'O' or i == 'U'):\n",
    "          vowels=vowels+1\n",
    "print(\"numberof vowlels:\",vowels)\n",
    "        "
   ]
  },
  {
   "cell_type": "code",
   "execution_count": 27,
   "metadata": {},
   "outputs": [
    {
     "name": "stdout",
     "output_type": "stream",
     "text": [
      "Number of vowels are:\n",
      "2\n"
     ]
    }
   ],
   "source": [
    "string=input(\"Enter string:\")\n",
    "vowels=0\n",
    "for i in string:\n",
    "      if(i=='a' or i=='e' or i=='i' or i=='o' or i=='u' or i=='A' or i=='E' or i=='I' or i=='O' or i=='U'):\n",
    "            vowels=vowels+1\n",
    "print(\"Number of vowels are:\")\n",
    "print(vowels)"
   ]
  },
  {
   "cell_type": "code",
   "execution_count": 30,
   "metadata": {},
   "outputs": [
    {
     "name": "stdout",
     "output_type": "stream",
     "text": [
      "The number of lowercase characters is:\n",
      "10\n",
      "The number of uppercase characters is:\n",
      "3\n"
     ]
    }
   ],
   "source": [
    "#TO COUNT THE  LOWER AND UPPER STRING  \n",
    "string=input(\"Enter string:\")\n",
    "count1=0\n",
    "count2=0\n",
    "for i in string:\n",
    "      if(i.islower()):\n",
    "            count1=count1+1\n",
    "      elif(i.isupper()):\n",
    "            count2=count2+1\n",
    "print(\"The number of lowercase characters is:\")\n",
    "print(count1)\n",
    "print(\"The number of uppercase characters is:\")\n",
    "print(count2)"
   ]
  },
  {
   "cell_type": "code",
   "execution_count": 32,
   "metadata": {},
   "outputs": [
    {
     "name": "stdout",
     "output_type": "stream",
     "text": [
      "3\n"
     ]
    }
   ],
   "source": [
    "#TO COUNT UPPERCASE IN STRING\n",
    "STRING=input(\"ENTER THE STRING:\")\n",
    "count=0\n",
    "for i in string:\n",
    "    if(i.isupper()):\n",
    "        count=count+1\n",
    "print(count)        "
   ]
  },
  {
   "cell_type": "code",
   "execution_count": 33,
   "metadata": {},
   "outputs": [
    {
     "name": "stdout",
     "output_type": "stream",
     "text": [
      "3\n"
     ]
    }
   ],
   "source": [
    "for i in range(4):\n",
    " STRING=input(\"ENTER THE STRING:\")\n",
    " count=0\n",
    "for i in string:\n",
    "    if(i.isupper()):\n",
    "        count=count+1\n",
    "print(count) "
   ]
  },
  {
   "cell_type": "code",
   "execution_count": 2,
   "metadata": {},
   "outputs": [
    {
     "name": "stdout",
     "output_type": "stream",
     "text": [
      "5\n"
     ]
    }
   ],
   "source": [
    "list=eval(input(\"entr the list:\"))\n",
    "print(list)"
   ]
  },
  {
   "cell_type": "code",
   "execution_count": 8,
   "metadata": {},
   "outputs": [
    {
     "name": "stdout",
     "output_type": "stream",
     "text": [
      "[10, 12, 14, 16, 18]\n"
     ]
    }
   ],
   "source": [
    "list1=[]\n",
    "for i in range(10,20):\n",
    "    if i%2==0:\n",
    "     list1.append(i)\n",
    "print(list1)"
   ]
  },
  {
   "cell_type": "code",
   "execution_count": 11,
   "metadata": {},
   "outputs": [
    {
     "name": "stdout",
     "output_type": "stream",
     "text": [
      "[100, 101, 102, 103, 104, 105, 106, 107, 108, 109]\n",
      "['apple', 'banana', [100, 101, 102, 103, 104, 105, 106, 107, 108, 109]]\n"
     ]
    }
   ],
   "source": [
    "a=[]\n",
    "for i in range(100,110):\n",
    "    a.append(i)\n",
    "print(a)\n",
    "b=[\"apple\",\"banana\"]\n",
    "b.append(a)\n",
    "print(b)  \n",
    "    "
   ]
  },
  {
   "cell_type": "code",
   "execution_count": 13,
   "metadata": {},
   "outputs": [
    {
     "name": "stdout",
     "output_type": "stream",
     "text": [
      "[10, 20, 30, 40, 100, 60]\n"
     ]
    }
   ],
   "source": [
    "#usinng insert\n",
    "s=[10,20,30,40,60]\n",
    "s.insert(4,100)\n",
    "print(s)"
   ]
  },
  {
   "cell_type": "code",
   "execution_count": 15,
   "metadata": {},
   "outputs": [
    {
     "name": "stdout",
     "output_type": "stream",
     "text": [
      "[10, 20, 30, 40, 1, 2, 3, 4]\n"
     ]
    }
   ],
   "source": [
    "#extend\n",
    "e=[10,20,30,40]\n",
    "e.extend([1,2,3,4])\n",
    "print(e)"
   ]
  },
  {
   "cell_type": "code",
   "execution_count": 17,
   "metadata": {},
   "outputs": [
    {
     "name": "stdout",
     "output_type": "stream",
     "text": [
      "[1, 2, 3, 45, 5]\n",
      "[1, 3, 45, 5]\n"
     ]
    }
   ],
   "source": [
    "d=[1,2,3,45,5]\n",
    "print(d)\n",
    "d.remove(2)\n",
    "print(d)"
   ]
  },
  {
   "cell_type": "code",
   "execution_count": 18,
   "metadata": {},
   "outputs": [
    {
     "name": "stdout",
     "output_type": "stream",
     "text": [
      "[5, 2, 5, 4, 7]\n",
      "[5, 2, 5, 4]\n"
     ]
    }
   ],
   "source": [
    "#pop= ,remove the last value of the list\n",
    "r=[5,2,5,4,7]\n",
    "print(r)\n",
    "r.pop()\n",
    "print(r)"
   ]
  },
  {
   "cell_type": "code",
   "execution_count": 19,
   "metadata": {},
   "outputs": [
    {
     "name": "stdout",
     "output_type": "stream",
     "text": [
      "[1, 2, 3, 4, 5]\n",
      "[5, 4, 3, 2, 1]\n"
     ]
    }
   ],
   "source": [
    "#reverse\n",
    "r=[1,2,3,4,5]\n",
    "print(r)\n",
    "r.reverse()\n",
    "print(r)"
   ]
  },
  {
   "cell_type": "code",
   "execution_count": 20,
   "metadata": {},
   "outputs": [
    {
     "name": "stdout",
     "output_type": "stream",
     "text": [
      "[1, 2, 36, 9, 8, 5, 6, 5, 4, 5, 6]\n",
      "[1, 2, 4, 5, 5, 5, 6, 6, 8, 9, 36]\n"
     ]
    }
   ],
   "source": [
    "#ascending order using sorting\n",
    "r=[1,2,36,9,8,5,6,5,4,5,6,]\n",
    "print(r)\n",
    "r.sort()\n",
    "print(r)"
   ]
  },
  {
   "cell_type": "code",
   "execution_count": 27,
   "metadata": {},
   "outputs": [
    {
     "name": "stdout",
     "output_type": "stream",
     "text": [
      "[1, 2, 3, 4, 5, 9, 88, 66, 55, 44, 77, 22]\n",
      "[1, 2, 3, 4, 5, 9, 22, 44, 55, 66, 77, 88]\n",
      "[88, 77, 66, 55, 44, 22, 9, 5, 4, 3, 2, 1]\n"
     ]
    }
   ],
   "source": [
    "#descending order using sorting\n",
    "e=[1,2,3,4,5,9,88,66,55,44,77,22]\n",
    "print(e)\n",
    "e.sort()\n",
    "print(e)\n",
    "e.reverse()\n",
    "print(e)\n",
    "\n",
    "\n",
    "\n",
    "\n",
    "\n",
    "\n"
   ]
  },
  {
   "cell_type": "code",
   "execution_count": 30,
   "metadata": {},
   "outputs": [
    {
     "data": {
      "text/plain": [
       "[5, 4, 3, 2, 1]"
      ]
     },
     "execution_count": 30,
     "metadata": {},
     "output_type": "execute_result"
    }
   ],
   "source": [
    "e=[1,2,3,4,5]\n",
    "sorted(e,reverse=True)"
   ]
  },
  {
   "cell_type": "code",
   "execution_count": 36,
   "metadata": {},
   "outputs": [
    {
     "name": "stdout",
     "output_type": "stream",
     "text": [
      "[1, 2, 3, 4, 4, 5]\n"
     ]
    }
   ],
   "source": [
    "HELLO=[1,2,3,4,5]\n",
    "HELLO.insert(3,4)\n",
    "print(HELLO)"
   ]
  },
  {
   "cell_type": "code",
   "execution_count": 1,
   "metadata": {},
   "outputs": [
    {
     "name": "stdout",
     "output_type": "stream",
     "text": [
      "attempt1of 3\n"
     ]
    },
    {
     "name": "stdout",
     "output_type": "stream",
     "text": [
      "invalid username\n",
      "invalid password\n",
      "Access denied. Try again.\n",
      "attempt2of 3\n",
      "invalid username\n",
      "invalid password\n",
      "Access denied. Try again.\n",
      "attempt3of 3\n",
      "too many attempt\n"
     ]
    }
   ],
   "source": [
    "balance=123456789\n",
    "uname=\"admin\"\n",
    "pwd=\"hahah\"\n",
    "attempt=0\n",
    "while True:\n",
    "    attempt+=1\n",
    "    print(f'attempt{attempt}of 3')\n",
    "    username=(input(\"enter the usernme\"))\n",
    "    password=(input(\"enter the password\"))\n",
    "    if attempt==3:\n",
    "        print(\"too many attempt\")\n",
    "        break\n",
    "    if username!=uname:\n",
    "        print(\"invalid username\")\n",
    "    if password!=pwd:\n",
    "        print(\"invalid password\")\n",
    "    if username==uname and password==pwd:\n",
    "        print(\"welcome\")\n",
    "        print('Access granted')\n",
    "        print(\"Hi, Welcome to the  digipodium Atm.\")\n",
    "        print(\"please select one of the options given below\")\n",
    "        print(\"\"\"\n",
    "    D = Deposit\n",
    "    W = Withdrawal\n",
    "    T = Transfer\n",
    "    B = Balance check\n",
    "    Q = Quick cash of 250\n",
    "    E = Exit\n",
    "    Please select in the next line.   \n",
    "    \"\"\")\n",
    "    option=input(\"which option would you like?:\")\n",
    "    if option==(\"D\"):\n",
    "     print(\"How much would you like to deposit?\")\n",
    "     amount=(int(input(\"amount:\")))\n",
    "     total=amount+balance\n",
    "     print(\"total amaount:\",total)\n",
    "     print(\"thankyou visit again\")\n",
    "     break\n",
    "    elif option ==(\"W\"):\n",
    "       print(\"How much would you like to withdrawl?\")\n",
    "       withdrawl=int(input(\"how much would you like to take out:?\"))\n",
    "       if balance<withdrawl:\n",
    "        print(\"Error, insufficent funds\")\n",
    "        print(\"please try again\")\n",
    "        print(\"thankyou visit again\")\n",
    "        break\n",
    "        if  balance>=withdrawl:\n",
    "         print(\"your withdrawl amount\",withdrawl)\n",
    "         print(\"your remaing balance:\",balance-withdrawl) \n",
    "         break   \n",
    "    elif option == \"T\":\n",
    "     print(\"don't worry about the technicalities, we already know who you're transferring to\")\n",
    "     transfer =int(input(\"How much would you like to transfer:?\"))\n",
    "     print(\"you now have\", balance-transfer,\"rupees in your bank\")\n",
    "     print(\"thankyou visit again\")\n",
    "     break\n",
    "    elif option==\"B\":\n",
    "     print(\"you currently have\",balance,\"rupees.\")\n",
    "     print(\"thankyou visit again\")\n",
    "     break\n",
    "    elif option==\"Q\":\n",
    "     print(\"processing transaction, please await approval\")\n",
    "     quicky=balance-250\n",
    "     print(\"thankyou visit again\")\n",
    "     if balance<quicky:\n",
    "         print(\"processing transaction, please await approval\")\n",
    "         print(\"Error, You're broke.:(\")\n",
    "         print(\"thankyou visit again\")\n",
    "         break\n",
    "    elif option==\"E\":\n",
    "      print(\"Thanks for checking with the Atm\")\n",
    "      print(\"press the enter key to exit\")\n",
    "      print(\"thankyou visit again\")\n",
    "      break\n",
    "\n",
    "    else:\n",
    "     print('Access denied. Try again.')\n",
    " \n",
    "        \n"
   ]
  },
  {
   "cell_type": "code",
   "execution_count": 5,
   "metadata": {},
   "outputs": [
    {
     "name": "stdout",
     "output_type": "stream",
     "text": [
      "not weird\n",
      "weird\n",
      "not weird\n"
     ]
    }
   ],
   "source": [
    "\n",
    "n = int(input())\n",
    "if n%2!=0:\n",
    "    print('weird')\n",
    "for i in range(2,5):\n",
    "   if n%2==0:\n",
    "    print(\"not weird\") \n",
    "    break\n",
    "for i in range(6,20):\n",
    "   if n%2==0:\n",
    "    print(\"weird\")\n",
    "    break\n",
    "if n>20 and n%2==0: \n",
    "    print(\"not weird\")   "
   ]
  },
  {
   "cell_type": "code",
   "execution_count": 2,
   "metadata": {},
   "outputs": [
    {
     "name": "stdout",
     "output_type": "stream",
     "text": [
      "0\n",
      "1\n",
      "4\n",
      "9\n",
      "16\n"
     ]
    }
   ],
   "source": [
    "n = int(input())\n",
    "for i in range(n):\n",
    "    print(i**2)"
   ]
  },
  {
   "cell_type": "code",
   "execution_count": 1,
   "metadata": {},
   "outputs": [
    {
     "ename": "ValueError",
     "evalue": "invalid literal for int() with base 10: 'h'",
     "output_type": "error",
     "traceback": [
      "\u001b[1;31m---------------------------------------------------------------------------\u001b[0m",
      "\u001b[1;31mValueError\u001b[0m                                Traceback (most recent call last)",
      "Cell \u001b[1;32mIn[1], line 2\u001b[0m\n\u001b[0;32m      1\u001b[0m \u001b[39m#creating the table\u001b[39;00m\n\u001b[1;32m----> 2\u001b[0m num\u001b[39m=\u001b[39m\u001b[39mint\u001b[39m(\u001b[39minput\u001b[39m(\u001b[39m\"\u001b[39m\u001b[39menter the number:\u001b[39m\u001b[39m\"\u001b[39m))\n\u001b[0;32m      3\u001b[0m \u001b[39mfor\u001b[39;00m i \u001b[39min\u001b[39;00m \u001b[39mrange\u001b[39m(\u001b[39m11\u001b[39m):\n\u001b[0;32m      4\u001b[0m     \u001b[39mprint\u001b[39m(num,\u001b[39m\"\u001b[39m\u001b[39m*\u001b[39m\u001b[39m\"\u001b[39m,i,\u001b[39m\"\u001b[39m\u001b[39m=\u001b[39m\u001b[39m\"\u001b[39m,num\u001b[39m*\u001b[39mi)\n",
      "\u001b[1;31mValueError\u001b[0m: invalid literal for int() with base 10: 'h'"
     ]
    }
   ],
   "source": [
    "#creating the table\n",
    "num=int(input(\"enter the number:\"))\n",
    "for i in range(11):\n",
    "    print(num,\"*\",i,\"=\",num*i)"
   ]
  },
  {
   "cell_type": "code",
   "execution_count": null,
   "metadata": {},
   "outputs": [],
   "source": []
  }
 ],
 "metadata": {
  "kernelspec": {
   "display_name": "Python 3",
   "language": "python",
   "name": "python3"
  },
  "language_info": {
   "codemirror_mode": {
    "name": "ipython",
    "version": 3
   },
   "file_extension": ".py",
   "mimetype": "text/x-python",
   "name": "python",
   "nbconvert_exporter": "python",
   "pygments_lexer": "ipython3",
   "version": "3.11.4"
  },
  "orig_nbformat": 4
 },
 "nbformat": 4,
 "nbformat_minor": 2
}
