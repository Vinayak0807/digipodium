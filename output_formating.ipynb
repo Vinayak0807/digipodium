{
 "cells": [
  {
   "cell_type": "code",
   "execution_count": 1,
   "metadata": {},
   "outputs": [
    {
     "name": "stdout",
     "output_type": "stream",
     "text": [
      "a,  b,  c  ,d\n"
     ]
    }
   ],
   "source": [
    "print(\"a,  b,  c  ,d\")"
   ]
  },
  {
   "cell_type": "code",
   "execution_count": 2,
   "metadata": {},
   "outputs": [
    {
     "name": "stdout",
     "output_type": "stream",
     "text": [
      "samosa      chutney      mirchi\n"
     ]
    }
   ],
   "source": [
    "#use od sep\n",
    "print('samosa',\"chutney\",'mirchi',sep=\"      \")"
   ]
  },
  {
   "cell_type": "code",
   "execution_count": 4,
   "metadata": {},
   "outputs": [
    {
     "name": "stdout",
     "output_type": "stream",
     "text": [
      "samosa  \n",
      "   chutney  \n",
      "   mirchi\n"
     ]
    }
   ],
   "source": [
    "\n",
    "print('samosa',\"chutney\",'mirchi',sep=\"  \\n   \")"
   ]
  },
  {
   "cell_type": "code",
   "execution_count": 5,
   "metadata": {},
   "outputs": [
    {
     "name": "stdout",
     "output_type": "stream",
     "text": [
      "samosa  \t   chutney  \t   mirchi\n"
     ]
    }
   ],
   "source": [
    "print('samosa',\"chutney\",'mirchi',sep=\"  \\t   \")"
   ]
  },
  {
   "cell_type": "code",
   "execution_count": 6,
   "metadata": {},
   "outputs": [
    {
     "name": "stdout",
     "output_type": "stream",
     "text": [
      "abra*na*dabra*"
     ]
    }
   ],
   "source": [
    "print('abra',end='*')\n",
    "print('na',end='*')\n",
    "print('dabra',end='*')"
   ]
  },
  {
   "cell_type": "code",
   "execution_count": 12,
   "metadata": {},
   "outputs": [
    {
     "name": "stdout",
     "output_type": "stream",
     "text": [
      "my name is vinayak and my hobby is  sleeping\n"
     ]
    }
   ],
   "source": [
    "#concatenation of strings\n",
    "name =\"vinayak\"\n",
    "hobby=\"sleeping\"\n",
    "print('my name is ' +name+ ' and my hobby is  ' + hobby)"
   ]
  },
  {
   "cell_type": "code",
   "execution_count": 14,
   "metadata": {},
   "outputs": [
    {
     "name": "stdout",
     "output_type": "stream",
     "text": [
      "my name is vinayak and my hobby is sleeping\n"
     ]
    }
   ],
   "source": [
    "# f-string\n",
    "print(f'my name is {name} and my hobby is {hobby}')"
   ]
  },
  {
   "cell_type": "code",
   "execution_count": 1,
   "metadata": {},
   "outputs": [],
   "source": [
    "#while loop\n",
    "#we use while when we dont know how much time we have to run the loop"
   ]
  },
  {
   "cell_type": "code",
   "execution_count": 3,
   "metadata": {},
   "outputs": [
    {
     "name": "stdout",
     "output_type": "stream",
     "text": [
      "19\n",
      "18\n",
      "17\n",
      "16\n",
      "15\n",
      "14\n",
      "13\n",
      "12\n",
      "11\n",
      "10\n",
      "10\n"
     ]
    }
   ],
   "source": [
    "num=20\n",
    "while num>10:\n",
    "    num=num-1\n",
    "    print(num)\n",
    "print(num)    "
   ]
  },
  {
   "cell_type": "code",
   "execution_count": 4,
   "metadata": {},
   "outputs": [
    {
     "name": "stdout",
     "output_type": "stream",
     "text": [
      "wrong password!\n",
      "welcome my master\n"
     ]
    }
   ],
   "source": [
    "mypassword=\"12345\"\n",
    "\n",
    "while True:\n",
    "\n",
    "    pwd=input(\"enter your password\")\n",
    "    if pwd==mypassword:\n",
    "        print('welcome my master')\n",
    "        break\n",
    "    else:\n",
    "        print('wrong password!')\n"
   ]
  },
  {
   "cell_type": "code",
   "execution_count": 5,
   "metadata": {},
   "outputs": [
    {
     "name": "stdout",
     "output_type": "stream",
     "text": [
      "wrong password!\n",
      "wrong password!\n",
      "wrong password!\n",
      "limit reached\n"
     ]
    }
   ],
   "source": [
    "mypassword=\"12345\"\n",
    "count=0\n",
    "while True:\n",
    "\n",
    "    pwd=input(\"enter your password\")\n",
    "    if pwd==mypassword:\n",
    "        print('welcome my master')\n",
    "        break\n",
    "    else:\n",
    "        print('wrong password!')\n",
    "    count+=1\n",
    "    if count==3:\n",
    "        print('limit reached') \n",
    "        break   "
   ]
  },
  {
   "cell_type": "code",
   "execution_count": 7,
   "metadata": {},
   "outputs": [
    {
     "name": "stdout",
     "output_type": "stream",
     "text": [
      "12345\n",
      "reverse number 54321\n"
     ]
    }
   ],
   "source": [
    "num =int(input(\"enter the number:\"))\n",
    "reverse=0\n",
    "print(num)\n",
    "while num>0:\n",
    "    d=num%10\n",
    "    reverse=reverse*10+d\n",
    "    num=num//10\n",
    "print('reverse number',reverse)    "
   ]
  },
  {
   "cell_type": "code",
   "execution_count": 12,
   "metadata": {},
   "outputs": [
    {
     "name": "stdout",
     "output_type": "stream",
     "text": [
      "123\n",
      "reverse number 321\n",
      "not a palendrome\n"
     ]
    }
   ],
   "source": [
    "num =int(input(\"enter the number:\"))\n",
    "copy=num\n",
    "reverse=0\n",
    "print(num)\n",
    "while num>0:\n",
    "    d=num%10\n",
    "    reverse=reverse*10+d\n",
    "    num=num//10\n",
    "print('reverse number',reverse)  \n",
    "if copy==reverse:\n",
    "    print('palendrome')\n",
    "else:\n",
    "    print('not a palendrome')    "
   ]
  },
  {
   "cell_type": "code",
   "execution_count": 13,
   "metadata": {},
   "outputs": [
    {
     "data": {
      "text/plain": [
       "343"
      ]
     },
     "execution_count": 13,
     "metadata": {},
     "output_type": "execute_result"
    }
   ],
   "source": [
    "7**3"
   ]
  },
  {
   "cell_type": "code",
   "execution_count": 14,
   "metadata": {},
   "outputs": [
    {
     "data": {
      "text/plain": [
       "407"
      ]
     },
     "execution_count": 14,
     "metadata": {},
     "output_type": "execute_result"
    }
   ],
   "source": [
    "64+343"
   ]
  },
  {
   "cell_type": "code",
   "execution_count": null,
   "metadata": {},
   "outputs": [],
   "source": []
  }
 ],
 "metadata": {
  "kernelspec": {
   "display_name": "Python 3",
   "language": "python",
   "name": "python3"
  },
  "language_info": {
   "codemirror_mode": {
    "name": "ipython",
    "version": 3
   },
   "file_extension": ".py",
   "mimetype": "text/x-python",
   "name": "python",
   "nbconvert_exporter": "python",
   "pygments_lexer": "ipython3",
   "version": "3.9.0"
  },
  "orig_nbformat": 4
 },
 "nbformat": 4,
 "nbformat_minor": 2
}
